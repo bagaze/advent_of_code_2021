{
 "cells": [
  {
   "cell_type": "markdown",
   "id": "2f7cb8bb-8a77-4530-9da2-1b7475f234e8",
   "metadata": {},
   "source": [
    "# Day 10: Syntax Scoring"
   ]
  },
  {
   "cell_type": "markdown",
   "id": "997a2c5d-75a6-486c-b291-a2a185e75bcc",
   "metadata": {},
   "source": [
    "## Part one"
   ]
  },
  {
   "cell_type": "markdown",
   "id": "d3d4b615-f354-4909-91c3-598162f093d2",
   "metadata": {},
   "source": [
    "You ask the submarine to determine the best route out of the deep-sea cave, but it only replies:\n",
    "\n",
    "`Syntax error in navigation subsystem on line: all of them`\n",
    "\n",
    "**All of them?!** The damage is worse than you thought. You bring up a copy of the navigation subsystem (your puzzle input).\n",
    "\n",
    "The navigation subsystem syntax is made of several lines containing **chunks**. There are one or more chunks on each line, and chunks contain zero or more other chunks. Adjacent chunks are not separated by any delimiter; if one chunk stops, the next chunk (if any) can immediately start. Every chunk must **open** and **close** with one of four legal pairs of matching characters:\n",
    "\n",
    "- If a chunk opens with `(`, it must close with `)`.\n",
    "- If a chunk opens with `[`, it must close with `]`.\n",
    "- If a chunk opens with `{`, it must close with `}`.\n",
    "- If a chunk opens with `<`, it must close with `>`.\n",
    "\n",
    "So, () is a legal chunk that contains no other chunks, as is `[]`. More complex but valid chunks include `([])`, `{()()()}`, `<([{}])>`, `[<>({}){}[([])<>]]`, and even `(((((((((())))))))))`.\n",
    "\n",
    "Some lines are **incomplete**, but others are **corrupted**. Find and discard the corrupted lines first.\n",
    "\n",
    "A corrupted line is one where a chunk **closes with the wrong character** - that is, where the characters it opens and closes with do not form one of the four legal pairs listed above.\n",
    "\n",
    "Examples of corrupted chunks include `(]`, `{()()()>`, `(((()))}`, and `<([]){()}[{}])`. Such a chunk can appear anywhere within a line, and its presence causes the whole line to be considered corrupted.\n",
    "\n",
    "For example, consider the following navigation subsystem:\n",
    "\n",
    "```\n",
    "[({(<(())[]>[[{[]{<()<>>\n",
    "[(()[<>])]({[<{<<[]>>(\n",
    "{([(<{}[<>[]}>{[]{[(<()>\n",
    "(((({<>}<{<{<>}{[]{[]{}\n",
    "[[<[([]))<([[{}[[()]]]\n",
    "[{[{({}]{}}([{[{{{}}([]\n",
    "{<[[]]>}<{[{[{[]{()[[[]\n",
    "[<(<(<(<{}))><([]([]()\n",
    "<{([([[(<>()){}]>(<<{{\n",
    "<{([{{}}[<[[[<>{}]]]>[]]\n",
    "```\n",
    "\n",
    "Some of the lines aren't corrupted, just incomplete; you can ignore these lines for now. The remaining five lines are corrupted:\n",
    "\n",
    "- `{([(<{}[<>[]}>{[]{[(<()>` - Expected `]`, but found `}` instead.\n",
    "- `[[<[([]))<([[{}[[()]]]` - Expected `]`, but found `)` instead.\n",
    "- `[{[{({}]{}}([{[{{{}}([]` - Expected `)`, but found `]` instead.\n",
    "- `[<(<(<(<{}))><([]([]()` - Expected `>`, but found `)` instead.\n",
    "- `<{([([[(<>()){}]>(<<{{` - Expected `]`, but found `>` instead.\n",
    "\n",
    "Stop at the first incorrect closing character on each corrupted line.\n",
    "\n",
    "Did you know that syntax checkers actually have contests to see who can get the high score for syntax errors in a file? It's true! To calculate the syntax error score for a line, take the **first illegal character** on the line and look it up in the following table:\n",
    "\n",
    "- `)`: `3` points.\n",
    "- `]`: `57` points.\n",
    "- `}`: `1197` points.\n",
    "- `>`: `25137` points.\n",
    "\n",
    "In the above example, an illegal `)` was found twice (`2*3 =`**`6`** points), an illegal ] was found once (**`57`** points), an illegal `}` was found once (**`1197`** points), and an illegal `>` was found once (**`25137`** points). So, the total syntax error score for this file is `6+57+1197+25137` = `26397` points!\n",
    "\n",
    "Find the first illegal character in each corrupted line of the navigation subsystem. **What is the total syntax error score for those errors?**"
   ]
  },
  {
   "cell_type": "code",
   "execution_count": 1,
   "id": "933e8f4b-c6bb-4902-9efc-428b1558ca03",
   "metadata": {},
   "outputs": [
    {
     "data": {
      "text/plain": [
       "['(((<(([{{((<[[<><>]<()[]>]{[{}()]<(){}>}>[<([]{})>])(<<(<><>>[<><>]>(<{}()><(){}>)>[(([])<[]()>)])){<((<{}()',\n",
       " '{(({({<[[[{[{({}{})[[]{}]}[{(){}}((){})]][{((){}){[]{}}}<(()())<<><>>>]}]]]{([<{<<()()>([][])>({[]()}[{}<',\n",
       " '[[{<(([<<{(<[[()()]]{[[]()]<{}>}><{{{}()}<<>[]>><(())[()[]]>>)([{[[][]][()()]}{{()()}}](<{{}()}>))}[([{<<']"
      ]
     },
     "execution_count": 1,
     "metadata": {},
     "output_type": "execute_result"
    }
   ],
   "source": [
    "input_lines = []\n",
    "\n",
    "with open('data/input.txt', 'r') as input_f:\n",
    "    for input_line in input_f.read().splitlines():\n",
    "        input_lines.append(input_line)\n",
    "        \n",
    "input_lines[:3]"
   ]
  },
  {
   "cell_type": "code",
   "execution_count": 2,
   "id": "574fd9af-86c1-45c5-b0eb-64ffbe116d4b",
   "metadata": {},
   "outputs": [],
   "source": [
    "CHECK_MAP = {\n",
    "    ')': '(',\n",
    "    ']': '[',\n",
    "    '}': '{',\n",
    "    '>': '<',\n",
    "}\n",
    "\n",
    "INVERTED_CHECK_MAP = {\n",
    "    '(': ')',\n",
    "    '[': ']',\n",
    "    '{': '}',\n",
    "    '<': '>',\n",
    "}\n",
    "\n",
    "VALUE_MAP = {\n",
    "    ')': 3,\n",
    "    ']': 57,\n",
    "    '}': 1197,\n",
    "    '>': 25137,\n",
    "}"
   ]
  },
  {
   "cell_type": "code",
   "execution_count": 3,
   "id": "4d243818-49cd-4db2-b0f5-a8072f43a381",
   "metadata": {},
   "outputs": [],
   "source": [
    "from queue import LifoQueue\n",
    "\n",
    "DEBUG = False\n",
    "\n",
    "def validate_line(line):\n",
    "    lifo_queue = LifoQueue()\n",
    "\n",
    "    for char in line:\n",
    "        if char in CHECK_MAP.keys():\n",
    "            opening_char = lifo_queue.get()\n",
    "            if CHECK_MAP[char] != opening_char:\n",
    "                if DEBUG: print('Incorrect! Expected %s but found %s instead' % (INVERTED_CHECK_MAP[opening_char], char, ))\n",
    "                return VALUE_MAP[char]\n",
    "        else:\n",
    "            lifo_queue.put(char)\n",
    "    \n",
    "    return 0"
   ]
  },
  {
   "cell_type": "code",
   "execution_count": 4,
   "id": "546751ab-c0b5-4a39-956a-38ce4f5580a5",
   "metadata": {},
   "outputs": [
    {
     "data": {
      "text/plain": [
       "1197"
      ]
     },
     "execution_count": 4,
     "metadata": {},
     "output_type": "execute_result"
    }
   ],
   "source": [
    "input_lines = []\n",
    "\n",
    "with open('data/input_test.txt', 'r') as input_f:\n",
    "    for input_line in input_f.read().splitlines():\n",
    "        input_lines.append(input_line)\n",
    "        \n",
    "validate_line(input_lines[2])"
   ]
  },
  {
   "cell_type": "code",
   "execution_count": 5,
   "id": "e87d06a3-cbce-488a-bbf1-18e829b6acfd",
   "metadata": {},
   "outputs": [
    {
     "data": {
      "text/plain": [
       "323613"
      ]
     },
     "execution_count": 5,
     "metadata": {},
     "output_type": "execute_result"
    }
   ],
   "source": [
    "input_lines = []\n",
    "\n",
    "with open('data/input.txt', 'r') as input_f:\n",
    "    for input_line in input_f.read().splitlines():\n",
    "        input_lines.append(input_line)\n",
    "\n",
    "res = 0\n",
    "for line in input_lines:\n",
    "    res += validate_line(line)\n",
    "    \n",
    "res"
   ]
  },
  {
   "cell_type": "markdown",
   "id": "3ccc820c-0d0b-410c-9609-675f27eff602",
   "metadata": {},
   "source": [
    "## Part two"
   ]
  },
  {
   "cell_type": "markdown",
   "id": "8405b866-9590-43ba-9539-b42e51c5e068",
   "metadata": {},
   "source": [
    "Now, discard the corrupted lines. The remaining lines are **incomplete**.\n",
    "\n",
    "Incomplete lines don't have any incorrect characters - instead, they're missing some closing characters at the end of the line. To repair the navigation subsystem, you just need to figure out **the sequence of closing characters** that complete all open chunks in the line.\n",
    "\n",
    "You can only use closing characters `()`, `]`, `}`, or `>)`, and you must add them in the correct order so that only legal pairs are formed and all chunks end up closed.\n",
    "\n",
    "In the example above, there are five incomplete lines:\n",
    "\n",
    "- `[({(<(())[]>[[{[]{<()<>>` - Complete by adding `}}]])})]`.\n",
    "- `[(()[<>])]({[<{<<[]>>(` - Complete by adding `)}>]})`.\n",
    "- `(((({<>}<{<{<>}{[]{[]{}` - Complete by adding `}}>}>))))`.\n",
    "- `{<[[]]>}<{[{[{[]{()[[[]` - Complete by adding `]]}}]}]}>`.\n",
    "- `<{([{{}}[<[[[<>{}]]]>[]]` - Complete by adding `])}>`.\n",
    "\n",
    "\n",
    "Did you know that autocomplete tools **also** have contests? It's true! The score is determined by considering the completion string character-by-character. Start with a total score of 0. Then, for each character, multiply the total score by 5 and then increase the total score by the point value given for the character in the following table:\n",
    "\n",
    "- `)`: `1` point.\n",
    "- `]`: `2` points.\n",
    "- `}`: `3` points.\n",
    "- `>`: `4` points.\n",
    "\n",
    "So, the last completion string above - `])}>` - would be scored as follows:\n",
    "\n",
    "- Start with a total score of `0`.\n",
    "- Multiply the total score by `5` to get `0`, then add the value of `]` (`2`) to get a new total score of `2`.\n",
    "- Multiply the total score by `5` to get `10`, then add the value of `)` (`1`) to get a new total score of `11`.\n",
    "- Multiply the total score by `5` to get `55`, then add the value of `}` (`3`) to get a new total score of `58`.\n",
    "- Multiply the total score by `5` to get `290`, then add the value of `>` (`4`) to get a new total score of `294`.\n",
    "\n",
    "The five lines' completion strings have total scores as follows:\n",
    "\n",
    "- `}}]])})]` - `288957` total points.\n",
    "- `)}>]})` - `5566` total points.\n",
    "- `}}>}>))))` - `1480781` total points.\n",
    "- `]]}}]}]}>` - `995444` total points.\n",
    "- `])}>` - `294` total points.\n",
    "\n",
    "Autocomplete tools are an odd bunch: the winner is found by **sorting** all of the scores and then taking the **middle** score. (There will always be an odd number of scores to consider.) In this example, the middle score is `288957` because there are the same number of scores smaller and larger than it.\n",
    "\n",
    "Find the completion string for each incomplete line, score the completion strings, and sort the scores. **What is the middle score?**"
   ]
  },
  {
   "cell_type": "code",
   "execution_count": 6,
   "id": "e2ce7767-e707-4e8b-906e-3da7d9798d40",
   "metadata": {},
   "outputs": [
    {
     "data": {
      "text/plain": [
       "'}}]])})]'"
      ]
     },
     "execution_count": 6,
     "metadata": {},
     "output_type": "execute_result"
    }
   ],
   "source": [
    "from queue import LifoQueue\n",
    "\n",
    "DEBUG = False\n",
    "\n",
    "def complete_line(line):\n",
    "    lifo_queue = LifoQueue()\n",
    "\n",
    "    for char in line:\n",
    "        if char in CHECK_MAP.keys():\n",
    "            opening_char = lifo_queue.get()\n",
    "            if CHECK_MAP[char] != opening_char:\n",
    "                if DEBUG: print('Incorrect! Expected %s but found %s instead' % (INVERTED_CHECK_MAP[opening_char], char, ))\n",
    "                return ''\n",
    "        else:\n",
    "            lifo_queue.put(char)\n",
    "            \n",
    "    if DEBUG:\n",
    "        queue_content = ''\n",
    "        for opened_char in lifo_queue.queue:\n",
    "            queue_content += opened_char\n",
    "            \n",
    "        print('content of queue: %s' % (queue_content, ))\n",
    "    \n",
    "    ending_str = ''\n",
    "    while not(lifo_queue.empty()):\n",
    "        opened_char = lifo_queue.get()\n",
    "        ending_str += INVERTED_CHECK_MAP[opened_char]\n",
    "    \n",
    "    return ending_str\n",
    "\n",
    "complete_line('[({(<(())[]>[[{[]{<()<>>')"
   ]
  },
  {
   "cell_type": "code",
   "execution_count": 7,
   "id": "b9f8ef16-3029-465b-b8c3-3a476fca5496",
   "metadata": {},
   "outputs": [
    {
     "data": {
      "text/plain": [
       "288957"
      ]
     },
     "execution_count": 7,
     "metadata": {},
     "output_type": "execute_result"
    }
   ],
   "source": [
    "CHAR_VALUE = {\n",
    "    ')': 1,\n",
    "    ']': 2,\n",
    "    '}': 3,\n",
    "    '>': 4,\n",
    "}\n",
    "\n",
    "def score_chunk(chunk):\n",
    "    score = 0\n",
    "    \n",
    "    for char in chunk:\n",
    "        score *= 5\n",
    "        score += CHAR_VALUE[char]\n",
    "        \n",
    "    return score\n",
    "\n",
    "score_chunk('}}]])})]')"
   ]
  },
  {
   "cell_type": "code",
   "execution_count": 8,
   "id": "90bfe3c2-b070-4901-9e32-e450c82a33d7",
   "metadata": {},
   "outputs": [
    {
     "data": {
      "text/plain": [
       "45"
      ]
     },
     "execution_count": 8,
     "metadata": {},
     "output_type": "execute_result"
    }
   ],
   "source": [
    "input_lines = []\n",
    "\n",
    "with open('data/input.txt', 'r') as input_f:\n",
    "    for input_line in input_f.read().splitlines():\n",
    "        input_lines.append(input_line)\n",
    "\n",
    "completed_chunks = []\n",
    "for line in input_lines:\n",
    "    completed_chunk = complete_line(line)\n",
    "    if completed_chunk != '':\n",
    "        completed_chunks.append(completed_chunk)\n",
    "    \n",
    "len(completed_chunks)"
   ]
  },
  {
   "cell_type": "code",
   "execution_count": 9,
   "id": "ac963ca6-447b-4a14-bfb4-3fd1292055d9",
   "metadata": {},
   "outputs": [
    {
     "data": {
      "text/plain": [
       "3103006161"
      ]
     },
     "execution_count": 9,
     "metadata": {},
     "output_type": "execute_result"
    }
   ],
   "source": [
    "scored_chunks = []\n",
    "\n",
    "for completed_chunk in completed_chunks:\n",
    "    scored_chunk = score_chunk(completed_chunk)\n",
    "    scored_chunks.append(scored_chunk)\n",
    "    \n",
    "scored_chunks.sort()\n",
    "scored_chunks[int(len(scored_chunks) / 2)]"
   ]
  },
  {
   "cell_type": "markdown",
   "id": "c9455929-83ea-45e7-a523-9b6fa5545920",
   "metadata": {},
   "source": [
    "Your puzzle answer was `3103006161`."
   ]
  }
 ],
 "metadata": {
  "kernelspec": {
   "display_name": "Python 3 (ipykernel)",
   "language": "python",
   "name": "python3"
  },
  "language_info": {
   "codemirror_mode": {
    "name": "ipython",
    "version": 3
   },
   "file_extension": ".py",
   "mimetype": "text/x-python",
   "name": "python",
   "nbconvert_exporter": "python",
   "pygments_lexer": "ipython3",
   "version": "3.9.9"
  }
 },
 "nbformat": 4,
 "nbformat_minor": 5
}
