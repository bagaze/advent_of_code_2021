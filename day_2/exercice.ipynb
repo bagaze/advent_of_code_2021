{
 "cells": [
  {
   "cell_type": "markdown",
   "id": "6ecf48d8-c3fa-476e-8930-ca83a7c6c028",
   "metadata": {},
   "source": [
    "# Day 2: Dive!"
   ]
  },
  {
   "cell_type": "markdown",
   "id": "0501b7c3-6647-4363-9fe1-434e6403498f",
   "metadata": {},
   "source": [
    "## Part one"
   ]
  },
  {
   "cell_type": "markdown",
   "id": "b755b0c7-d3c6-460f-ab28-e7b909252e78",
   "metadata": {},
   "source": [
    "Now, you need to figure out how to pilot this thing.\n",
    "\n",
    "It seems like the submarine can take a series of commands like forward 1, down 2, or up 3:\n",
    "\n",
    "- `forward X` increases the horizontal position by X units.\n",
    "- `down X` increases the depth by X units.\n",
    "- `up X` decreases the depth by X units.\n",
    "\n",
    "Note that since you're on a submarine, down and up affect your depth, and so they have the opposite result of what you might expect.\n",
    "\n",
    "The submarine seems to already have a planned course (your puzzle input). You should probably figure out where it's going. For example:\n",
    "\n",
    "```\n",
    "forward 5\n",
    "down 5\n",
    "forward 8\n",
    "up 3\n",
    "down 8\n",
    "forward 2\n",
    "```\n",
    "\n",
    "Your horizontal position and depth both start at 0. The steps above would then modify them as follows:\n",
    "\n",
    "- `forward 5` adds 5 to your horizontal position, a total of 5.\n",
    "- `down 5` adds 5 to your depth, resulting in a value of 5.\n",
    "- `forward 8` adds 8 to your horizontal position, a total of 13.\n",
    "- `up 3` decreases your depth by 3, resulting in a value of 2.\n",
    "- `down 8` adds 8 to your depth, resulting in a value of 10.\n",
    "- `forward 2` adds 2 to your horizontal position, a total of 15.\n",
    "\n",
    "After following these instructions, you would have a horizontal position of 15 and a depth of 10. (Multiplying these together produces 150.)\n",
    "\n",
    "Calculate the horizontal position and depth you would have after following the planned course. **What do you get if you multiply your final horizontal position by your final depth?**\n"
   ]
  },
  {
   "cell_type": "code",
   "execution_count": 2,
   "id": "90b50068-6fc2-4abe-ab7f-aa4b97e63b38",
   "metadata": {},
   "outputs": [
    {
     "data": {
      "text/plain": [
       "[{'move': 'forward', 'value': 6},\n",
       " {'move': 'down', 'value': 8},\n",
       " {'move': 'down', 'value': 5},\n",
       " {'move': 'down', 'value': 9},\n",
       " {'move': 'forward', 'value': 2},\n",
       " {'move': 'down', 'value': 5},\n",
       " {'move': 'down', 'value': 5},\n",
       " {'move': 'forward', 'value': 1},\n",
       " {'move': 'forward', 'value': 7},\n",
       " {'move': 'down', 'value': 8}]"
      ]
     },
     "execution_count": 2,
     "metadata": {},
     "output_type": "execute_result"
    }
   ],
   "source": [
    "input_data = []\n",
    "\n",
    "with open('data/input.txt', 'r') as f:\n",
    "    for line in f.read().splitlines():\n",
    "        instr = {}\n",
    "        move, value = line.split()\n",
    "        instr['move'] = move\n",
    "        instr['value'] = int(value)\n",
    "        \n",
    "        input_data.append(instr)\n",
    "        \n",
    "input_data[:10]"
   ]
  },
  {
   "cell_type": "code",
   "execution_count": 7,
   "id": "4d3c64d9-f8ae-48fe-9cfa-da1ebaef48f0",
   "metadata": {},
   "outputs": [
    {
     "name": "stdout",
     "output_type": "stream",
     "text": [
      "hor_pos: 1890 - depth: 1172\n"
     ]
    }
   ],
   "source": [
    "hor_pos = 0\n",
    "depth = 0\n",
    "\n",
    "for instr in input_data:\n",
    "    if 'forward' == instr['move']:\n",
    "        hor_pos += instr['value']\n",
    "        \n",
    "    elif 'down' == instr['move']:\n",
    "        depth += instr['value']\n",
    "        \n",
    "    elif 'up' == instr['move']:\n",
    "        depth -= instr['value']\n",
    "        \n",
    "print(\"hor_pos: %s - depth: %s\" % (hor_pos, depth, ))"
   ]
  },
  {
   "cell_type": "code",
   "execution_count": 4,
   "id": "fd37304c-8650-42c2-b15d-b527e0da8ea4",
   "metadata": {},
   "outputs": [
    {
     "data": {
      "text/plain": [
       "2215080"
      ]
     },
     "execution_count": 4,
     "metadata": {},
     "output_type": "execute_result"
    }
   ],
   "source": [
    "hor_pos * depth"
   ]
  },
  {
   "cell_type": "markdown",
   "id": "6817e12f-0c83-4f60-a799-869de84e9987",
   "metadata": {},
   "source": [
    "Your puzzle answer was `2215080`."
   ]
  },
  {
   "cell_type": "markdown",
   "id": "fc59b5bd-e8c3-45d3-8f52-eab968df28fd",
   "metadata": {},
   "source": [
    "## Part two"
   ]
  },
  {
   "cell_type": "markdown",
   "id": "6a1fbc0d-0eea-4a16-baa4-4a58303065f9",
   "metadata": {},
   "source": [
    "Based on your calculations, the planned course doesn't seem to make any sense. You find the submarine manual and discover that the process is actually slightly more complicated.\n",
    "\n",
    "In addition to horizontal position and depth, you'll also need to track a third value, aim, which also starts at 0. The commands also mean something entirely different than you first thought:\n",
    "\n",
    "    down X increases your aim by X units.\n",
    "    up X decreases your aim by X units.\n",
    "    forward X does two things:\n",
    "        It increases your horizontal position by X units.\n",
    "        It increases your depth by your aim multiplied by X.\n",
    "\n",
    "Again note that since you're on a submarine, down and up do the opposite of what you might expect: \"down\" means aiming in the positive direction.\n",
    "\n",
    "Now, the above example does something different:\n",
    "\n",
    "    forward 5 adds 5 to your horizontal position, a total of 5. Because your aim is 0, your depth does not change.\n",
    "    down 5 adds 5 to your aim, resulting in a value of 5.\n",
    "    forward 8 adds 8 to your horizontal position, a total of 13. Because your aim is 5, your depth increases by 8*5=40.\n",
    "    up 3 decreases your aim by 3, resulting in a value of 2.\n",
    "    down 8 adds 8 to your aim, resulting in a value of 10.\n",
    "    forward 2 adds 2 to your horizontal position, a total of 15. Because your aim is 10, your depth increases by 2*10=20 to a total of 60.\n",
    "\n",
    "After following these new instructions, you would have a horizontal position of 15 and a depth of 60. (Multiplying these produces 900.)\n",
    "\n",
    "Using this new interpretation of the commands, calculate the horizontal position and depth you would have after following the planned course. What do you get if you multiply your final horizontal position by your final depth?"
   ]
  },
  {
   "cell_type": "code",
   "execution_count": 8,
   "id": "ae6926eb-7a19-4627-86c9-42a7403fa905",
   "metadata": {},
   "outputs": [
    {
     "name": "stdout",
     "output_type": "stream",
     "text": [
      "hor_pos: 1890 - depth: 986622\n"
     ]
    }
   ],
   "source": [
    "hor_pos = 0\n",
    "depth = 0\n",
    "aim = 0\n",
    "\n",
    "for instr in input_data:\n",
    "    if 'forward' == instr['move']:\n",
    "        hor_pos += instr['value']\n",
    "        depth += aim * instr['value']\n",
    "        \n",
    "    elif 'down' == instr['move']:\n",
    "        aim += instr['value']\n",
    "        \n",
    "    elif 'up' == instr['move']:\n",
    "        aim -= instr['value']\n",
    "        \n",
    "print(\"hor_pos: %s - depth: %s\" % (hor_pos, depth, ))"
   ]
  },
  {
   "cell_type": "code",
   "execution_count": 9,
   "id": "44aaf444-4f09-45ce-af66-8e49fe733250",
   "metadata": {},
   "outputs": [
    {
     "data": {
      "text/plain": [
       "1864715580"
      ]
     },
     "execution_count": 9,
     "metadata": {},
     "output_type": "execute_result"
    }
   ],
   "source": [
    "hor_pos * depth"
   ]
  },
  {
   "cell_type": "markdown",
   "id": "ea130ea8-e729-4514-843a-f2c91d9e0b66",
   "metadata": {},
   "source": [
    "Your puzzle answer was `1864715580`."
   ]
  }
 ],
 "metadata": {
  "kernelspec": {
   "display_name": "Python 3 (ipykernel)",
   "language": "python",
   "name": "python3"
  },
  "language_info": {
   "codemirror_mode": {
    "name": "ipython",
    "version": 3
   },
   "file_extension": ".py",
   "mimetype": "text/x-python",
   "name": "python",
   "nbconvert_exporter": "python",
   "pygments_lexer": "ipython3",
   "version": "3.9.9"
  }
 },
 "nbformat": 4,
 "nbformat_minor": 5
}
