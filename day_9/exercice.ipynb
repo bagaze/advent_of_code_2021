{
 "cells": [
  {
   "cell_type": "markdown",
   "id": "37d2d34c-ed69-495e-ad84-43b862c17ce3",
   "metadata": {},
   "source": [
    "# Day 9: Smoke Basin"
   ]
  },
  {
   "cell_type": "markdown",
   "id": "88102297-b79b-4738-b317-1667ba39dd80",
   "metadata": {},
   "source": [
    "## Part one"
   ]
  },
  {
   "cell_type": "markdown",
   "id": "22f9812d-f3d1-4eab-885a-8fcd7a85f160",
   "metadata": {},
   "source": [
    "These caves seem to be *lava tubes*. Parts are even still volcanically active; small hydrothermal vents release smoke into the caves that slowly settles like rain.\n",
    "\n",
    "If you can model how the smoke flows through the caves, you might be able to avoid it and be that much safer. The submarine generates a heightmap of the floor of the nearby caves for you (your puzzle input).\n",
    "\n",
    "Smoke flows to the lowest point of the area it's in. For example, consider the following heightmap:\n",
    "\n",
    "```\n",
    "2199943210\n",
    "3987894921\n",
    "9856789892\n",
    "8767896789\n",
    "9899965678\n",
    "```\n",
    "\n",
    "Each number corresponds to the height of a particular location, where `9` is the highest and `0` is the lowest a location can be.\n",
    "\n",
    "Your first goal is to find the **low points** - the locations that are lower than any of its adjacent locations. Most locations have four adjacent locations (up, down, left, and right); locations on the edge or corner of the map have three or two adjacent locations, respectively. (Diagonal locations do not count as adjacent.)\n",
    "\n",
    "In the above example, there are **four** low points, all highlighted: two are in the first row (a `1` and a `0`), one is in the third row (a `5`), and one is in the bottom row (also a `5`). All other locations on the heightmap have some lower adjacent location, and so are not low points.\n",
    "\n",
    "The **risk level** of a low point is **`1` plus its height**. In the above example, the risk levels of the low points are `2`, `1`, `6`, and `6`. The sum of the risk levels of all low points in the heightmap is therefore **`15`**.\n",
    "\n",
    "Find all of the low points on your heightmap. **What is the sum of the risk levels of all low points on your heightmap?**"
   ]
  },
  {
   "cell_type": "code",
   "execution_count": 1,
   "id": "00f81fbe-5eb3-419f-bd9b-af0dc03d6978",
   "metadata": {},
   "outputs": [],
   "source": [
    "data_map = []\n",
    "\n",
    "with open('data/input.txt', 'r') as f:\n",
    "    for line in f.read().splitlines():\n",
    "        data_line = [int(char) for char in line]\n",
    "        data_map.append(data_line)"
   ]
  },
  {
   "cell_type": "code",
   "execution_count": 2,
   "id": "fbacf84f-bc74-439f-bd40-748c6df56a7f",
   "metadata": {},
   "outputs": [
    {
     "data": {
      "text/plain": [
       "False"
      ]
     },
     "execution_count": 2,
     "metadata": {},
     "output_type": "execute_result"
    }
   ],
   "source": [
    "DEBUG = False\n",
    "\n",
    "def is_low_point(x, y, data_map):\n",
    "    val = data_map[y][x]\n",
    "    size_x = len(data_map[0])\n",
    "    size_y = len(data_map)\n",
    "    \n",
    "    if DEBUG:\n",
    "        print('size_x: %s' % (size_x, ))\n",
    "        print('size_y: %s' % (size_y, ))\n",
    "        if x != 0: print('left: %s' % (data_map[y][x - 1], )) \n",
    "        if y != 0: print('up: %s' % (data_map[y - 1][x], ))\n",
    "        if (x + 1) != size_x: print('right: %s' % (data_map[y][x + 1], )) \n",
    "        if (y + 1) != size_y: print('down: %s' % (data_map[y + 1][x], ))\n",
    "    \n",
    "    # up\n",
    "    if x != 0 and data_map[y][x - 1] <= val:\n",
    "        return False\n",
    "    \n",
    "    # left\n",
    "    if y != 0 and data_map[y - 1][x] <= val:\n",
    "        return False\n",
    "    \n",
    "    # down\n",
    "    if (x + 1) != size_x and data_map[y][x + 1] <= val:\n",
    "        return False\n",
    "    \n",
    "    # right\n",
    "    if (y + 1) != size_y and data_map[y + 1][x] <= val:\n",
    "        return False\n",
    "    \n",
    "    return True\n",
    "    \n",
    "is_low_point(1, 1, data_map)"
   ]
  },
  {
   "cell_type": "code",
   "execution_count": 3,
   "id": "28788077-6900-4d98-97f0-747cff84f69e",
   "metadata": {},
   "outputs": [
    {
     "data": {
      "text/plain": [
       "500"
      ]
     },
     "execution_count": 3,
     "metadata": {},
     "output_type": "execute_result"
    }
   ],
   "source": [
    "risk = 0\n",
    "\n",
    "for x in range(0, len(data_map[0])):\n",
    "    for y in range(0, len(data_map)):\n",
    "        if is_low_point(x, y, data_map):\n",
    "            risk += data_map[y][x] + 1\n",
    "\n",
    "risk"
   ]
  },
  {
   "cell_type": "markdown",
   "id": "d43ca83a-b4f4-432e-8edb-9ed861ad8f65",
   "metadata": {},
   "source": [
    "Your puzzle answer was `500`."
   ]
  },
  {
   "cell_type": "markdown",
   "id": "bebe83b1-b39f-4a01-bc10-5200d0d34a7a",
   "metadata": {},
   "source": [
    "## Part two"
   ]
  },
  {
   "cell_type": "markdown",
   "id": "ba7c6a00-1c61-4f09-b5b6-0134ac5d0f88",
   "metadata": {},
   "source": [
    "Next, you need to find the largest basins so you know what areas are most important to avoid.\n",
    "\n",
    "A **basin** is all locations that eventually flow downward to a single low point. Therefore, every low point has a basin, although some basins are very small. Locations of height 9 do not count as being in any basin, and all other locations will always be part of exactly one basin.\n",
    "\n",
    "The **size** of a basin is the number of locations within the basin, including the low point. The example above has four basins.\n",
    "\n",
    "The top-left basin, size `3`:\n",
    "\n",
    "```\n",
    "2199943210\n",
    "3987894921\n",
    "9856789892\n",
    "8767896789\n",
    "9899965678\n",
    "```\n",
    "\n",
    "The top-right basin, size `9`:\n",
    "\n",
    "```\n",
    "2199943210\n",
    "3987894921\n",
    "9856789892\n",
    "8767896789\n",
    "9899965678\n",
    "```\n",
    "\n",
    "The middle basin, size `14`:\n",
    "\n",
    "```\n",
    "2199943210\n",
    "3987894921\n",
    "9856789892\n",
    "8767896789\n",
    "9899965678\n",
    "```\n",
    "\n",
    "The bottom-right basin, size `9`:\n",
    "\n",
    "```\n",
    "2199943210\n",
    "3987894921\n",
    "9856789892\n",
    "8767896789\n",
    "9899965678\n",
    "```\n",
    "\n",
    "Find the three largest basins and multiply their sizes together. In the above example, this is `9 * 14 * 9 =`**`1134`**.\n",
    "\n",
    "**What do you get if you multiply together the sizes of the three largest basins?**"
   ]
  },
  {
   "cell_type": "code",
   "execution_count": 4,
   "id": "2590e8c1-6692-425a-8e2d-d5e748b3f17f",
   "metadata": {},
   "outputs": [
    {
     "data": {
      "text/plain": [
       "9"
      ]
     },
     "execution_count": 4,
     "metadata": {},
     "output_type": "execute_result"
    }
   ],
   "source": [
    "data_map[-1][0]"
   ]
  },
  {
   "cell_type": "code",
   "execution_count": 5,
   "id": "35f71179-8c5c-4d9e-a58b-616cbb802dd0",
   "metadata": {},
   "outputs": [],
   "source": [
    "def find_bassin_size(x, y, data_map):\n",
    "    total_size = 0\n",
    "    cpy_data_map = data_map\n",
    "    size_x = len(data_map[0])\n",
    "    size_y = len(data_map)\n",
    "\n",
    "    if x == -1 or x == size_x:\n",
    "        return total_size\n",
    "\n",
    "    if y == -1 or y == size_y:\n",
    "        return total_size\n",
    "\n",
    "    if data_map[y][x] == 9 or data_map[y][x] == -1:\n",
    "        return total_size\n",
    "\n",
    "    data_map[y][x] = -1\n",
    "    total_size = 1\n",
    "\n",
    "    # Up\n",
    "    total_size += find_bassin_size(x, y - 1, data_map)\n",
    "\n",
    "    # Left\n",
    "    total_size += find_bassin_size(x - 1, y, data_map)\n",
    "\n",
    "    # Down\n",
    "    total_size += find_bassin_size(x, y + 1, data_map)\n",
    "\n",
    "    # Right\n",
    "    total_size += find_bassin_size(x + 1, y, data_map)\n",
    "    \n",
    "    return total_size"
   ]
  },
  {
   "cell_type": "code",
   "execution_count": 6,
   "id": "423b3e2b-7bda-422c-952c-1fa47adbbf09",
   "metadata": {},
   "outputs": [
    {
     "data": {
      "text/plain": [
       "9"
      ]
     },
     "execution_count": 6,
     "metadata": {},
     "output_type": "execute_result"
    }
   ],
   "source": [
    "data_map = []\n",
    "\n",
    "with open('data/input_test.txt', 'r') as f:\n",
    "    for line in f.read().splitlines():\n",
    "        data_line = [int(char) for char in line]\n",
    "        data_map.append(data_line)\n",
    "        \n",
    "find_bassin_size(9, 0, data_map)"
   ]
  },
  {
   "cell_type": "code",
   "execution_count": 7,
   "id": "1aa2b677-e11f-4486-be72-0468d13c2f57",
   "metadata": {},
   "outputs": [
    {
     "data": {
      "text/plain": [
       "970200"
      ]
     },
     "execution_count": 7,
     "metadata": {},
     "output_type": "execute_result"
    }
   ],
   "source": [
    "from functools import reduce\n",
    "\n",
    "data_map = []\n",
    "\n",
    "with open('data/input.txt', 'r') as f:\n",
    "    for line in f.read().splitlines():\n",
    "        data_line = [int(char) for char in line]\n",
    "        data_map.append(data_line)\n",
    "        \n",
    "low_points_list = []\n",
    "\n",
    "for x in range(0, len(data_map[0])):\n",
    "    for y in range(0, len(data_map)):\n",
    "        if is_low_point(x, y, data_map):\n",
    "            low_points_list.append([x, y])\n",
    "\n",
    "bassin_size_list = []\n",
    "for x, y in low_points_list:\n",
    "    bassin_size_list.append(find_bassin_size(x, y, data_map))\n",
    "    \n",
    "bassin_size_list.sort()\n",
    "bassin_size_list[-3:]\n",
    "\n",
    "reduce(lambda x, y: x*y, bassin_size_list[-3:])"
   ]
  },
  {
   "cell_type": "markdown",
   "id": "2e595da6-ad5b-4c6f-b179-75304abe3b92",
   "metadata": {},
   "source": [
    "Your puzzle answer was `970200`."
   ]
  }
 ],
 "metadata": {
  "kernelspec": {
   "display_name": "Python 3 (ipykernel)",
   "language": "python",
   "name": "python3"
  },
  "language_info": {
   "codemirror_mode": {
    "name": "ipython",
    "version": 3
   },
   "file_extension": ".py",
   "mimetype": "text/x-python",
   "name": "python",
   "nbconvert_exporter": "python",
   "pygments_lexer": "ipython3",
   "version": "3.9.9"
  }
 },
 "nbformat": 4,
 "nbformat_minor": 5
}
