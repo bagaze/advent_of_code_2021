{
 "cells": [
  {
   "cell_type": "markdown",
   "id": "9d0ced82-4d38-448f-ad7d-7a00548bcabb",
   "metadata": {},
   "source": [
    "# Day 7: The Treachery of Whales"
   ]
  },
  {
   "cell_type": "markdown",
   "id": "cb8257cb-b106-4ca1-bfd3-8022ffe78701",
   "metadata": {},
   "source": [
    "## Part one"
   ]
  },
  {
   "cell_type": "markdown",
   "id": "a6cb6872-e265-4271-a002-da21abae4839",
   "metadata": {},
   "source": [
    "A giant whale has decided your submarine is its next meal, and it's much faster than you are. There's nowhere to run!\n",
    "\n",
    "Suddenly, a swarm of crabs (each in its own tiny submarine - it's too deep for them otherwise) zooms in to rescue you! They seem to be preparing to blast a hole in the ocean floor; sensors indicate a **massive underground cave system** just beyond where they're aiming!\n",
    "\n",
    "The crab submarines all need to be aligned before they'll have enough power to blast a large enough hole for your submarine to get through. However, it doesn't look like they'll be aligned before the whale catches you! Maybe you can help?\n",
    "\n",
    "There's one major catch - crab submarines can only move horizontally.\n",
    "\n",
    "You quickly make a list of **the horizontal position of each crab** (your puzzle input). Crab submarines have limited fuel, so you need to find a way to make all of their horizontal positions match while requiring them to spend as little fuel as possible.\n",
    "\n",
    "For example, consider the following horizontal positions:\n",
    "\n",
    "`16,1,2,0,4,2,7,1,2,14`\n",
    "\n",
    "This means there's a crab with horizontal position 16, a crab with horizontal position 1, and so on.\n",
    "\n",
    "Each change of 1 step in horizontal position of a single crab costs 1 fuel. You could choose any horizontal position to align them all on, but the one that costs the least fuel is horizontal position 2:\n",
    "\n",
    "- Move from `16` to `2`: `14` fuel\n",
    "- Move from `1` to `2`: `1` fuel\n",
    "- Move from `2` to `2`: `0` fuel\n",
    "- Move from `0` to `2`: `2` fuel\n",
    "- Move from `4` to `2`: `2` fuel\n",
    "- Move from `2` to `2`: `0` fuel\n",
    "- Move from `7` to `2`: `5` fuel\n",
    "- Move from `1` to `2`: `1` fuel\n",
    "- Move from `2` to `2`: `0` fuel\n",
    "- Move from `14` to `2`: `12` fuel\n",
    "\n",
    "This costs a total of **`37`** fuel. This is the cheapest possible outcome; more expensive outcomes include aligning at position `1` (`41` fuel), position `3` (`39` fuel), or position `10` (`71` fuel).\n",
    "\n",
    "Determine the horizontal position that the crabs can align to using the least fuel possible. **How much fuel must they spend to align to that position?**"
   ]
  },
  {
   "cell_type": "code",
   "execution_count": 62,
   "id": "37ef4733-4b91-4e8b-b59e-175556c47811",
   "metadata": {},
   "outputs": [
    {
     "data": {
      "text/plain": [
       "[1101, 1, 29, 67, 1102, 0, 1, 65, 1008, 65]"
      ]
     },
     "execution_count": 62,
     "metadata": {},
     "output_type": "execute_result"
    }
   ],
   "source": [
    "crab_positions = []\n",
    "example_crab_positions = [16, 1, 2, 0, 4, 2, 7, 1, 2, 14]\n",
    "\n",
    "with open('data/input.txt', 'r') as f:\n",
    "    line = f.read().splitlines()[0]\n",
    "    for crab_position in line.split(','):\n",
    "        crab_positions.append(int(crab_position))\n",
    "\n",
    "crab_positions[:10]"
   ]
  },
  {
   "cell_type": "code",
   "execution_count": 63,
   "id": "4b188fe2-416a-4974-8cd2-3e249022bf5b",
   "metadata": {},
   "outputs": [
    {
     "name": "stdout",
     "output_type": "stream",
     "text": [
      "median low: 328 - median high: 328\n"
     ]
    }
   ],
   "source": [
    "import statistics\n",
    "\n",
    "statistics.median(crab_positions)\n",
    "\n",
    "print(\"median low: %s - median high: %s\" % (statistics.median_low(crab_positions), statistics.median_high(crab_positions) ))"
   ]
  },
  {
   "cell_type": "code",
   "execution_count": 64,
   "id": "16c40dcb-a27a-49fd-a95a-766176c2d357",
   "metadata": {},
   "outputs": [
    {
     "data": {
      "text/plain": [
       "339321"
      ]
     },
     "execution_count": 64,
     "metadata": {},
     "output_type": "execute_result"
    }
   ],
   "source": [
    "def total_fuel_cost(crab_positions, position):\n",
    "    sum_fuel_costs = 0\n",
    "    for crab_position in crab_positions:\n",
    "        if crab_position > position:\n",
    "            sum_fuel_costs += (crab_position - position)\n",
    "        else:\n",
    "            sum_fuel_costs += (position - crab_position)\n",
    "            \n",
    "    return sum_fuel_costs\n",
    "\n",
    "total_fuel_cost(crab_positions, 328)"
   ]
  },
  {
   "cell_type": "markdown",
   "id": "ce0c0927-1107-44cd-a0e2-116c1a2c1621",
   "metadata": {},
   "source": [
    "Your puzzle answer was `339321`."
   ]
  },
  {
   "cell_type": "markdown",
   "id": "621ae71e-0614-4416-984a-f1685151cdea",
   "metadata": {},
   "source": [
    "## Part two"
   ]
  },
  {
   "cell_type": "markdown",
   "id": "23a7ba87-72fa-4c52-a3c3-155052cd4884",
   "metadata": {},
   "source": [
    "The crabs don't seem interested in your proposed solution. Perhaps you misunderstand crab engineering?\n",
    "\n",
    "As it turns out, crab submarine engines don't burn fuel at a constant rate. Instead, each change of `1` step in horizontal position costs `1` more unit of fuel than the last: the first step costs `1`, the second step costs `2`, the third step costs `3`, and so on.\n",
    "\n",
    "As each crab moves, moving further becomes more expensive. This changes the best horizontal position to align them all on; in the example above, this becomes `5`:\n",
    "\n",
    "- Move from `16` to `5`: `66` fuel\n",
    "- Move from `1` to `5`: `10` fuel\n",
    "- Move from `2` to `5`: `6` fuel\n",
    "- Move from `0` to `5`: `15` fuel\n",
    "- Move from `4` to `5`: `1` fuel\n",
    "- Move from `2` to `5`: `6` fuel\n",
    "- Move from `7` to `5`: `3` fuel\n",
    "- Move from `1` to `5`: `10` fuel\n",
    "- Move from `2` to `5`: `6` fuel\n",
    "- Move from `14` to `5`: `45` fuel\n",
    "\n",
    "This costs a total of `168` fuel. This is the new cheapest possible outcome; the old alignment position (`2`) now costs `206` fuel instead.\n",
    "\n",
    "Determine the horizontal position that the crabs can align to using the least fuel possible so they can make you an escape route! **How much fuel must they spend to align to that position?**"
   ]
  },
  {
   "cell_type": "code",
   "execution_count": 65,
   "id": "94ea80e4-34b0-4fbe-aaac-cb2a7849ec0b",
   "metadata": {},
   "outputs": [
    {
     "data": {
      "text/plain": [
       "471.613"
      ]
     },
     "execution_count": 65,
     "metadata": {},
     "output_type": "execute_result"
    }
   ],
   "source": [
    "import statistics\n",
    "\n",
    "statistics.mean(crab_positions)"
   ]
  },
  {
   "cell_type": "code",
   "execution_count": 66,
   "id": "315db9cd-1a54-4ddd-ba06-d752191f55d8",
   "metadata": {},
   "outputs": [
    {
     "data": {
      "text/plain": [
       "168"
      ]
     },
     "execution_count": 66,
     "metadata": {},
     "output_type": "execute_result"
    }
   ],
   "source": [
    "def total_fuel_cost_ex2(crab_positions, position):\n",
    "    sum_fuel_costs = 0\n",
    "    for crab_position in crab_positions:\n",
    "        sum_fuel_costs += fuel_cost_ex2(crab_position, position)\n",
    "            \n",
    "    return sum_fuel_costs\n",
    "\n",
    "def fuel_cost_ex2(crab_position, position):\n",
    "    sum_fuel_cost = 0\n",
    "    distance = 0\n",
    "    if crab_position > position:\n",
    "        distance = crab_position - position\n",
    "    else:\n",
    "        distance = position - crab_position\n",
    "        \n",
    "    for i in range(0, distance + 1):\n",
    "        sum_fuel_cost += i\n",
    "            \n",
    "    return sum_fuel_cost\n",
    "\n",
    "total_fuel_cost_ex2(example_crab_positions, 5)"
   ]
  },
  {
   "cell_type": "code",
   "execution_count": 67,
   "id": "a6ba6e6f-ea1b-4e04-ae83-1f36c84d219b",
   "metadata": {},
   "outputs": [
    {
     "name": "stdout",
     "output_type": "stream",
     "text": [
      "fuel cost 470: 95477241\n",
      "fuel cost 471: 95476244\n",
      "fuel cost 472: 95476248\n"
     ]
    },
    {
     "data": {
      "text/plain": [
       "95476244"
      ]
     },
     "execution_count": 67,
     "metadata": {},
     "output_type": "execute_result"
    }
   ],
   "source": [
    "print(\"fuel cost 470: %s\" % (total_fuel_cost_ex2(crab_positions, 470), ))\n",
    "print(\"fuel cost 471: %s\" % (total_fuel_cost_ex2(crab_positions, 471), ))\n",
    "print(\"fuel cost 472: %s\" % (total_fuel_cost_ex2(crab_positions, 472), ))\n",
    "\n",
    "total_fuel_cost_ex2(crab_positions, 471)"
   ]
  },
  {
   "cell_type": "markdown",
   "id": "d645dbfc-98d8-4d83-8330-8c78835ea125",
   "metadata": {},
   "source": [
    "Your puzzle answer was `95476244`."
   ]
  }
 ],
 "metadata": {
  "kernelspec": {
   "display_name": "Python 3 (ipykernel)",
   "language": "python",
   "name": "python3"
  },
  "language_info": {
   "codemirror_mode": {
    "name": "ipython",
    "version": 3
   },
   "file_extension": ".py",
   "mimetype": "text/x-python",
   "name": "python",
   "nbconvert_exporter": "python",
   "pygments_lexer": "ipython3",
   "version": "3.9.9"
  }
 },
 "nbformat": 4,
 "nbformat_minor": 5
}
