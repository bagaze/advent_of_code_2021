{
 "cells": [
  {
   "cell_type": "markdown",
   "id": "569f6659-3c25-44b9-b15a-ff19c7c19b87",
   "metadata": {},
   "source": [
    "# Day 16: Packet Decoder"
   ]
  },
  {
   "cell_type": "markdown",
   "id": "adc21ca9-f6a3-4dd3-b4a5-49fbb972d10e",
   "metadata": {},
   "source": [
    "## Part one"
   ]
  },
  {
   "cell_type": "markdown",
   "id": "c0e70708-e262-4292-b2b8-dbd6e443d8bd",
   "metadata": {},
   "source": [
    "As you leave the cave and reach open waters, you receive a transmission from the Elves back on the ship.\n",
    "\n",
    "The transmission was sent using the Buoyancy Interchange Transmission System (BITS), a method of packing numeric expressions into a binary sequence. Your submarine's computer has saved the transmission in [hexadecimal](https://en.wikipedia.org/wiki/Hexadecimal) (your puzzle input).\n",
    "\n",
    "The first step of decoding the message is to convert the hexadecimal representation into binary. Each character of hexadecimal corresponds to four bits of binary data:\n",
    "\n",
    "```\n",
    "0 = 0000\n",
    "1 = 0001\n",
    "2 = 0010\n",
    "3 = 0011\n",
    "4 = 0100\n",
    "5 = 0101\n",
    "6 = 0110\n",
    "7 = 0111\n",
    "8 = 1000\n",
    "9 = 1001\n",
    "A = 1010\n",
    "B = 1011\n",
    "C = 1100\n",
    "D = 1101\n",
    "E = 1110\n",
    "F = 1111\n",
    "```\n",
    "\n",
    "The BITS transmission contains a single **packet** at its outermost layer which itself contains many other packets. The hexadecimal representation of this packet might encode a few extra 0 bits at the end; these are not part of the transmission and should be ignored.\n",
    "\n",
    "Every packet begins with a standard header: the first three bits encode the packet **version**, and the next three bits encode the packet **type ID**. These two values are numbers; all numbers encoded in any packet are represented as binary with the most significant bit first. For example, a version encoded as the binary sequence `100` represents the number `4`.\n",
    "\n",
    "Packets with type ID `4` represent a **literal value**. Literal value packets encode a single binary number. To do this, the binary number is padded with leading zeroes until its length is a multiple of four bits, and then it is broken into groups of four bits. Each group is prefixed by a `1` bit except the last group, which is prefixed by a `0` bit. These groups of five bits immediately follow the packet header. For example, the hexadecimal string `D2FE28` becomes:\n",
    "\n",
    "```\n",
    "110100101111111000101000\n",
    "VVVTTTAAAAABBBBBCCCCC\n",
    "```\n",
    "\n",
    "Below each bit is a label indicating its purpose:\n",
    "\n",
    "- The three bits labeled `V` (`110`) are the packet version, `6`.\n",
    "- The three bits labeled `T` (`100`) are the packet type ID, `4`, which means the packet is a literal value.\n",
    "- The five bits labeled `A` (`10111`) start with a `1` (not the last group, keep reading) and contain the first four bits of the number, `0111`.\n",
    "- The five bits labeled B (11110) start with a 1 (not the last group, keep reading) and contain four more bits of the number, 1110.\n",
    "- The five bits labeled C (00101) start with a 0 (last group, end of packet) and contain the last four bits of the number, 0101.\n",
    "- The three unlabeled 0 bits at the end are extra due to the hexadecimal representation and should be ignored.\n",
    "\n",
    "So, this packet represents a literal value with binary representation `011111100101`, which is `2021` in decimal.\n",
    "\n",
    "Every other type of packet (any packet with a type ID other than 4) represent an **operator** that performs some calculation on one or more sub-packets contained within. Right now, the specific operations aren't important; focus on parsing the hierarchy of sub-packets.\n",
    "\n",
    "An operator packet contains one or more packets. To indicate which subsequent binary data represents its sub-packets, an operator packet can use one of two modes indicated by the bit immediately after the packet header; this is called the **length type ID**:\n",
    "\n",
    "- If the length type ID is `0`, then the next `15` bits are a number that represents the **total length in bits** of the sub-packets contained by this packet.\n",
    "- If the length type ID is `1`, then the next `11` bits are a number that represents the **number of sub-packets immediately contained** by this packet.\n",
    "\n",
    "Finally, after the length type ID bit and the 15-bit or 11-bit field, the sub-packets appear.\n",
    "\n",
    "For example, here is an operator packet (hexadecimal string 38006F45291200) with length type ID `0` that contains two sub-packets:\n",
    "\n",
    "```\n",
    "00111000000000000110111101000101001010010001001000000000\n",
    "VVVTTTILLLLLLLLLLLLLLLAAAAAAAAAAABBBBBBBBBBBBBBBB\n",
    "```\n",
    "\n",
    "- The three bits labeled `V` (`001`) are the packet version, `1`.\n",
    "- The three bits labeled `T` (`110`) are the packet type ID, `6`, which means the packet is an operator.\n",
    "- The bit labeled `I` (`0`) is the length type ID, which indicates that the length is a 15-bit number representing the number of bits in the sub-packets.\n",
    "- The 15 bits labeled `L` (`000000000011011`) contain the length of the sub-packets in bits, `27`.\n",
    "- The 11 bits labeled `A` contain the first sub-packet, a literal value representing the number `10`.\n",
    "- The 16 bits labeled `B` contain the second sub-packet, a literal value representing the number `20`.\n",
    "\n",
    "After reading 11 and 16 bits of sub-packet data, the total length indicated in `L` (27) is reached, and so parsing of this packet stops.\n",
    "\n",
    "As another example, here is an operator packet (hexadecimal string `EE00D40C823060`) with length type ID 1 that contains three sub-packets:\n",
    "\n",
    "```\n",
    "11101110000000001101010000001100100000100011000001100000\n",
    "VVVTTTILLLLLLLLLLLAAAAAAAAAAABBBBBBBBBBBCCCCCCCCCCC\n",
    "```\n",
    "\n",
    "- The three bits labeled `V` (`111`) are the packet version, `7`.\n",
    "- The three bits labeled `T` (`011`) are the packet type ID, 3, which means the packet is an operator.\n",
    "- The bit labeled `I` (`1`) is the length type ID, which indicates that the length is a 11-bit number representing the number of sub-packets.\n",
    "- The 11 bits labeled `L` (`00000000011`) contain the number of sub-packets, `3`.\n",
    "- The 11 bits labeled `A` contain the first sub-packet, a literal value representing the number `1`.\n",
    "- The 11 bits labeled `B` contain the second sub-packet, a literal value representing the number `2`.\n",
    "- The 11 bits labeled `C` contain the third sub-packet, a literal value representing the number `3`.\n",
    "\n",
    "After reading 3 complete sub-packets, the number of sub-packets indicated in `L` (3) is reached, and so parsing of this packet stops.\n",
    "\n",
    "For now, parse the hierarchy of the packets throughout the transmission and **add up all of the version numbers**.\n",
    "\n",
    "Here are a few more examples of hexadecimal-encoded transmissions:\n",
    "\n",
    "- `8A004A801A8002F478` represents an operator packet (version 4) which contains an operator packet (version 1) which contains an operator packet (version 5) which contains a literal value (version 6); this packet has a version sum of **`16`**.\n",
    "- `620080001611562C8802118E34` represents an operator packet (version 3) which contains two sub-packets; each sub-packet is an operator packet that contains two literal values. This packet has a version sum of **`12`**.\n",
    "- `C0015000016115A2E0802F182340` has the same structure as the previous example, but the outermost packet uses a different length type ID. This packet has a version sum of **`23`**.\n",
    "- `A0016C880162017C3686B18A3D4780` is an operator packet that contains an operator packet that contains an operator packet that contains five literal values; it has a version sum of **`31`**.\n",
    "\n",
    "Decode the structure of your hexadecimal-encoded BITS transmission; **what do you get if you add up the version numbers in all packets?**"
   ]
  },
  {
   "cell_type": "code",
   "execution_count": 1,
   "id": "926e2bcb-4d31-4aa3-a80f-9bb690bd8972",
   "metadata": {},
   "outputs": [
    {
     "data": {
      "text/plain": [
       "'110100101111111000101000'"
      ]
     },
     "execution_count": 1,
     "metadata": {},
     "output_type": "execute_result"
    }
   ],
   "source": [
    "import binascii\n",
    "\n",
    "def hex_to_bin(hex_string):\n",
    "    return bin(int(hex_string, 16))[2:].zfill(len(hex_string) * 4)\n",
    "\n",
    "def load_input(filepath='./data/input_test.txt'):\n",
    "    with open('%s' % (filepath, ), 'r') as input_f:\n",
    "        transmission_hexa = input_f.read().rstrip()\n",
    "    \n",
    "    return hex_to_bin(transmission_hexa)\n",
    "\n",
    "transmission = load_input()\n",
    "transmission"
   ]
  },
  {
   "cell_type": "code",
   "execution_count": 2,
   "id": "efc44f4f-0779-4d2c-8726-370daeeb5e59",
   "metadata": {},
   "outputs": [
    {
     "data": {
      "text/plain": [
       "Paquet(version=1, type_number=6, is_operator=True, nb_inner_paquets:0, value:None), operation_fun=<built-in function lt>"
      ]
     },
     "execution_count": 2,
     "metadata": {},
     "output_type": "execute_result"
    }
   ],
   "source": [
    "from operator import add, mul, gt, lt, eq\n",
    "from functools import reduce\n",
    "\n",
    "OPERATION = [add, mul, min, max, _, gt, lt, eq]\n",
    "\n",
    "class Paquet:\n",
    "    \n",
    "    \n",
    "    def __init__(self, version, type_number):\n",
    "        self.version = version\n",
    "        self.type_number = type_number\n",
    "        self.is_operator = (type_number != 4)\n",
    "        self.inner_paquets = []\n",
    "        self.length_type_id = None\n",
    "        self.total_length = None\n",
    "        self.nb_paquets = None\n",
    "        self.lit_value = None\n",
    "        self.value = None\n",
    "        \n",
    "        if self.is_operator:\n",
    "            self.set_operation_func()\n",
    "    \n",
    "            \n",
    "    def set_operation_func(self):\n",
    "        self.operation_func = OPERATION[self.type_number]\n",
    "        \n",
    "    \n",
    "    def add_inner_paquet(self, paquet):\n",
    "        self.inner_paquets.append(paquet)\n",
    "        \n",
    "        \n",
    "    def calculate_value(self):\n",
    "        if self.is_operator:\n",
    "            inner_paquets_values = []\n",
    "            for inner_paquet in self.inner_paquets:\n",
    "                inner_paquets_values.append(inner_paquet.value)\n",
    "\n",
    "            self.value = int(reduce(self.operation_func, inner_paquets_values))\n",
    "        else:\n",
    "            self.value = int(self.lit_value)\n",
    "        \n",
    "        \n",
    "    def __repr__(self):\n",
    "        ret = f'Paquet(version={self.version}, type_number={self.type_number}, is_operator={self.is_operator}, nb_inner_paquets:{len(self.inner_paquets)}, value:{self.value})'\n",
    "        if self.is_operator:\n",
    "            ret += f', operation_fun={self.operation_func}'\n",
    "            \n",
    "        return ret\n",
    "    \n",
    "Paquet(1, 6)"
   ]
  },
  {
   "cell_type": "code",
   "execution_count": 3,
   "id": "5550de4f-e426-42a6-abc0-b325d6d205de",
   "metadata": {},
   "outputs": [
    {
     "data": {
      "text/plain": [
       "Paquet(version=6, type_number=4, is_operator=False, nb_inner_paquets:0, value:7145)"
      ]
     },
     "execution_count": 3,
     "metadata": {},
     "output_type": "execute_result"
    }
   ],
   "source": [
    "DEBUG = False\n",
    "\n",
    "def decode_paquet(transmission, pos):\n",
    "    new_pos = pos\n",
    "    version = int(transmission[pos:pos + 3], 2)\n",
    "    type_number = int(transmission[pos + 3:pos + 6], 2)\n",
    "    \n",
    "    new_pos += 6\n",
    "    \n",
    "    paquet = Paquet(version, type_number)\n",
    "    if DEBUG: print(f'paquet: {paquet}')\n",
    "    \n",
    "    if paquet.is_operator:\n",
    "        length_type_id = int(transmission[new_pos:new_pos + 1])\n",
    "        paquet.length_type_id = length_type_id\n",
    "        \n",
    "        new_pos += 1\n",
    "        \n",
    "        if DEBUG: print(f'length_type_id: {length_type_id}')\n",
    "        \n",
    "        if length_type_id == 0:\n",
    "            total_length = int(transmission[new_pos:new_pos + 15], 2)\n",
    "            if DEBUG: print(f'total_length: {total_length}')\n",
    "            paquet.total_length = total_length\n",
    "            new_pos += 15\n",
    "            total_length += new_pos\n",
    "            while new_pos < total_length:\n",
    "                inner_paquet, new_pos = decode_paquet(transmission, new_pos)\n",
    "                paquet.add_inner_paquet(inner_paquet)\n",
    "        else:\n",
    "            nb_paquets = int(transmission[new_pos:new_pos + 11], 2)\n",
    "            if DEBUG: print(f'nb_paquets: {nb_paquets}')\n",
    "            paquet.nb_paquets = nb_paquets\n",
    "            new_pos += 11\n",
    "            for i in range(0, nb_paquets):\n",
    "                inner_paquet, new_pos = decode_paquet(transmission, new_pos)\n",
    "                paquet.add_inner_paquet(inner_paquet)\n",
    "                \n",
    "    else:\n",
    "        lit_value = ''\n",
    "        while True:\n",
    "            is_last_group = (int(transmission[new_pos:new_pos+1]) == 0)\n",
    "            if DEBUG: print(f'is_last_group: {is_last_group}')\n",
    "            group = int(transmission[new_pos + 1:new_pos + 5], 2)\n",
    "            lit_value += str(group)\n",
    "            \n",
    "            new_pos += 5\n",
    "            \n",
    "            if is_last_group:\n",
    "                break\n",
    "        paquet.lit_value = lit_value\n",
    "        paquet.value = int(lit_value)\n",
    "            \n",
    "    return paquet, new_pos\n",
    "    \n",
    "outer_paquet, _ = decode_paquet(transmission, 0)\n",
    "outer_paquet"
   ]
  },
  {
   "cell_type": "code",
   "execution_count": 4,
   "id": "81ff5147-3655-4575-937d-158e6bd0a371",
   "metadata": {},
   "outputs": [
    {
     "data": {
      "text/plain": [
       "6"
      ]
     },
     "execution_count": 4,
     "metadata": {},
     "output_type": "execute_result"
    }
   ],
   "source": [
    "def sum_paquet_version(paquet):\n",
    "    sum_version = paquet.version\n",
    "    \n",
    "    for inner_paquet in paquet.inner_paquets:\n",
    "        sum_version += sum_paquet_version(inner_paquet)\n",
    "    \n",
    "    return sum_version\n",
    "\n",
    "sum_paquet_version(outer_paquet)"
   ]
  },
  {
   "cell_type": "code",
   "execution_count": 5,
   "id": "6d4f0714-1781-4dc0-bb88-5e4b1b147f09",
   "metadata": {},
   "outputs": [
    {
     "data": {
      "text/plain": [
       "917"
      ]
     },
     "execution_count": 5,
     "metadata": {},
     "output_type": "execute_result"
    }
   ],
   "source": [
    "transmission = load_input('./data/input.txt')\n",
    "outer_paquet, _ = decode_paquet(transmission, 0)\n",
    "sum_paquet_version(outer_paquet)"
   ]
  },
  {
   "cell_type": "markdown",
   "id": "3349036f-c2b9-47b4-95bf-4fca6876ee4a",
   "metadata": {},
   "source": [
    "## Part two"
   ]
  },
  {
   "cell_type": "markdown",
   "id": "14acf8c1-c3d6-473e-8e9d-1883811a1697",
   "metadata": {},
   "source": [
    "Now that you have the structure of your transmission decoded, you can calculate the value of the expression it represents.\n",
    "\n",
    "Literal values (type ID `4`) represent a single number as described above. The remaining type IDs are more interesting:\n",
    "\n",
    "- Packets with type ID `0` are **sum** packets - their value is the sum of the values of their sub-packets. If they only have a single sub-packet, their value is the value of the sub-packet.\n",
    "- Packets with type ID `1` are **product** packets - their value is the result of multiplying together the values of their sub-packets. If they only have a single sub-packet, their value is the value of the sub-packet.\n",
    "- Packets with type ID `2` are **minimum** packets - their value is the minimum of the values of their sub-packets.\n",
    "- Packets with type ID `3` are **maximum** packets - their value is the maximum of the values of their sub-packets.\n",
    "- Packets with type ID `5` are **greater than** packets - their value is **1** if the value of the first sub-packet is greater than the value of the second sub-packet; otherwise, their value is **0**. These packets always have exactly two sub-packets.\n",
    "- Packets with type ID `6` are **less than** packets - their value is **1** if the value of the first sub-packet is less than the value of the second sub-packet; otherwise, their value is **0**. These packets always have exactly two sub-packets.\n",
    "- Packets with type ID `7` are **equal to** packets - their value is **1** if the value of the first sub-packet is equal to the value of the second sub-packet; otherwise, their value is **0**. These packets always have exactly two sub-packets.\n",
    "\n",
    "Using these rules, you can now work out the value of the outermost packet in your BITS transmission.\n",
    "\n",
    "For example:\n",
    "\n",
    "- `C200B40A82` finds the sum of `1` and `2`, resulting in the value **3**.\n",
    "- `04005AC33890` finds the product of `6` and `9`, resulting in the value **54**.\n",
    "- `880086C3E88112` finds the minimum of `7`, `8`, and `9`, resulting in the value **7**.\n",
    "- `CE00C43D881120` finds the maximum of `7`, `8`, and `9`, resulting in the value **9**.\n",
    "- `D8005AC2A8F0` produces `1`, because `5` is less than `15`.\n",
    "- `F600BC2D8F` produces `0`, because `5` is not greater than `15`.\n",
    "- `9C005AC2F8F0` produces `0`, because `5` is not equal to `15`.\n",
    "- `9C0141080250320F1802104A08` produces `1`, because `1 + 3 = 2 * 2`.\n",
    "\n",
    "**What do you get if you evaluate the expression represented by your hexadecimal-encoded BITS transmission?**"
   ]
  },
  {
   "cell_type": "code",
   "execution_count": 6,
   "id": "574ccee3-8112-4657-9c96-b30bc3dbf664",
   "metadata": {},
   "outputs": [
    {
     "data": {
      "text/plain": [
       "1"
      ]
     },
     "execution_count": 6,
     "metadata": {},
     "output_type": "execute_result"
    }
   ],
   "source": [
    "from operator import add, mul, gt, lt, eq\n",
    "from functools import reduce\n",
    "\n",
    "int(reduce(min, [6, 2, 1]))"
   ]
  },
  {
   "cell_type": "code",
   "execution_count": 7,
   "id": "ac68eccd-a91b-4b94-89cb-d511e279cd8a",
   "metadata": {},
   "outputs": [],
   "source": [
    "DEBUG=False\n",
    "\n",
    "from operator import add, mul, gt, lt, eq\n",
    "from functools import reduce\n",
    "\n",
    "OPERATION = [add, mul, min, max, _, gt, lt, eq]\n",
    "\n",
    "def decode_paquet_ex2(transmission, pos):\n",
    "    new_pos = pos\n",
    "    version = int(transmission[pos:pos + 3], 2)\n",
    "    type_number = int(transmission[pos + 3:pos + 6], 2)\n",
    "    \n",
    "    new_pos += 6\n",
    "    \n",
    "    paquet = Paquet(version, type_number)\n",
    "    if DEBUG: print(f'paquet: {paquet}')\n",
    "    \n",
    "    if paquet.is_operator:\n",
    "        length_type_id = int(transmission[new_pos:new_pos + 1])\n",
    "        paquet.length_type_id = length_type_id\n",
    "        \n",
    "        new_pos += 1\n",
    "        \n",
    "        if DEBUG: print(f'length_type_id: {length_type_id}')\n",
    "        \n",
    "        if length_type_id == 0:\n",
    "            total_length = int(transmission[new_pos:new_pos + 15], 2)\n",
    "            if DEBUG: print(f'total_length: {total_length}')\n",
    "            paquet.total_length = total_length\n",
    "            new_pos += 15\n",
    "            total_length += new_pos\n",
    "            while new_pos < total_length:\n",
    "                inner_paquet, new_pos = decode_paquet_ex2(transmission, new_pos)\n",
    "                paquet.add_inner_paquet(inner_paquet)\n",
    "        else:\n",
    "            nb_paquets = int(transmission[new_pos:new_pos + 11], 2)\n",
    "            if DEBUG: print(f'nb_paquets: {nb_paquets}')\n",
    "            paquet.nb_paquets = nb_paquets\n",
    "            new_pos += 11\n",
    "            for i in range(0, nb_paquets):\n",
    "                inner_paquet, new_pos = decode_paquet_ex2(transmission, new_pos)\n",
    "                paquet.add_inner_paquet(inner_paquet)\n",
    "                \n",
    "    else:\n",
    "        lit_value = ''\n",
    "        while True:\n",
    "            is_last_group = (int(transmission[new_pos:new_pos+1]) == 0)\n",
    "            if DEBUG: print(f'is_last_group: {is_last_group}')\n",
    "            if DEBUG: print(f'group: {transmission[new_pos + 1:new_pos + 5]}')\n",
    "            lit_value += transmission[new_pos + 1:new_pos + 5]\n",
    "            \n",
    "            new_pos += 5\n",
    "            \n",
    "            if is_last_group:\n",
    "                break\n",
    "        if DEBUG: print(f'lit_value: {lit_value}')\n",
    "        paquet.lit_value = int(lit_value, 2)\n",
    "    \n",
    "    # Calculate value\n",
    "    paquet.calculate_value()\n",
    "            \n",
    "    return paquet, new_pos"
   ]
  },
  {
   "cell_type": "code",
   "execution_count": 8,
   "id": "354343ab-2506-44d3-a979-90e644e7c7e9",
   "metadata": {},
   "outputs": [
    {
     "data": {
      "text/plain": [
       "Paquet(version=6, type_number=4, is_operator=False, nb_inner_paquets:0, value:2021)"
      ]
     },
     "execution_count": 8,
     "metadata": {},
     "output_type": "execute_result"
    }
   ],
   "source": [
    "transmission = load_input()\n",
    "outer_paquet, _ = decode_paquet_ex2(transmission, 0)\n",
    "outer_paquet"
   ]
  },
  {
   "cell_type": "code",
   "execution_count": 9,
   "id": "deeaca45-2c29-4103-9399-c2d5ec7dead5",
   "metadata": {},
   "outputs": [
    {
     "data": {
      "text/plain": [
       "Paquet(version=1, type_number=0, is_operator=True, nb_inner_paquets:53, value:2536453523344), operation_fun=<built-in function add>"
      ]
     },
     "execution_count": 9,
     "metadata": {},
     "output_type": "execute_result"
    }
   ],
   "source": [
    "transmission = load_input('./data/input.txt')\n",
    "outer_paquet, _ = decode_paquet_ex2(transmission, 0)\n",
    "outer_paquet"
   ]
  },
  {
   "cell_type": "markdown",
   "id": "4e2ea61c-811b-4514-a839-4d26aea3e2c3",
   "metadata": {},
   "source": [
    "Your puzzle answer was `2536453523344`."
   ]
  }
 ],
 "metadata": {
  "kernelspec": {
   "display_name": "Python 3 (ipykernel)",
   "language": "python",
   "name": "python3"
  },
  "language_info": {
   "codemirror_mode": {
    "name": "ipython",
    "version": 3
   },
   "file_extension": ".py",
   "mimetype": "text/x-python",
   "name": "python",
   "nbconvert_exporter": "python",
   "pygments_lexer": "ipython3",
   "version": "3.9.9"
  }
 },
 "nbformat": 4,
 "nbformat_minor": 5
}
