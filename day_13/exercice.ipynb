{
 "cells": [
  {
   "cell_type": "markdown",
   "id": "539a3953-019f-44c4-8a35-e6d318eccc10",
   "metadata": {},
   "source": [
    "# Day 13: Transparent Origami"
   ]
  },
  {
   "cell_type": "markdown",
   "id": "25e3de02-9720-4797-9b06-ce02790a96ea",
   "metadata": {},
   "source": [
    "## Part one"
   ]
  },
  {
   "cell_type": "markdown",
   "id": "febfe228-73ec-460f-ac11-03f076a19d6b",
   "metadata": {},
   "source": [
    "You reach another volcanically active part of the cave. It would be nice if you could do some kind of thermal imaging so you could tell ahead of time which caves are too hot to safely enter.\n",
    "\n",
    "Fortunately, the submarine seems to be equipped with a thermal camera! When you activate it, you are greeted with:\n",
    "\n",
    "```\n",
    "Congratulations on your purchase! To activate this infrared thermal imaging\n",
    "camera system, please enter the code found on page 1 of the manual.\n",
    "```\n",
    "\n",
    "Apparently, the Elves have never used this feature. To your surprise, you manage to find the manual; as you go to open it, page 1 falls out. It's a large sheet of *transparent paper*! The transparent paper is marked with random dots and includes instructions on how to fold it up (your puzzle input). For example:\n",
    "\n",
    "```\n",
    "6,10\n",
    "0,14\n",
    "9,10\n",
    "0,3\n",
    "10,4\n",
    "4,11\n",
    "6,0\n",
    "6,12\n",
    "4,1\n",
    "0,13\n",
    "10,12\n",
    "3,4\n",
    "3,0\n",
    "8,4\n",
    "1,10\n",
    "2,14\n",
    "8,10\n",
    "9,0\n",
    "\n",
    "fold along y=7\n",
    "fold along x=5\n",
    "```\n",
    "\n",
    "The first section is a list of dots on the transparent paper. `0,0` represents the top-left coordinate. The first value, `x`, increases to the right. The second value, `y`, increases downward. So, the coordinate 3,0 is to the right of `0,0`, and the coordinate `0,7` is below `0,0`. The coordinates in this example form the following pattern, where `#` is a dot on the paper and `.` is an empty, unmarked position:\n",
    "\n",
    "```\n",
    "...#..#..#.\n",
    "....#......\n",
    "...........\n",
    "#..........\n",
    "...#....#.#\n",
    "...........\n",
    "...........\n",
    "...........\n",
    "...........\n",
    "...........\n",
    ".#....#.##.\n",
    "....#......\n",
    "......#...#\n",
    "#..........\n",
    "#.#........\n",
    "```\n",
    "\n",
    "Then, there is a list of fold instructions. Each instruction indicates a line on the transparent paper and wants you to fold the paper up (for horizontal y=... lines) or left (for vertical x=... lines). In this example, the first fold instruction is fold along y=7, which designates the line formed by all of the positions where y is 7 (marked here with -):\n",
    "\n",
    "```\n",
    "...#..#..#.\n",
    "....#......\n",
    "...........\n",
    "#..........\n",
    "...#....#.#\n",
    "...........\n",
    "...........\n",
    "-----------\n",
    "...........\n",
    "...........\n",
    ".#....#.##.\n",
    "....#......\n",
    "......#...#\n",
    "#..........\n",
    "#.#........\n",
    "```\n",
    "\n",
    "Because this is a horizontal line, fold the bottom half up. Some of the dots might end up overlapping after the fold is complete, but dots will never appear exactly on a fold line. The result of doing this fold looks like this:\n",
    "\n",
    "```\n",
    "#.##..#..#.\n",
    "#...#......\n",
    "......#...#\n",
    "#...#......\n",
    ".#.#..#.###\n",
    "...........\n",
    "...........\n",
    "```\n",
    "\n",
    "Now, only 17 dots are visible.\n",
    "\n",
    "Notice, for example, the two dots in the bottom left corner before the transparent paper is folded; after the fold is complete, those dots appear in the top left corner (at 0,0 and 0,1). Because the paper is transparent, the dot just below them in the result (at 0,3) remains visible, as it can be seen through the transparent paper.\n",
    "\n",
    "Also notice that some dots can end up **overlapping**; in this case, the dots merge together and become a single dot.\n",
    "\n",
    "The second fold instruction is fold along x=5, which indicates this line:\n",
    "\n",
    "```\n",
    "#.##.|#..#.\n",
    "#...#|.....\n",
    ".....|#...#\n",
    "#...#|.....\n",
    ".#.#.|#.###\n",
    ".....|.....\n",
    ".....|.....\n",
    "```\n",
    "\n",
    "Because this is a vertical line, fold **left**:\n",
    "\n",
    "```\n",
    "#####\n",
    "#...#\n",
    "#...#\n",
    "#...#\n",
    "#####\n",
    ".....\n",
    ".....\n",
    "```\n",
    "\n",
    "The instructions made a square!\n",
    "\n",
    "The transparent paper is pretty big, so for now, focus on just completing the first fold. After the first fold in the example above, 17 dots are visible - dots that end up overlapping after the fold is completed count as a single dot.\n",
    "\n",
    "**How many dots are visible after completing just the first fold instruction on your transparent paper?**"
   ]
  },
  {
   "cell_type": "code",
   "execution_count": 1,
   "id": "e84e4cbf-106f-469a-8223-3e97dddb395e",
   "metadata": {},
   "outputs": [
    {
     "name": "stdout",
     "output_type": "stream",
     "text": [
      "dot_map: {(9, 10), (6, 12), (2, 14), (9, 0), (8, 4), (3, 4), (10, 4), (0, 13), (0, 3), (8, 10), (3, 0), (6, 10), (10, 12), (6, 0), (1, 10), (4, 11), (0, 14), (4, 1)}\n",
      "instructions: [{'direction': 'y', 'value': 7}, {'direction': 'x', 'value': 5}]\n"
     ]
    },
    {
     "data": {
      "text/plain": [
       "18"
      ]
     },
     "execution_count": 1,
     "metadata": {},
     "output_type": "execute_result"
    }
   ],
   "source": [
    "import re\n",
    "\n",
    "def load_input(filepath='./data/input_test.txt'):\n",
    "    dot_map = set()\n",
    "    instructions = []\n",
    "    with open('%s' % (filepath, ), 'r') as input_f:\n",
    "        line_number = 0\n",
    "        input_lines = input_f.read().splitlines()\n",
    "        \n",
    "        # Extract dot map\n",
    "        while True:\n",
    "            input_line = input_lines[line_number]\n",
    "            line_number += 1\n",
    "            if not input_line:\n",
    "                break\n",
    "            x, y = input_line.split(',')\n",
    "            dot_map.add((int(x), int(y)))\n",
    "        \n",
    "        # Extract instructions\n",
    "        instruction_line_number = line_number\n",
    "        for line_number in range(instruction_line_number, len(input_lines)):\n",
    "            input_line = input_lines[line_number]\n",
    "            line_number += 1\n",
    "            if not input_line:\n",
    "                break\n",
    "            \n",
    "            reg_match = re.match('^fold along (x|y)=([0-9]+)$', input_line)\n",
    "            direction = reg_match[1]\n",
    "            value = reg_match[2]\n",
    "            instruction = { 'direction': direction, 'value': int(value) }\n",
    "            instructions.append(instruction)\n",
    "    \n",
    "    return dot_map, instructions\n",
    "\n",
    "dot_map, instructions = load_input()\n",
    "print('dot_map: %s' % (dot_map, ))\n",
    "print('instructions: %s' % (instructions, ))\n",
    "len(dot_map)"
   ]
  },
  {
   "cell_type": "code",
   "execution_count": 2,
   "id": "e7437f96-cfe6-4e0b-aafd-56d6e2c6d625",
   "metadata": {},
   "outputs": [],
   "source": [
    "def execute_instruction(instruction, dot_map):\n",
    "    new_dot_map = set()\n",
    "    if instruction['direction'] == 'x':\n",
    "        element_number = 0\n",
    "    else:\n",
    "        element_number = 1\n",
    "    \n",
    "    for element in dot_map:\n",
    "        new_position = [element[0], element[1]]\n",
    "        if element[element_number] >= instruction['value']:\n",
    "            new_position[element_number] = instruction['value'] - (element[element_number] - instruction['value'])\n",
    "        \n",
    "        new_dot_map.add(tuple(new_position))\n",
    "    \n",
    "    return new_dot_map"
   ]
  },
  {
   "cell_type": "code",
   "execution_count": 3,
   "id": "2d4536d2-41d2-42f3-abae-94f8c7bc337d",
   "metadata": {},
   "outputs": [
    {
     "name": "stdout",
     "output_type": "stream",
     "text": [
      "new_dot_map: {(0, 1), (9, 0), (6, 2), (8, 4), (3, 4), (4, 3), (0, 0), (10, 4), (0, 3), (2, 0), (6, 4), (1, 4), (3, 0), (6, 0), (4, 1), (10, 2), (9, 4)}\n",
      "len new_dot_map: 17\n"
     ]
    },
    {
     "data": {
      "text/plain": [
       "{(0, 0),\n",
       " (0, 1),\n",
       " (0, 3),\n",
       " (1, 4),\n",
       " (2, 0),\n",
       " (3, 0),\n",
       " (3, 4),\n",
       " (4, 1),\n",
       " (4, 3),\n",
       " (6, 0),\n",
       " (6, 2),\n",
       " (6, 4),\n",
       " (8, 4),\n",
       " (9, 0),\n",
       " (9, 4),\n",
       " (10, 2),\n",
       " (10, 4)}"
      ]
     },
     "execution_count": 3,
     "metadata": {},
     "output_type": "execute_result"
    }
   ],
   "source": [
    "dot_map, instructions = load_input()\n",
    "new_dot_map = execute_instruction({'direction': 'y', 'value': 7}, dot_map)\n",
    "print('new_dot_map: %s' % (new_dot_map, ))\n",
    "print('len new_dot_map: %s' % (len(new_dot_map), ))\n",
    "new_dot_map"
   ]
  },
  {
   "cell_type": "code",
   "execution_count": 4,
   "id": "720b8404-0d32-4cb1-b78e-1e5352e5a5b4",
   "metadata": {},
   "outputs": [
    {
     "name": "stdout",
     "output_type": "stream",
     "text": [
      "len new_dot_map: 810\n"
     ]
    }
   ],
   "source": [
    "dot_map, instructions = load_input('./data/input.txt')\n",
    "new_dot_map = execute_instruction(instructions[0], dot_map)\n",
    "print('len new_dot_map: %s' % (len(new_dot_map), ))"
   ]
  },
  {
   "cell_type": "markdown",
   "id": "acec80b2-f02f-4fcd-8cad-bece5082c024",
   "metadata": {},
   "source": [
    "Your puzzle answer was `810`."
   ]
  },
  {
   "cell_type": "markdown",
   "id": "3558461e-3d32-4eac-8c76-fac6b1e5b016",
   "metadata": {},
   "source": [
    "## Part two"
   ]
  },
  {
   "cell_type": "markdown",
   "id": "d7535403-da69-4543-b8b1-fe77f49e8ea4",
   "metadata": {},
   "source": [
    "Finish folding the transparent paper according to the instructions. The manual says the code is always **eight capital letters**.\n",
    "\n",
    "**What code do you use to activate the infrared thermal imaging camera system?**"
   ]
  },
  {
   "cell_type": "code",
   "execution_count": 5,
   "id": "5c8a354e-3b3c-42ce-8abf-a460543f4b62",
   "metadata": {},
   "outputs": [
    {
     "name": "stdout",
     "output_type": "stream",
     "text": [
      "instruction: {'direction': 'x', 'value': 655}\n",
      "instruction: {'direction': 'y', 'value': 447}\n",
      "instruction: {'direction': 'x', 'value': 327}\n",
      "instruction: {'direction': 'y', 'value': 223}\n",
      "instruction: {'direction': 'x', 'value': 163}\n",
      "instruction: {'direction': 'y', 'value': 111}\n",
      "instruction: {'direction': 'x', 'value': 81}\n",
      "instruction: {'direction': 'y', 'value': 55}\n",
      "instruction: {'direction': 'x', 'value': 40}\n",
      "instruction: {'direction': 'y', 'value': 27}\n",
      "instruction: {'direction': 'y', 'value': 13}\n",
      "instruction: {'direction': 'y', 'value': 6}\n",
      "len dot_map: 103\n"
     ]
    }
   ],
   "source": [
    "dot_map, instructions = load_input('./data/input.txt')\n",
    "for instruction in instructions:\n",
    "    print('instruction: %s' % (instruction, ))\n",
    "    dot_map = execute_instruction(instruction, dot_map)\n",
    "print('len dot_map: %s' % (len(dot_map), ))"
   ]
  },
  {
   "cell_type": "code",
   "execution_count": 6,
   "id": "a3333295-16b2-4f51-8ae1-4fa587b1e05f",
   "metadata": {},
   "outputs": [
    {
     "name": "stdout",
     "output_type": "stream",
     "text": [
      "▓░░▓░▓░░░░▓▓▓░░▓░░▓░▓▓▓░░░▓▓░░▓▓▓▓░▓▓▓░░\n",
      "▓░░▓░▓░░░░▓░░▓░▓░░▓░▓░░▓░▓░░▓░▓░░░░▓░░▓░\n",
      "▓▓▓▓░▓░░░░▓▓▓░░▓░░▓░▓▓▓░░▓░░░░▓▓▓░░▓░░▓░\n",
      "▓░░▓░▓░░░░▓░░▓░▓░░▓░▓░░▓░▓░▓▓░▓░░░░▓▓▓░░\n",
      "▓░░▓░▓░░░░▓░░▓░▓░░▓░▓░░▓░▓░░▓░▓░░░░▓░▓░░\n",
      "▓░░▓░▓▓▓▓░▓▓▓░░░▓▓░░▓▓▓░░░▓▓▓░▓░░░░▓░░▓░\n"
     ]
    }
   ],
   "source": [
    "def print_map(dot_map, size_x=40, size_y=6):\n",
    "    for y in range(0, size_y):\n",
    "        line = ''\n",
    "        for x in range(0, size_x):\n",
    "            if (x, y) in dot_map:\n",
    "                line += '▓'\n",
    "            else:\n",
    "                line += '░'\n",
    "        print(line)\n",
    "\n",
    "print_map(dot_map)            "
   ]
  },
  {
   "cell_type": "markdown",
   "id": "6927b384-9849-4009-ae19-b1044cbfe807",
   "metadata": {},
   "source": [
    "Your puzzle answer was `HLBUBGFR`."
   ]
  }
 ],
 "metadata": {
  "kernelspec": {
   "display_name": "Python 3 (ipykernel)",
   "language": "python",
   "name": "python3"
  },
  "language_info": {
   "codemirror_mode": {
    "name": "ipython",
    "version": 3
   },
   "file_extension": ".py",
   "mimetype": "text/x-python",
   "name": "python",
   "nbconvert_exporter": "python",
   "pygments_lexer": "ipython3",
   "version": "3.9.9"
  }
 },
 "nbformat": 4,
 "nbformat_minor": 5
}
