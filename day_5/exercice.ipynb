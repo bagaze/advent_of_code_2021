{
 "cells": [
  {
   "cell_type": "markdown",
   "id": "168d3dac-c214-4cac-a112-de94521df190",
   "metadata": {},
   "source": [
    "# Day 5: Hydrothermal Venture"
   ]
  },
  {
   "cell_type": "markdown",
   "id": "ffb60f55-f5ca-470b-9bbd-45fe3f66a284",
   "metadata": {},
   "source": [
    "## Part one"
   ]
  },
  {
   "cell_type": "markdown",
   "id": "df1a7751-e50e-4574-a321-3f49ed0e08cf",
   "metadata": {},
   "source": [
    "You come across a field of hydrothermal vents on the ocean floor! These vents constantly produce large, opaque clouds, so it would be best to avoid them if possible.\n",
    "\n",
    "They tend to form in lines; the submarine helpfully produces a list of nearby lines of vents (your puzzle input) for you to review. For example:\n",
    "\n",
    "```\n",
    "0,9 -> 5,9\n",
    "8,0 -> 0,8\n",
    "9,4 -> 3,4\n",
    "2,2 -> 2,1\n",
    "7,0 -> 7,4\n",
    "6,4 -> 2,0\n",
    "0,9 -> 2,9\n",
    "3,4 -> 1,4\n",
    "0,0 -> 8,8\n",
    "5,5 -> 8,2\n",
    "```\n",
    "\n",
    "Each line of vents is given as a line segment in the format `x1,y1 -> x2,y2` where `x1,y1` are the coordinates of one end the line segment and `x2,y2` are the coordinates of the other end. These line segments include the points at both ends. In other words:\n",
    "\n",
    "- An entry like `1,1 -> 1,3` covers points `1,1, 1,2, and 1,3`.\n",
    "- An entry like `9,7 -> 7,7` covers points `9,7, 8,7, and 7,7`.\n",
    "\n",
    "For now, only consider horizontal and vertical lines: lines where either `x1 = x2` or `y1 = y2`.\n",
    "\n",
    "So, the horizontal and vertical lines from the above list would produce the following diagram:\n",
    "\n",
    "```\n",
    ".......1..\n",
    "..1....1..\n",
    "..1....1..\n",
    ".......1..\n",
    ".112111211\n",
    "..........\n",
    "..........\n",
    "..........\n",
    "..........\n",
    "222111....\n",
    "```\n",
    "\n",
    "In this diagram, the top left corner is 0,0 and the bottom right corner is 9,9. Each position is shown as **the number of lines which cover that point** or `.` if no line covers that point. The top-left pair of `1s`, for example, comes from `2,2 -> 2,1`; the very bottom row is formed by the overlapping lines `0,9 -> 5,9` and `0,9 -> 2,9`.\n",
    "\n",
    "To avoid the most dangerous areas, you need to determine **the number of points where at least two lines overlap**. In the above example, this is anywhere in the diagram with a 2 or larger - a total of 5 points.\n",
    "\n",
    "Consider only horizontal and vertical lines. **At how many points do at least two lines overlap?**"
   ]
  },
  {
   "cell_type": "code",
   "execution_count": 1,
   "id": "c57af43d-9cf8-4799-93a0-b64ec7e6731c",
   "metadata": {},
   "outputs": [
    {
     "name": "stdout",
     "output_type": "stream",
     "text": [
      "0 2 0 0 0 0 0 0 0 0\n",
      "0 0 0 0 0 0 0 0 0 0\n",
      "0 0 0 0 0 0 0 0 0 0\n",
      "0 0 0 0 0 0 0 0 0 0\n",
      "0 0 0 0 0 0 0 0 0 0\n",
      "0 0 0 0 0 0 0 0 0 0\n",
      "0 0 0 0 0 0 0 0 0 0\n",
      "0 0 0 0 0 0 0 0 0 0\n",
      "0 0 0 0 0 0 0 0 0 0\n",
      "0 0 0 0 0 0 0 0 0 2\n"
     ]
    },
    {
     "data": {
      "text/plain": [
       "2"
      ]
     },
     "execution_count": 1,
     "metadata": {},
     "output_type": "execute_result"
    }
   ],
   "source": [
    "class Map:\n",
    "    def __init__(self, size):\n",
    "        self.size = size\n",
    "        self.board = [[]]\n",
    "        self.init_board()\n",
    "        \n",
    "    def init_board(self):\n",
    "        board = []\n",
    "        for x in range(0, self.size):\n",
    "            line = []\n",
    "            for y in range(0, self.size):\n",
    "                line.append(0)\n",
    "            board.append(line)\n",
    "        self.board = board\n",
    "        \n",
    "    def check_board(self, x, y):\n",
    "        self.board[x][y] += 1\n",
    "    \n",
    "    def print_board(self):\n",
    "        print('\\n'.join(' '.join(map(str, x)) for x in self.board))\n",
    "        \n",
    "    def count_overlap(self):\n",
    "        count = 0\n",
    "        for line in self.board:\n",
    "            for val in line:\n",
    "                if val > 1:\n",
    "                    count += 1\n",
    "        \n",
    "        return count\n",
    "                \n",
    "    \n",
    "demo_board = Map(10)\n",
    "demo_board.check_board(0, 1)\n",
    "demo_board.check_board(0, 1)\n",
    "demo_board.check_board(9, 9)\n",
    "demo_board.check_board(9, 9)\n",
    "demo_board.print_board()\n",
    "demo_board.count_overlap()"
   ]
  },
  {
   "cell_type": "code",
   "execution_count": 2,
   "id": "90981667-2ee6-424b-908d-99af1312796e",
   "metadata": {},
   "outputs": [
    {
     "name": "stdout",
     "output_type": "stream",
     "text": [
      "(x1: 1 - y1: 2) - (x2: 3 - y2: 4)\n"
     ]
    },
    {
     "data": {
      "text/plain": [
       "[[1, 2], [1, 3], [1, 4], [2, 2], [2, 3], [2, 4], [3, 2], [3, 3], [3, 4]]"
      ]
     },
     "execution_count": 2,
     "metadata": {},
     "output_type": "execute_result"
    }
   ],
   "source": [
    "class LineOfVent:\n",
    "    \n",
    "    def __init__(self, x1, y1, x2, y2):\n",
    "        if x1 < x2:\n",
    "            self.x1 = x1\n",
    "            self.x2 = x2\n",
    "        else:\n",
    "            self.x1 = x2\n",
    "            self.x2 = x1\n",
    "        \n",
    "        if y1 < y2:\n",
    "            self.y1 = y1\n",
    "            self.y2 = y2\n",
    "        else:\n",
    "            self.y1 = y2\n",
    "            self.y2 = y1\n",
    "\n",
    "    \n",
    "    def __str__(self):\n",
    "        return '(x1: %s - y1: %s) - (x2: %s - y2: %s)' % (self.x1, self.y1, self.x2, self.y2, )\n",
    "\n",
    "    \n",
    "    \n",
    "    def is_vertical_or_horizontal(self):\n",
    "        return (self.x1 == self.x2) or (self.y1 == self.y2)\n",
    "    \n",
    "    \n",
    "    def generate_fields(self):\n",
    "        field = []\n",
    "        for x in range(self.x1, self.x2 + 1):\n",
    "            for y in range(self.y1, self.y2 + 1):\n",
    "                field.append([x, y])\n",
    "        return field\n",
    "    \n",
    "line_of_vent_1 = LineOfVent(1, 2, 3, 4)\n",
    "print('%s' % (str(line_of_vent_1), ))\n",
    "if line_of_vent_1.is_vertical_or_horizontal(): print('line of vent is hor or ver')\n",
    "line_of_vent_1.generate_fields()"
   ]
  },
  {
   "cell_type": "code",
   "execution_count": 3,
   "id": "4136f375-f384-42e5-bc6d-4813736d4eaa",
   "metadata": {},
   "outputs": [
    {
     "name": "stdout",
     "output_type": "stream",
     "text": [
      "(x1: 194 - y1: 556) - (x2: 739 - y2: 556) - hor/ver: True\n",
      "(x1: 818 - y1: 524) - (x2: 818 - y2: 920) - hor/ver: True\n",
      "(x1: 340 - y1: 300) - (x2: 774 - y2: 734) - hor/ver: False\n",
      "(x1: 146 - y1: 434) - (x2: 223 - y2: 511) - hor/ver: False\n",
      "(x1: 122 - y1: 47) - (x2: 841 - y2: 766) - hor/ver: False\n"
     ]
    }
   ],
   "source": [
    "import re\n",
    "\n",
    "line_of_vents = []\n",
    "\n",
    "with open('data/input.txt', 'r') as f:\n",
    "    for line in f.read().splitlines():\n",
    "        m = re.search('^([0-9]+),([0-9]+) -> ([0-9]+),([0-9]+)$', line)\n",
    "        line_of_vents.append(LineOfVent(int(m.group(1)), int(m.group(2)), int(m.group(3)), int(m.group(4))))\n",
    "        \n",
    "for i in range (0, 5):\n",
    "    print('%s - hor/ver: %s' % (str(line_of_vents[i]), line_of_vents[i].is_vertical_or_horizontal(), ))"
   ]
  },
  {
   "cell_type": "code",
   "execution_count": 4,
   "id": "9ab442b3-5977-4694-aa50-6fc852fbf2b7",
   "metadata": {},
   "outputs": [
    {
     "data": {
      "text/plain": [
       "7085"
      ]
     },
     "execution_count": 4,
     "metadata": {},
     "output_type": "execute_result"
    }
   ],
   "source": [
    "ex1_board = Map(1000)\n",
    "\n",
    "for line_of_vent in line_of_vents:\n",
    "    if line_of_vent.is_vertical_or_horizontal():\n",
    "        for field in line_of_vent.generate_fields():\n",
    "            ex1_board.check_board(field[0], field[1])\n",
    "            \n",
    "ex1_board.count_overlap()"
   ]
  },
  {
   "cell_type": "markdown",
   "id": "31518cd0-bfb7-4496-9dac-a8fff85b2d4e",
   "metadata": {},
   "source": [
    "Your puzzle answer was `7085`."
   ]
  },
  {
   "cell_type": "markdown",
   "id": "00fa24dd-38d2-4c03-a944-824f1ad4e874",
   "metadata": {},
   "source": [
    "## Part two"
   ]
  },
  {
   "cell_type": "markdown",
   "id": "e560324a-6f00-4967-9d01-cb3df1667658",
   "metadata": {},
   "source": [
    "Unfortunately, considering only horizontal and vertical lines doesn't give you the full picture; you need to also consider **diagonal lines**.\n",
    "\n",
    "Because of the limits of the hydrothermal vent mapping system, the lines in your list will only ever be horizontal, vertical, or a diagonal line at exactly 45 degrees. In other words:\n",
    "\n",
    "- An entry like `1,1 -> 3,3` covers points `1,1`, `2,2`, and `3,3`.\n",
    "- An entry like `9,7` -> `7,9` covers points `9,7`, `8,8`, and `7,9`.\n",
    "\n",
    "Considering all lines from the above example would now produce the following diagram:\n",
    "\n",
    "```\n",
    "1.1....11.\n",
    ".111...2..\n",
    "..2.1.111.\n",
    "...1.2.2..\n",
    ".112313211\n",
    "...1.2....\n",
    "..1...1...\n",
    ".1.....1..\n",
    "1.......1.\n",
    "222111....\n",
    "```\n",
    "\n",
    "You still need to determine **the number of points where at least two lines overlap**. In the above example, this is still anywhere in the diagram with a 2 or larger - now a total of `12` points.\n",
    "\n",
    "Consider all of the lines. **At how many points do at least two lines overlap?**"
   ]
  },
  {
   "cell_type": "code",
   "execution_count": 12,
   "id": "4e19db82-4a7d-49fb-b321-bf33c690aa7d",
   "metadata": {},
   "outputs": [
    {
     "name": "stdout",
     "output_type": "stream",
     "text": [
      "(x1: 1 - y1: 3) - (x2: 4 - y2: 6)\n",
      "line of vent is diagonal\n"
     ]
    },
    {
     "data": {
      "text/plain": [
       "[[1, 3], [2, 4], [3, 5], [4, 6]]"
      ]
     },
     "execution_count": 12,
     "metadata": {},
     "output_type": "execute_result"
    }
   ],
   "source": [
    "import operator\n",
    "\n",
    "class LineOfVentEx2:\n",
    "    \n",
    "    def __init__(self, x1, y1, x2, y2):\n",
    "        self.x1 = x1\n",
    "        self.x2 = x2\n",
    "        \n",
    "        self.y1 = y1\n",
    "        self.y2 = y2\n",
    "\n",
    "        \n",
    "    def __str__(self):\n",
    "        return '(x1: %s - y1: %s) - (x2: %s - y2: %s)' % (self.x1, self.y1, self.x2, self.y2, )\n",
    "\n",
    "        \n",
    "    def is_horizontal(self):\n",
    "        return (self.x1 == self.x2)\n",
    "\n",
    "        \n",
    "    def is_vertical(self):\n",
    "        return (self.y1 == self.y2)\n",
    "    \n",
    "    \n",
    "    def is_diagonal(self):\n",
    "        return abs(self.x1 - self.x2) == abs(self.y1 - self.y2)\n",
    "    \n",
    "    \n",
    "    def is_horizontal_vertical_diagonal(self):\n",
    "        return self.is_horizontal() or self.is_vertical() or self.is_diagonal()\n",
    "    \n",
    "    \n",
    "    def generate_line(self):\n",
    "        line = []\n",
    "        \n",
    "        if self.is_horizontal():\n",
    "            line.append([self.x1, self.y1])\n",
    "            if self.y1 < self.y2:\n",
    "                for y in range(self.y1 + 1, self.y2 + 1):\n",
    "                    line.append([self.x1, y])\n",
    "            else:\n",
    "                for y in range(self.y2, self.y1):\n",
    "                    line.append([self.x1, y])\n",
    "        \n",
    "        elif self.is_vertical():\n",
    "            line.append([self.x1, self.y1])\n",
    "            if self.x1 < self.x2:\n",
    "                for x in range(self.x1 + 1, self.x2 + 1):\n",
    "                    line.append([x, self.y1])\n",
    "            else:\n",
    "                for x in range(self.x2, self.x1):\n",
    "                    line.append([x, self.y1])\n",
    "        \n",
    "        elif self.is_diagonal():\n",
    "            line.append([self.x1, self.y1])\n",
    "            if self.x1 < self.x2:\n",
    "                x_func = operator.add\n",
    "            else:\n",
    "                x_func = operator.sub\n",
    "                \n",
    "            if self.y1 < self.y2:\n",
    "                y_func = operator.add\n",
    "            else:\n",
    "                y_func = operator.sub\n",
    "                \n",
    "            x = x_func(self.x1, 1)\n",
    "            y = y_func(self.y1, 1)\n",
    "            line.append([x, y])\n",
    "            \n",
    "            while x != self.x2:\n",
    "                x = x_func(x, 1)\n",
    "                y = y_func(y, 1)\n",
    "                line.append([x, y])\n",
    "        \n",
    "        return line\n",
    "    \n",
    "line_of_vent_2 = LineOfVentEx2(1, 3, 4, 6)\n",
    "print('%s' % (str(line_of_vent_2), ))\n",
    "if line_of_vent_2.is_vertical(): print('line of vent is vertical')\n",
    "if line_of_vent_2.is_horizontal(): print('line of vent is horizontal')\n",
    "if line_of_vent_2.is_diagonal(): print('line of vent is diagonal')\n",
    "line_of_vent_2.generate_line()"
   ]
  },
  {
   "cell_type": "code",
   "execution_count": 18,
   "id": "34073189-aa28-491f-b634-947811438e90",
   "metadata": {},
   "outputs": [
    {
     "name": "stdout",
     "output_type": "stream",
     "text": [
      "(x1: 194 - y1: 556) - (x2: 739 - y2: 556) - hor/ver/diag: True\n",
      "(x1: 818 - y1: 920) - (x2: 818 - y2: 524) - hor/ver/diag: True\n",
      "(x1: 340 - y1: 734) - (x2: 774 - y2: 300) - hor/ver/diag: True\n",
      "(x1: 223 - y1: 511) - (x2: 146 - y2: 434) - hor/ver/diag: True\n",
      "(x1: 841 - y1: 47) - (x2: 122 - y2: 766) - hor/ver/diag: True\n"
     ]
    }
   ],
   "source": [
    "import re\n",
    "\n",
    "line_of_vents_ex2 = []\n",
    "\n",
    "with open('data/input.txt', 'r') as f:\n",
    "    for line in f.read().splitlines():\n",
    "        m = re.search('^([0-9]+),([0-9]+) -> ([0-9]+),([0-9]+)$', line)\n",
    "        line_of_vents_ex2.append(LineOfVentEx2(int(m.group(1)), int(m.group(2)), int(m.group(3)), int(m.group(4))))\n",
    "        \n",
    "for i in range (0, 5):\n",
    "    print('%s - hor/ver/diag: %s' % (str(line_of_vents_ex2[i]), line_of_vents_ex2[i].is_horizontal_vertical_diagonal(), ))"
   ]
  },
  {
   "cell_type": "code",
   "execution_count": 19,
   "id": "3b4de77e-d599-486f-8398-ce658fb4f9b0",
   "metadata": {},
   "outputs": [
    {
     "data": {
      "text/plain": [
       "20271"
      ]
     },
     "execution_count": 19,
     "metadata": {},
     "output_type": "execute_result"
    }
   ],
   "source": [
    "ex2_board = Map(1000)\n",
    "\n",
    "for line_of_vent_ex2 in line_of_vents_ex2:\n",
    "    if line_of_vent_ex2.is_horizontal_vertical_diagonal():\n",
    "        for field in line_of_vent_ex2.generate_line():\n",
    "            ex2_board.check_board(field[0], field[1])\n",
    "            \n",
    "ex2_board.count_overlap()"
   ]
  },
  {
   "cell_type": "markdown",
   "id": "2a974926-3057-4b55-95b4-99094031b893",
   "metadata": {},
   "source": [
    "Your puzzle answer was 20271."
   ]
  }
 ],
 "metadata": {
  "kernelspec": {
   "display_name": "Python 3 (ipykernel)",
   "language": "python",
   "name": "python3"
  },
  "language_info": {
   "codemirror_mode": {
    "name": "ipython",
    "version": 3
   },
   "file_extension": ".py",
   "mimetype": "text/x-python",
   "name": "python",
   "nbconvert_exporter": "python",
   "pygments_lexer": "ipython3",
   "version": "3.9.9"
  }
 },
 "nbformat": 4,
 "nbformat_minor": 5
}
