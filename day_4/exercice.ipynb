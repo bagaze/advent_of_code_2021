{
 "cells": [
  {
   "cell_type": "markdown",
   "id": "def27460-773a-456f-9c01-4d3f39d34997",
   "metadata": {},
   "source": [
    "# Day 4: Giant Squid"
   ]
  },
  {
   "cell_type": "markdown",
   "id": "d38f2efd-84c8-4217-acd2-6992d8749556",
   "metadata": {},
   "source": [
    "## Part one"
   ]
  },
  {
   "cell_type": "markdown",
   "id": "0fe8791f-4660-42ae-97ac-edddff8d136a",
   "metadata": {},
   "source": [
    "You're already almost 1.5km (almost a mile) below the surface of the ocean, already so deep that you can't see any sunlight. What you can see, however, is a giant squid that has attached itself to the outside of your submarine.\n",
    "\n",
    "Maybe it wants to play bingo?\n",
    "\n",
    "Bingo is played on a set of boards each consisting of a 5x5 grid of numbers. Numbers are chosen at random, and the chosen number is marked on all boards on which it appears. (Numbers may not appear on all boards.) If all numbers in any row or any column of a board are marked, that board wins. (Diagonals don't count.)\n",
    "\n",
    "The submarine has a bingo subsystem to help passengers (currently, you and the giant squid) pass the time. It automatically generates a random order in which to draw numbers and a random set of boards (your puzzle input). For example:\n",
    "\n",
    "`7,4,9,5,11,17,23,2,0,14,21,24,10,16,13,6,15,25,12,22,18,20,8,19,3,26,1`\n",
    "\n",
    "```\n",
    "22 13 17 11  0\n",
    " 8  2 23  4 24\n",
    "21  9 14 16  7\n",
    " 6 10  3 18  5\n",
    " 1 12 20 15 19\n",
    "\n",
    " 3 15  0  2 22\n",
    " 9 18 13 17  5\n",
    "19  8  7 25 23\n",
    "20 11 10 24  4\n",
    "14 21 16 12  6\n",
    "\n",
    "14 21 17 24  4\n",
    "10 16 15  9 19\n",
    "18  8 23 26 20\n",
    "22 11 13  6  5\n",
    " 2  0 12  3  7\n",
    "```\n",
    "\n",
    "After the first five numbers are drawn (`7`, `4`, `9`, `5`, and `11`), there are no winners, but the boards are marked as follows (shown here adjacent to each other to save space):\n",
    "\n",
    "```\n",
    "22 13 17 11  0         3 15  0  2 22        14 21 17 24  4\n",
    " 8  2 23  4 24         9 18 13 17  5        10 16 15  9 19\n",
    "21  9 14 16  7        19  8  7 25 23        18  8 23 26 20\n",
    " 6 10  3 18  5        20 11 10 24  4        22 11 13  6  5\n",
    " 1 12 20 15 19        14 21 16 12  6         2  0 12  3  7\n",
    "```\n",
    "\n",
    "After the next six numbers are drawn (`17`, `23`, `2`, `0`, `14`, and `21`), there are still no winners:\n",
    "\n",
    "```\n",
    "22 13 17 11  0         3 15  0  2 22        14 21 17 24  4\n",
    " 8  2 23  4 24         9 18 13 17  5        10 16 15  9 19\n",
    "21  9 14 16  7        19  8  7 25 23        18  8 23 26 20\n",
    " 6 10  3 18  5        20 11 10 24  4        22 11 13  6  5\n",
    " 1 12 20 15 19        14 21 16 12  6         2  0 12  3  7\n",
    "```\n",
    "\n",
    "Finally, `24` is drawn:\n",
    "\n",
    "```\n",
    "22 13 17 11  0         3 15  0  2 22        14 21 17 24  4\n",
    " 8  2 23  4 24         9 18 13 17  5        10 16 15  9 19\n",
    "21  9 14 16  7        19  8  7 25 23        18  8 23 26 20\n",
    " 6 10  3 18  5        20 11 10 24  4        22 11 13  6  5\n",
    " 1 12 20 15 19        14 21 16 12  6         2  0 12  3  7\n",
    "```\n",
    "\n",
    "At this point, the third board **wins** because it has at least one complete row or column of marked numbers (in this case, the entire top row is marked: `14 21 17 24 4`).\n",
    "\n",
    "The **score** of the winning board can now be calculated. Start by finding the **sum of all unmarked numbers** on that board; in this case, the sum is `188`. Then, multiply that sum by **the number that was just called** when the board won, `24`, to get the final score, `188 * 24 = 4512`.\n",
    "\n",
    "To guarantee victory against the giant squid, figure out which board will win first. **What will your final score be if you choose that board?**"
   ]
  },
  {
   "cell_type": "code",
   "execution_count": 1,
   "id": "d8db3f41-bc80-4020-ac5a-81f8aeb89c1b",
   "metadata": {},
   "outputs": [],
   "source": [
    "from collections import namedtuple"
   ]
  },
  {
   "cell_type": "code",
   "execution_count": 2,
   "id": "27537242",
   "metadata": {},
   "outputs": [
    {
     "name": "stdout",
     "output_type": "stream",
     "text": [
      "(37, 60, 87, 13, 34, 72, 45, 49, 61, 27, 97, 88, 50, 30, 76, 40, 63, 9, 38, 67, 82, 6, 59, 90, 99, 54, 11, 66, 98, 23, 64, 14, 18, 4, 10, 89, 46, 32, 19, 5, 1, 53, 25, 96, 2, 12, 86, 58, 41, 68, 95, 8, 7, 3, 85, 70, 35, 55, 77, 44, 36, 51, 15, 52, 56, 57, 91, 16, 71, 92, 84, 17, 33, 29, 47, 75, 80, 39, 83, 74, 73, 65, 78, 69, 21, 42, 31, 93, 22, 62, 24, 48, 81, 0, 26, 43, 20, 28, 94, 79) (({'value': 66, 'drawn': False}, {'value': 78, 'drawn': False}, {'value': 7, 'drawn': False}, {'value': 45, 'drawn': False}, {'value': 92, 'drawn': False}), ({'value': 39, 'drawn': False}, {'value': 38, 'drawn': False}, {'value': 62, 'drawn': False}, {'value': 81, 'drawn': False}, {'value': 77, 'drawn': False}), ({'value': 9, 'drawn': False}, {'value': 73, 'drawn': False}, {'value': 25, 'drawn': False}, {'value': 97, 'drawn': False}, {'value': 99, 'drawn': False}), ({'value': 87, 'drawn': False}, {'value': 80, 'drawn': False}, {'value': 19, 'drawn': False}, {'value': 1, 'drawn': False}, {'value': 71, 'drawn': False}), ({'value': 85, 'drawn': False}, {'value': 35, 'drawn': False}, {'value': 52, 'drawn': False}, {'value': 26, 'drawn': False}, {'value': 68, 'drawn': False}))\n"
     ]
    }
   ],
   "source": [
    "def load_input(filepath: str='./data/input.txt') -> tuple:\n",
    "    with open(filepath, 'r') as f:\n",
    "        draws = tuple(int(el) for el in next(f).rstrip().split(','))\n",
    "        _ = next(f)\n",
    "        lines = [l.rstrip() for l in f]\n",
    "\n",
    "    def build_board(lines):\n",
    "        return tuple(\n",
    "            tuple(\n",
    "                {'value': int(item), 'drawn': False} for item in line.split(' ') if item) for line in lines\n",
    "            )\n",
    "\n",
    "    boards = tuple(build_board(lines[i:i + 5]) for i in range(0, len(lines), 6))\n",
    "\n",
    "    return draws, boards\n",
    "\n",
    "draws, boards = load_input()\n",
    "print(draws, boards[0])"
   ]
  },
  {
   "cell_type": "code",
   "execution_count": 3,
   "id": "717ec973",
   "metadata": {},
   "outputs": [],
   "source": [
    "DrawnElem = namedtuple('DrawnElem', 'el board_num line_num col_num')\n",
    "\n",
    "def bingo_draw(selected_number: int, boards: tuple) -> tuple:\n",
    "    # Select every elem that have been drawn\n",
    "    # along with their board, line and col number\n",
    "    drawn_elems = tuple(DrawnElem(boards[board_num][line_num][col_num], board_num, line_num, col_num) \n",
    "                for board_num in range(len(boards)) \n",
    "                for line_num in range(len(boards[board_num])) \n",
    "                for col_num in range(len(boards[board_num][line_num])) \n",
    "                if boards[board_num][line_num][col_num]['value'] == selected_number)\n",
    "\n",
    "    # Set their drawn parameter to true\n",
    "    for d_el in drawn_elems:\n",
    "        d_el.el['drawn'] = True\n",
    "    \n",
    "    return drawn_elems\n",
    "\n",
    "def bingo_win(drawn_elems: tuple, boards: tuple) -> tuple:\n",
    "    for el in drawn_elems:\n",
    "        # Check items of the line\n",
    "        l_drawn = [int(line_elem['drawn']) \n",
    "                for line_elem in boards[el.board_num][el.line_num]]\n",
    "        if sum(l_drawn) == 5:\n",
    "            return True, el\n",
    "\n",
    "        # Check items of the column\n",
    "        c_drawn = [int(boards[el.board_num][line_num][el.col_num]['drawn']) \n",
    "                for line_num in range(len(boards[el.board_num][el.line_num]))]\n",
    "        if sum(c_drawn) == 5:\n",
    "            return True, el\n",
    "\n",
    "    return False, None"
   ]
  },
  {
   "cell_type": "code",
   "execution_count": 4,
   "id": "8ca0d913",
   "metadata": {},
   "outputs": [
    {
     "data": {
      "text/plain": [
       "DrawnElem(el={'value': 54, 'drawn': True}, board_num=14, line_num=2, col_num=0)"
      ]
     },
     "execution_count": 4,
     "metadata": {},
     "output_type": "execute_result"
    }
   ],
   "source": [
    "draws, boards = load_input()\n",
    "\n",
    "for sel_num in draws:\n",
    "    drawn_elems = bingo_draw(sel_num, boards)\n",
    "\n",
    "    has_win, el = bingo_win(drawn_elems, boards)\n",
    "    if has_win:\n",
    "        break\n",
    "\n",
    "el"
   ]
  },
  {
   "cell_type": "code",
   "execution_count": 5,
   "id": "a0c40504",
   "metadata": {},
   "outputs": [],
   "source": [
    "def sum_unmarked(board):\n",
    "    return sum([el['value'] for line in board for el in line if not el['drawn']])"
   ]
  },
  {
   "cell_type": "code",
   "execution_count": 6,
   "id": "9ea503be",
   "metadata": {},
   "outputs": [
    {
     "data": {
      "text/plain": [
       "34506"
      ]
     },
     "execution_count": 6,
     "metadata": {},
     "output_type": "execute_result"
    }
   ],
   "source": [
    "sum_unmarked(boards[el.board_num]) * el.el['value']"
   ]
  },
  {
   "cell_type": "markdown",
   "id": "eb8aac8c-0f5e-41f5-b05c-8a86072f5f0a",
   "metadata": {},
   "source": [
    "Your puzzle answer was `34506`."
   ]
  },
  {
   "cell_type": "markdown",
   "id": "6442f05a-86dc-4d97-9d28-41580bef5d19",
   "metadata": {},
   "source": [
    "## Part two"
   ]
  },
  {
   "cell_type": "markdown",
   "id": "4cc0a682-0e63-4f2b-b091-c50a0eb36532",
   "metadata": {},
   "source": [
    "On the other hand, it might be wise to try a different strategy: let the giant squid win.\n",
    "\n",
    "You aren't sure how many bingo boards a giant squid could play at once, so rather than waste time counting its arms, the safe thing to do is to **figure out which board will win last** and choose that one. That way, no matter which boards it picks, it will win for sure.\n",
    "\n",
    "In the above example, the second board is the last to win, which happens after 13 is eventually called and its middle column is completely marked. If you were to keep playing until this point, the second board would have a sum of unmarked numbers equal to 148 for a final score of `148 * 13 = 1924`.\n",
    "\n",
    "Figure out which board will win last. **Once it wins, what would its final score be?**"
   ]
  },
  {
   "cell_type": "code",
   "execution_count": 7,
   "id": "167e6d0d",
   "metadata": {},
   "outputs": [],
   "source": [
    "DrawnElem = namedtuple('DrawnElem', 'el board_num line_num col_num')\n",
    "\n",
    "def bingo_draw(selected_number: int, boards: tuple, remaining_board_nums: list) -> tuple:\n",
    "    # Select every elem that have been drawn\n",
    "    # along with their board, line and col number\n",
    "    drawn_elems = tuple(DrawnElem(boards[board_num][line_num][col_num], board_num, line_num, col_num) \n",
    "                for board_num in remaining_board_nums \n",
    "                for line_num in range(len(boards[board_num])) \n",
    "                for col_num in range(len(boards[board_num][line_num])) \n",
    "                if boards[board_num][line_num][col_num]['value'] == selected_number)\n",
    "\n",
    "    # Set their drawn parameter to true\n",
    "    for d_el in drawn_elems:\n",
    "        d_el.el['drawn'] = True\n",
    "    \n",
    "    return drawn_elems\n",
    "\n",
    "def bingo_win(drawn_elems: tuple, boards: tuple) -> tuple:\n",
    "    ending_els = []\n",
    "    for el in drawn_elems:\n",
    "        # Check items of the line\n",
    "        l_drawn = [int(line_elem['drawn']) \n",
    "                for line_elem in boards[el.board_num][el.line_num]]\n",
    "        if sum(l_drawn) == 5:\n",
    "            ending_els.append(el)\n",
    "            continue\n",
    "\n",
    "        # Check items of the column\n",
    "        c_drawn = [int(boards[el.board_num][line_num][el.col_num]['drawn']) \n",
    "                for line_num in range(len(boards[el.board_num][el.line_num]))]\n",
    "        if sum(c_drawn) == 5:\n",
    "            ending_els.append(el)\n",
    "            continue\n",
    "\n",
    "    return (True, ending_els) if ending_els else (False, None)"
   ]
  },
  {
   "cell_type": "code",
   "execution_count": 8,
   "id": "cbfb1171",
   "metadata": {},
   "outputs": [],
   "source": [
    "draws, boards = load_input()\n",
    "remaining_board_nums = list(range(len(boards)))\n",
    "\n",
    "for sel_num in draws:\n",
    "    drawn_elems = bingo_draw(sel_num, boards, remaining_board_nums)\n",
    "\n",
    "    has_win, ending_els = bingo_win(drawn_elems, boards)\n",
    "    if has_win:\n",
    "        ended_b_num = [b_num.board_num for b_num in ending_els]\n",
    "        remaining_board_nums = [el for el in remaining_board_nums if el not in ended_b_num]\n",
    "\n",
    "    if not remaining_board_nums:\n",
    "        break\n",
    "\n",
    "el = ending_els[0]"
   ]
  },
  {
   "cell_type": "code",
   "execution_count": 9,
   "id": "3f5c088c",
   "metadata": {},
   "outputs": [
    {
     "data": {
      "text/plain": [
       "7686"
      ]
     },
     "execution_count": 9,
     "metadata": {},
     "output_type": "execute_result"
    }
   ],
   "source": [
    "sum_unmarked(boards[el.board_num]) * el.el['value']"
   ]
  },
  {
   "cell_type": "markdown",
   "id": "5aa0907b-f070-4711-ae12-4906f8db4ddc",
   "metadata": {},
   "source": [
    "Your puzzle answer was 7686."
   ]
  }
 ],
 "metadata": {
  "kernelspec": {
   "display_name": "Python 3 (ipykernel)",
   "language": "python",
   "name": "python3"
  },
  "language_info": {
   "codemirror_mode": {
    "name": "ipython",
    "version": 3
   },
   "file_extension": ".py",
   "mimetype": "text/x-python",
   "name": "python",
   "nbconvert_exporter": "python",
   "pygments_lexer": "ipython3",
   "version": "3.9.10"
  }
 },
 "nbformat": 4,
 "nbformat_minor": 5
}
