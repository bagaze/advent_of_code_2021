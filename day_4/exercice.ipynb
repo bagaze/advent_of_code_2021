{
 "cells": [
  {
   "cell_type": "markdown",
   "id": "def27460-773a-456f-9c01-4d3f39d34997",
   "metadata": {},
   "source": [
    "# Day 4: Giant Squid"
   ]
  },
  {
   "cell_type": "markdown",
   "id": "d38f2efd-84c8-4217-acd2-6992d8749556",
   "metadata": {},
   "source": [
    "## Part one"
   ]
  },
  {
   "cell_type": "markdown",
   "id": "0fe8791f-4660-42ae-97ac-edddff8d136a",
   "metadata": {},
   "source": [
    "You're already almost 1.5km (almost a mile) below the surface of the ocean, already so deep that you can't see any sunlight. What you can see, however, is a giant squid that has attached itself to the outside of your submarine.\n",
    "\n",
    "Maybe it wants to play bingo?\n",
    "\n",
    "Bingo is played on a set of boards each consisting of a 5x5 grid of numbers. Numbers are chosen at random, and the chosen number is marked on all boards on which it appears. (Numbers may not appear on all boards.) If all numbers in any row or any column of a board are marked, that board wins. (Diagonals don't count.)\n",
    "\n",
    "The submarine has a bingo subsystem to help passengers (currently, you and the giant squid) pass the time. It automatically generates a random order in which to draw numbers and a random set of boards (your puzzle input). For example:\n",
    "\n",
    "`7,4,9,5,11,17,23,2,0,14,21,24,10,16,13,6,15,25,12,22,18,20,8,19,3,26,1`\n",
    "\n",
    "```\n",
    "22 13 17 11  0\n",
    " 8  2 23  4 24\n",
    "21  9 14 16  7\n",
    " 6 10  3 18  5\n",
    " 1 12 20 15 19\n",
    "\n",
    " 3 15  0  2 22\n",
    " 9 18 13 17  5\n",
    "19  8  7 25 23\n",
    "20 11 10 24  4\n",
    "14 21 16 12  6\n",
    "\n",
    "14 21 17 24  4\n",
    "10 16 15  9 19\n",
    "18  8 23 26 20\n",
    "22 11 13  6  5\n",
    " 2  0 12  3  7\n",
    "```\n",
    "\n",
    "After the first five numbers are drawn (`7`, `4`, `9`, `5`, and `11`), there are no winners, but the boards are marked as follows (shown here adjacent to each other to save space):\n",
    "\n",
    "```\n",
    "22 13 17 11  0         3 15  0  2 22        14 21 17 24  4\n",
    " 8  2 23  4 24         9 18 13 17  5        10 16 15  9 19\n",
    "21  9 14 16  7        19  8  7 25 23        18  8 23 26 20\n",
    " 6 10  3 18  5        20 11 10 24  4        22 11 13  6  5\n",
    " 1 12 20 15 19        14 21 16 12  6         2  0 12  3  7\n",
    "```\n",
    "\n",
    "After the next six numbers are drawn (`17`, `23`, `2`, `0`, `14`, and `21`), there are still no winners:\n",
    "\n",
    "```\n",
    "22 13 17 11  0         3 15  0  2 22        14 21 17 24  4\n",
    " 8  2 23  4 24         9 18 13 17  5        10 16 15  9 19\n",
    "21  9 14 16  7        19  8  7 25 23        18  8 23 26 20\n",
    " 6 10  3 18  5        20 11 10 24  4        22 11 13  6  5\n",
    " 1 12 20 15 19        14 21 16 12  6         2  0 12  3  7\n",
    "```\n",
    "\n",
    "Finally, `24` is drawn:\n",
    "\n",
    "```\n",
    "22 13 17 11  0         3 15  0  2 22        14 21 17 24  4\n",
    " 8  2 23  4 24         9 18 13 17  5        10 16 15  9 19\n",
    "21  9 14 16  7        19  8  7 25 23        18  8 23 26 20\n",
    " 6 10  3 18  5        20 11 10 24  4        22 11 13  6  5\n",
    " 1 12 20 15 19        14 21 16 12  6         2  0 12  3  7\n",
    "```\n",
    "\n",
    "At this point, the third board **wins** because it has at least one complete row or column of marked numbers (in this case, the entire top row is marked: `14 21 17 24 4`).\n",
    "\n",
    "The **score** of the winning board can now be calculated. Start by finding the **sum of all unmarked numbers** on that board; in this case, the sum is `188`. Then, multiply that sum by **the number that was just called** when the board won, `24`, to get the final score, `188 * 24 = 4512`.\n",
    "\n",
    "To guarantee victory against the giant squid, figure out which board will win first. **What will your final score be if you choose that board?**"
   ]
  },
  {
   "cell_type": "code",
   "execution_count": 106,
   "id": "d8db3f41-bc80-4020-ac5a-81f8aeb89c1b",
   "metadata": {},
   "outputs": [
    {
     "data": {
      "text/plain": [
       "[[[{'value': 66, 'drawn': False},\n",
       "   {'value': 78, 'drawn': False},\n",
       "   {'value': 7, 'drawn': False},\n",
       "   {'value': 45, 'drawn': False},\n",
       "   {'value': 92, 'drawn': False}],\n",
       "  [{'value': 39, 'drawn': False},\n",
       "   {'value': 38, 'drawn': False},\n",
       "   {'value': 62, 'drawn': False},\n",
       "   {'value': 81, 'drawn': False},\n",
       "   {'value': 77, 'drawn': False}],\n",
       "  [{'value': 9, 'drawn': False},\n",
       "   {'value': 73, 'drawn': False},\n",
       "   {'value': 25, 'drawn': False},\n",
       "   {'value': 97, 'drawn': False},\n",
       "   {'value': 99, 'drawn': False}],\n",
       "  [{'value': 87, 'drawn': False},\n",
       "   {'value': 80, 'drawn': False},\n",
       "   {'value': 19, 'drawn': False},\n",
       "   {'value': 1, 'drawn': False},\n",
       "   {'value': 71, 'drawn': False}],\n",
       "  [{'value': 85, 'drawn': False},\n",
       "   {'value': 35, 'drawn': False},\n",
       "   {'value': 52, 'drawn': False},\n",
       "   {'value': 26, 'drawn': False},\n",
       "   {'value': 68, 'drawn': False}]]]"
      ]
     },
     "execution_count": 106,
     "metadata": {},
     "output_type": "execute_result"
    }
   ],
   "source": [
    "with open('data/input.txt', 'r') as f:\n",
    "    lines = f.read().splitlines()\n",
    "    \n",
    "draws = lines[0].split(',')\n",
    "\n",
    "def build_board(txt_lines):\n",
    "    board = []\n",
    "    \n",
    "    for txt_line in txt_lines:\n",
    "        line = []\n",
    "        values = txt_line.split(' ')\n",
    "        for value in values:\n",
    "            if not value:\n",
    "                continue\n",
    "            item = {}\n",
    "            item[\"value\"] = int(value)\n",
    "            item[\"drawn\"] = False\n",
    "            line.append(item)\n",
    "        board.append(line)\n",
    "    \n",
    "    return board\n",
    "\n",
    "line_number = 2\n",
    "boards = []\n",
    "\n",
    "while (line_number < len(lines)):\n",
    "    board = build_board(lines[line_number:line_number+5])\n",
    "    boards.append(board)\n",
    "    line_number += 6\n",
    "    \n",
    "boards[:1]"
   ]
  },
  {
   "cell_type": "code",
   "execution_count": 107,
   "id": "66382115-9344-467c-9091-06169d6803ba",
   "metadata": {},
   "outputs": [],
   "source": [
    "def bingo_draw(selected_number, boards):\n",
    "    game_status = {'board': 0, 'win': False}\n",
    "    \n",
    "    for board_number in range(0, len(boards)):\n",
    "        board = boards[board_number]\n",
    "        for line_number in range(0, len(board)):\n",
    "            line = board[line_number]\n",
    "            for col_number in range(0, len(line)):\n",
    "                box = line[col_number]\n",
    "                if selected_number == box['value']:\n",
    "                    box['drawn'] = True\n",
    "                    \n",
    "                    if bingo_win(board, line_number, col_number):\n",
    "                        game_status['board'] = board_number\n",
    "                        game_status['win'] = True\n",
    "                        break\n",
    "                        \n",
    "    return game_status\n",
    "                    \n",
    "def bingo_win(board, line_number, col_number):\n",
    "    win = True\n",
    "    \n",
    "    for x in range(0, 5):\n",
    "        if board[x][col_number]['drawn'] == False:\n",
    "            win = False\n",
    "            break\n",
    "    \n",
    "    if win == False:\n",
    "        win = True\n",
    "        for y in range(0, 5):\n",
    "            if board[line_number][y]['drawn'] == False:\n",
    "                win = False\n",
    "                break\n",
    "    \n",
    "    return win"
   ]
  },
  {
   "cell_type": "code",
   "execution_count": 108,
   "id": "dd23b753-014d-46e5-b83a-b52c89123c62",
   "metadata": {},
   "outputs": [
    {
     "name": "stdout",
     "output_type": "stream",
     "text": [
      "board_number: 14 - selected_number: 54\n"
     ]
    },
    {
     "data": {
      "text/plain": [
       "[[{'value': 30, 'drawn': True},\n",
       "  {'value': 93, 'drawn': False},\n",
       "  {'value': 48, 'drawn': False},\n",
       "  {'value': 17, 'drawn': False},\n",
       "  {'value': 33, 'drawn': False}],\n",
       " [{'value': 67, 'drawn': True},\n",
       "  {'value': 7, 'drawn': False},\n",
       "  {'value': 5, 'drawn': False},\n",
       "  {'value': 0, 'drawn': False},\n",
       "  {'value': 69, 'drawn': False}],\n",
       " [{'value': 54, 'drawn': True},\n",
       "  {'value': 76, 'drawn': True},\n",
       "  {'value': 52, 'drawn': False},\n",
       "  {'value': 1, 'drawn': False},\n",
       "  {'value': 87, 'drawn': True}],\n",
       " [{'value': 99, 'drawn': True},\n",
       "  {'value': 73, 'drawn': False},\n",
       "  {'value': 50, 'drawn': True},\n",
       "  {'value': 25, 'drawn': False},\n",
       "  {'value': 16, 'drawn': False}],\n",
       " [{'value': 13, 'drawn': True},\n",
       "  {'value': 20, 'drawn': False},\n",
       "  {'value': 41, 'drawn': False},\n",
       "  {'value': 77, 'drawn': False},\n",
       "  {'value': 62, 'drawn': False}]]"
      ]
     },
     "execution_count": 108,
     "metadata": {},
     "output_type": "execute_result"
    }
   ],
   "source": [
    "for selected_number in draws:\n",
    "    selected_number = int(selected_number)\n",
    "    game_status = bingo_draw(selected_number, boards)\n",
    "    \n",
    "    if game_status['win'] == True:\n",
    "        break\n",
    "        \n",
    "print(\"board_number: %s - selected_number: %s\" % (game_status['board'], selected_number, ))\n",
    "boards[game_status['board']]"
   ]
  },
  {
   "cell_type": "code",
   "execution_count": 109,
   "id": "f7399034-cba8-45ee-8e93-6816e595c646",
   "metadata": {},
   "outputs": [],
   "source": [
    "def sum_unmarked(board):\n",
    "    total = 0\n",
    "    for line in board:\n",
    "        for box in line:\n",
    "            if box['drawn'] == False:\n",
    "                total += box['value']\n",
    "                \n",
    "    return total"
   ]
  },
  {
   "cell_type": "code",
   "execution_count": 110,
   "id": "b8fb0859-e6aa-466a-a3b6-d2da963f0eaa",
   "metadata": {},
   "outputs": [
    {
     "data": {
      "text/plain": [
       "34506"
      ]
     },
     "execution_count": 110,
     "metadata": {},
     "output_type": "execute_result"
    }
   ],
   "source": [
    "sum_unmarked(boards[game_status['board']]) * selected_number"
   ]
  },
  {
   "cell_type": "markdown",
   "id": "eb8aac8c-0f5e-41f5-b05c-8a86072f5f0a",
   "metadata": {},
   "source": [
    "Your puzzle answer was `34506`."
   ]
  },
  {
   "cell_type": "markdown",
   "id": "6442f05a-86dc-4d97-9d28-41580bef5d19",
   "metadata": {},
   "source": [
    "## Part two"
   ]
  },
  {
   "cell_type": "markdown",
   "id": "4cc0a682-0e63-4f2b-b091-c50a0eb36532",
   "metadata": {},
   "source": [
    "On the other hand, it might be wise to try a different strategy: let the giant squid win.\n",
    "\n",
    "You aren't sure how many bingo boards a giant squid could play at once, so rather than waste time counting its arms, the safe thing to do is to **figure out which board will win last** and choose that one. That way, no matter which boards it picks, it will win for sure.\n",
    "\n",
    "In the above example, the second board is the last to win, which happens after 13 is eventually called and its middle column is completely marked. If you were to keep playing until this point, the second board would have a sum of unmarked numbers equal to 148 for a final score of `148 * 13 = 1924`.\n",
    "\n",
    "Figure out which board will win last. **Once it wins, what would its final score be?**"
   ]
  },
  {
   "cell_type": "code",
   "execution_count": 112,
   "id": "863e66e7-fa88-4f55-a00f-fb7b7336c4ea",
   "metadata": {},
   "outputs": [
    {
     "data": {
      "text/plain": [
       "[[[{'value': 66, 'drawn': False},\n",
       "   {'value': 78, 'drawn': False},\n",
       "   {'value': 7, 'drawn': False},\n",
       "   {'value': 45, 'drawn': False},\n",
       "   {'value': 92, 'drawn': False}],\n",
       "  [{'value': 39, 'drawn': False},\n",
       "   {'value': 38, 'drawn': False},\n",
       "   {'value': 62, 'drawn': False},\n",
       "   {'value': 81, 'drawn': False},\n",
       "   {'value': 77, 'drawn': False}],\n",
       "  [{'value': 9, 'drawn': False},\n",
       "   {'value': 73, 'drawn': False},\n",
       "   {'value': 25, 'drawn': False},\n",
       "   {'value': 97, 'drawn': False},\n",
       "   {'value': 99, 'drawn': False}],\n",
       "  [{'value': 87, 'drawn': False},\n",
       "   {'value': 80, 'drawn': False},\n",
       "   {'value': 19, 'drawn': False},\n",
       "   {'value': 1, 'drawn': False},\n",
       "   {'value': 71, 'drawn': False}],\n",
       "  [{'value': 85, 'drawn': False},\n",
       "   {'value': 35, 'drawn': False},\n",
       "   {'value': 52, 'drawn': False},\n",
       "   {'value': 26, 'drawn': False},\n",
       "   {'value': 68, 'drawn': False}]]]"
      ]
     },
     "execution_count": 112,
     "metadata": {},
     "output_type": "execute_result"
    }
   ],
   "source": [
    "with open('data/input.txt', 'r') as f:\n",
    "    lines = f.read().splitlines()\n",
    "    \n",
    "draws = lines[0].split(',')\n",
    "\n",
    "def build_board(txt_lines):\n",
    "    board = []\n",
    "    \n",
    "    for txt_line in txt_lines:\n",
    "        line = []\n",
    "        values = txt_line.split(' ')\n",
    "        for value in values:\n",
    "            if not value:\n",
    "                continue\n",
    "            item = {}\n",
    "            item[\"value\"] = int(value)\n",
    "            item[\"drawn\"] = False\n",
    "            line.append(item)\n",
    "        board.append(line)\n",
    "    \n",
    "    return board\n",
    "\n",
    "line_number = 2\n",
    "boards = []\n",
    "\n",
    "while (line_number < len(lines)):\n",
    "    board = build_board(lines[line_number:line_number+5])\n",
    "    boards.append(board)\n",
    "    line_number += 6\n",
    "    \n",
    "boards[:1]"
   ]
  },
  {
   "cell_type": "code",
   "execution_count": 113,
   "id": "1870e2dc-ee15-4a9a-af2d-6b41faf53ed5",
   "metadata": {},
   "outputs": [],
   "source": [
    "def bingo_draw_two(selected_number, boards, ended_boards):\n",
    "    game_status = {'board': 0, 'ended': False}\n",
    "    \n",
    "    for board_number in range(0, len(boards)):\n",
    "        board = boards[board_number]\n",
    "        if board_number in ended_boards:\n",
    "            continue\n",
    "        for line_number in range(0, len(board)):\n",
    "            line = board[line_number]\n",
    "            for col_number in range(0, len(line)):\n",
    "                box = line[col_number]\n",
    "                if selected_number == box['value']:\n",
    "                    box['drawn'] = True\n",
    "                    \n",
    "                    if bingo_win(board, line_number, col_number):\n",
    "                        game_status['board'] = board_number\n",
    "                        \n",
    "                        ended_boards.append(board_number)\n",
    "                        \n",
    "                        if len(ended_boards) == len(boards):\n",
    "                            game_status['ended'] = True\n",
    "                            break\n",
    "    \n",
    "    return game_status"
   ]
  },
  {
   "cell_type": "code",
   "execution_count": 114,
   "id": "57975352-3562-4b5d-82b2-f668464e9ffe",
   "metadata": {},
   "outputs": [
    {
     "name": "stdout",
     "output_type": "stream",
     "text": [
      "board_number: 58 - selected_number: 42\n"
     ]
    },
    {
     "data": {
      "text/plain": [
       "[[{'value': 93, 'drawn': False},\n",
       "  {'value': 7, 'drawn': True},\n",
       "  {'value': 60, 'drawn': True},\n",
       "  {'value': 75, 'drawn': True},\n",
       "  {'value': 12, 'drawn': True}],\n",
       " [{'value': 49, 'drawn': True},\n",
       "  {'value': 64, 'drawn': True},\n",
       "  {'value': 20, 'drawn': False},\n",
       "  {'value': 46, 'drawn': True},\n",
       "  {'value': 10, 'drawn': True}],\n",
       " [{'value': 3, 'drawn': True},\n",
       "  {'value': 23, 'drawn': True},\n",
       "  {'value': 76, 'drawn': True},\n",
       "  {'value': 42, 'drawn': True},\n",
       "  {'value': 47, 'drawn': True}],\n",
       " [{'value': 9, 'drawn': True},\n",
       "  {'value': 22, 'drawn': False},\n",
       "  {'value': 6, 'drawn': True},\n",
       "  {'value': 34, 'drawn': True},\n",
       "  {'value': 87, 'drawn': True}],\n",
       " [{'value': 41, 'drawn': True},\n",
       "  {'value': 37, 'drawn': True},\n",
       "  {'value': 66, 'drawn': True},\n",
       "  {'value': 45, 'drawn': True},\n",
       "  {'value': 48, 'drawn': False}]]"
      ]
     },
     "execution_count": 114,
     "metadata": {},
     "output_type": "execute_result"
    }
   ],
   "source": [
    "ended_boards = []\n",
    "\n",
    "for selected_number in draws:\n",
    "    selected_number = int(selected_number)\n",
    "    game_status = bingo_draw_two(selected_number, boards, ended_boards)\n",
    "    \n",
    "    if game_status['ended'] == True:\n",
    "        break\n",
    "        \n",
    "print(\"board_number: %s - selected_number: %s\" % (game_status['board'], selected_number, ))\n",
    "boards[game_status['board']]"
   ]
  },
  {
   "cell_type": "code",
   "execution_count": 115,
   "id": "e59902ff-a27a-4915-9d8b-ed473886a919",
   "metadata": {},
   "outputs": [
    {
     "data": {
      "text/plain": [
       "7686"
      ]
     },
     "execution_count": 115,
     "metadata": {},
     "output_type": "execute_result"
    }
   ],
   "source": [
    "sum_unmarked(boards[game_status['board']]) * selected_number"
   ]
  },
  {
   "cell_type": "markdown",
   "id": "5aa0907b-f070-4711-ae12-4906f8db4ddc",
   "metadata": {},
   "source": [
    "Your puzzle answer was 7686."
   ]
  }
 ],
 "metadata": {
  "kernelspec": {
   "display_name": "Python 3 (ipykernel)",
   "language": "python",
   "name": "python3"
  },
  "language_info": {
   "codemirror_mode": {
    "name": "ipython",
    "version": 3
   },
   "file_extension": ".py",
   "mimetype": "text/x-python",
   "name": "python",
   "nbconvert_exporter": "python",
   "pygments_lexer": "ipython3",
   "version": "3.9.9"
  }
 },
 "nbformat": 4,
 "nbformat_minor": 5
}
