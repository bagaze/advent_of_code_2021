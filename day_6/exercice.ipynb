{
 "cells": [
  {
   "cell_type": "markdown",
   "id": "06ad840b-a337-4022-bf4f-b5a8cfe94629",
   "metadata": {},
   "source": [
    "# Day 6: Lanternfish"
   ]
  },
  {
   "cell_type": "markdown",
   "id": "edfd0c95-8888-43a1-982f-20f877343db1",
   "metadata": {},
   "source": [
    "## Part one"
   ]
  },
  {
   "cell_type": "markdown",
   "id": "cb832b09-9345-42f7-ba2a-fed46f30be6b",
   "metadata": {},
   "source": [
    "The sea floor is getting steeper. Maybe the sleigh keys got carried this way?\n",
    "\n",
    "A massive school of glowing *lanternfish* swims past. They must spawn quickly to reach such large numbers - maybe **exponentially** quickly? You should model their growth rate to be sure.\n",
    "\n",
    "Although you know nothing about this specific species of lanternfish, you make some guesses about their attributes. Surely, each lanternfish creates a new lanternfish once every `7` days.\n",
    "\n",
    "However, this process isn't necessarily synchronized between every lanternfish - one lanternfish might have 2 days left until it creates another lanternfish, while another might have 4. So, you can model each fish as a single number that represents **the number of days until it creates a new lanternfish**.\n",
    "\n",
    "Furthermore, you reason, a **new** lanternfish would surely need slightly longer before it's capable of producing more lanternfish: two more days for its first cycle.\n",
    "\n",
    "So, suppose you have a lanternfish with an internal timer value of 3:\n",
    "\n",
    "- After one day, its internal timer would become `2`.\n",
    "- After another day, its internal timer would become `1`.\n",
    "- After another day, its internal timer would become `0`.\n",
    "- After another day, its internal timer would reset to `6`, and it would create a **new** lanternfish with an internal timer of `8`.\n",
    "- After another day, the first lanternfish would have an internal timer of 5, and the second lanternfish would have an internal timer of `7`.\n",
    "\n",
    "A lanternfish that creates a new fish resets its timer to 6, not 7 (because 0 is included as a valid timer value). The new lanternfish starts with an internal timer of 8 and does not start counting down until the next day.\n",
    "\n",
    "Realizing what you're trying to do, the submarine automatically produces a list of the ages of several hundred nearby lanternfish (your puzzle input). For example, suppose you were given the following list:\n",
    "\n",
    "`3,4,3,1,2`\n",
    "\n",
    "This list means that the first fish has an internal timer of 3, the second fish has an internal timer of 4, and so on until the fifth fish, which has an internal timer of 2. Simulating these fish over several days would proceed as follows:\n",
    "\n",
    "```\n",
    "Initial state: 3,4,3,1,2\n",
    "After  1 day:  2,3,2,0,1\n",
    "After  2 days: 1,2,1,6,0,8\n",
    "After  3 days: 0,1,0,5,6,7,8\n",
    "After  4 days: 6,0,6,4,5,6,7,8,8\n",
    "After  5 days: 5,6,5,3,4,5,6,7,7,8\n",
    "After  6 days: 4,5,4,2,3,4,5,6,6,7\n",
    "After  7 days: 3,4,3,1,2,3,4,5,5,6\n",
    "After  8 days: 2,3,2,0,1,2,3,4,4,5\n",
    "After  9 days: 1,2,1,6,0,1,2,3,3,4,8\n",
    "After 10 days: 0,1,0,5,6,0,1,2,2,3,7,8\n",
    "After 11 days: 6,0,6,4,5,6,0,1,1,2,6,7,8,8,8\n",
    "After 12 days: 5,6,5,3,4,5,6,0,0,1,5,6,7,7,7,8,8\n",
    "After 13 days: 4,5,4,2,3,4,5,6,6,0,4,5,6,6,6,7,7,8,8\n",
    "After 14 days: 3,4,3,1,2,3,4,5,5,6,3,4,5,5,5,6,6,7,7,8\n",
    "After 15 days: 2,3,2,0,1,2,3,4,4,5,2,3,4,4,4,5,5,6,6,7\n",
    "After 16 days: 1,2,1,6,0,1,2,3,3,4,1,2,3,3,3,4,4,5,5,6,8\n",
    "After 17 days: 0,1,0,5,6,0,1,2,2,3,0,1,2,2,2,3,3,4,4,5,7,8\n",
    "After 18 days: 6,0,6,4,5,6,0,1,1,2,6,0,1,1,1,2,2,3,3,4,6,7,8,8,8,8\n",
    "```\n",
    "\n",
    "Each day, a `0` becomes a `6` and adds a new `8` to the end of the list, while each other number decreases by `1` if it was present at the start of the day.\n",
    "\n",
    "In this example, after 18 days, there are a total of `26` fish. After 80 days, there would be a total of `5934`.\n",
    "\n",
    "Find a way to simulate lanternfish. **How many lanternfish would there be after 80 days?**"
   ]
  },
  {
   "cell_type": "code",
   "execution_count": 9,
   "id": "f86dfe05-bcc1-4e6d-ae3a-9e0f68204102",
   "metadata": {},
   "outputs": [
    {
     "data": {
      "text/plain": [
       "[3, 5, 3, 1, 4, 4, 5, 5, 2, 1]"
      ]
     },
     "execution_count": 9,
     "metadata": {},
     "output_type": "execute_result"
    }
   ],
   "source": [
    "fishes = []\n",
    "\n",
    "with open('data/input.txt', 'r') as f:\n",
    "    line = f.read().splitlines()[0]\n",
    "    for fish in line.split(','):\n",
    "        fishes.append(int(fish))\n",
    "        \n",
    "fishes[:10]"
   ]
  },
  {
   "cell_type": "code",
   "execution_count": 10,
   "id": "2290437a-30b2-4f68-b779-f81d7d8d4340",
   "metadata": {},
   "outputs": [
    {
     "name": "stdout",
     "output_type": "stream",
     "text": [
      "day 0: [3, 4, 3, 1, 2]\n",
      "day 1: [2, 3, 2, 0, 1]\n",
      "day 2: [1, 2, 1, 6, 0, 8]\n",
      "day 3: [0, 1, 0, 5, 6, 7, 8]\n",
      "day 4: [6, 0, 6, 4, 5, 6, 7, 8, 8]\n",
      "day 5: [5, 6, 5, 3, 4, 5, 6, 7, 7, 8]\n",
      "day 6: [4, 5, 4, 2, 3, 4, 5, 6, 6, 7]\n",
      "day 7: [3, 4, 3, 1, 2, 3, 4, 5, 5, 6]\n",
      "After 80 days: 5934 fishes\n"
     ]
    }
   ],
   "source": [
    "def process_one_day(fishes):\n",
    "    number_of_new_fishes = 0\n",
    "    new_fishes = []\n",
    "    for fish in fishes:\n",
    "        if fish == 0:\n",
    "            number_of_new_fishes += 1\n",
    "            new_fishes.append(6)\n",
    "        else:\n",
    "            new_fishes.append(fish - 1)\n",
    "    \n",
    "    for i in range(0, number_of_new_fishes):\n",
    "        new_fishes.append(8)\n",
    "        \n",
    "    return new_fishes\n",
    "\n",
    "example_fishes = [3,4,3,1,2]\n",
    "print('day 0: %s' % (example_fishes, ))\n",
    "\n",
    "for i in range(1, 8):\n",
    "    example_fishes = process_one_day(example_fishes)\n",
    "    print('day %s: %s' % (i, example_fishes, ))\n",
    "\n",
    "example_fishes = [3,4,3,1,2]\n",
    "\n",
    "for i in range(1, 81):\n",
    "    example_fishes = process_one_day(example_fishes)\n",
    "    \n",
    "print('After 80 days: %s fishes' % (len(example_fishes), ))"
   ]
  },
  {
   "cell_type": "code",
   "execution_count": 11,
   "id": "33216433-5937-4150-a986-91fe1c85be08",
   "metadata": {},
   "outputs": [
    {
     "name": "stdout",
     "output_type": "stream",
     "text": [
      "After 80 days: 351092 fishes\n"
     ]
    }
   ],
   "source": [
    "for i in range(0, 80):\n",
    "    fishes = process_one_day(fishes)\n",
    "    \n",
    "print('After 80 days: %s fishes' % (len(fishes), ))"
   ]
  },
  {
   "cell_type": "markdown",
   "id": "7eb62bee-eb8f-475c-aad3-2fd905c52f58",
   "metadata": {},
   "source": [
    "Your puzzle answer was `351092`."
   ]
  },
  {
   "cell_type": "markdown",
   "id": "5ff57b57-cbce-4249-adb1-6c9295e6544c",
   "metadata": {},
   "source": [
    "## Part two"
   ]
  },
  {
   "cell_type": "markdown",
   "id": "5174aa6d-833e-4671-a843-0d77e099aa76",
   "metadata": {},
   "source": [
    "Suppose the lanternfish live forever and have unlimited food and space. Would they take over the entire ocean?\n",
    "\n",
    "After 256 days in the example above, there would be a total of `26984457539` lanternfish!\n",
    "\n",
    "**How many lanternfish would there be after 256 days?**"
   ]
  },
  {
   "cell_type": "code",
   "execution_count": 35,
   "id": "64a45fe9-9779-478c-924b-26363745cf4e",
   "metadata": {},
   "outputs": [
    {
     "data": {
      "text/plain": [
       "[0, 83, 51, 58, 54, 54, 0, 0, 0]"
      ]
     },
     "execution_count": 35,
     "metadata": {},
     "output_type": "execute_result"
    }
   ],
   "source": [
    "fishes = [0, 0, 0, 0, 0, 0, 0, 0, 0]\n",
    "\n",
    "with open('data/input.txt', 'r') as f:\n",
    "    line = f.read().splitlines()[0]\n",
    "    for fish in line.split(','):\n",
    "        fishes[int(fish)] += 1\n",
    "        \n",
    "fishes"
   ]
  },
  {
   "cell_type": "code",
   "execution_count": 36,
   "id": "9eb9b44e-c164-45aa-9c24-080bd00773e2",
   "metadata": {},
   "outputs": [
    {
     "name": "stdout",
     "output_type": "stream",
     "text": [
      "After 80 days: [424, 729, 558, 790, 739, 762, 991, 370, 571] - 5934 fishes\n"
     ]
    }
   ],
   "source": [
    "def process_one_day_ex2(fishes):\n",
    "    new_fishes = [\n",
    "        fishes[1],\n",
    "        fishes[2],\n",
    "        fishes[3],\n",
    "        fishes[4],\n",
    "        fishes[5],\n",
    "        fishes[6],\n",
    "        fishes[7] + fishes[0],\n",
    "        fishes[8],\n",
    "        fishes[0],\n",
    "    ]\n",
    "    \n",
    "    return new_fishes\n",
    "\n",
    "example_fishes = [0, 1, 1, 2, 1, 0, 0, 0, 0]\n",
    "\n",
    "for i in range(0, 80):\n",
    "    example_fishes = process_one_day_ex2(example_fishes)\n",
    "    \n",
    "print('After 80 days: %s - %s fishes' % (example_fishes, sum(example_fishes), ))"
   ]
  },
  {
   "cell_type": "code",
   "execution_count": 37,
   "id": "210f55cf-cb95-4020-8cff-48c481fdccea",
   "metadata": {},
   "outputs": [
    {
     "name": "stdout",
     "output_type": "stream",
     "text": [
      "After 80 days: [25532, 42594, 31998, 47322, 42341, 47270, 57495, 23297, 33243] - 351092 fishes\n",
      "After 256 days: [140304164138, 162039539115, 170391060831, 188187916968, 208218433266, 218720012046, 252082120574, 117783213814, 137604155253] - 1595330616005 fishes\n"
     ]
    }
   ],
   "source": [
    "for i in range(0, 80):\n",
    "    fishes = process_one_day_ex2(fishes)\n",
    "\n",
    "print('After 80 days: %s - %s fishes' % (fishes, sum(fishes), ))\n",
    "\n",
    "for i in range(80, 256):\n",
    "    fishes = process_one_day_ex2(fishes)\n",
    "\n",
    "print('After 256 days: %s - %s fishes' % (fishes, sum(fishes), ))"
   ]
  },
  {
   "cell_type": "markdown",
   "id": "3efc2951-8378-4703-a753-580a39b45569",
   "metadata": {},
   "source": [
    "Your puzzle answer was `1595330616005`."
   ]
  }
 ],
 "metadata": {
  "kernelspec": {
   "display_name": "Python 3 (ipykernel)",
   "language": "python",
   "name": "python3"
  },
  "language_info": {
   "codemirror_mode": {
    "name": "ipython",
    "version": 3
   },
   "file_extension": ".py",
   "mimetype": "text/x-python",
   "name": "python",
   "nbconvert_exporter": "python",
   "pygments_lexer": "ipython3",
   "version": "3.9.9"
  }
 },
 "nbformat": 4,
 "nbformat_minor": 5
}
