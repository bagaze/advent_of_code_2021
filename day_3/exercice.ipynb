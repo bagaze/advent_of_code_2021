{
 "cells": [
  {
   "cell_type": "markdown",
   "id": "9936258d-fb81-4dcd-9cc2-07f784748377",
   "metadata": {},
   "source": [
    "# Day 3: Binary Diagnostic "
   ]
  },
  {
   "cell_type": "markdown",
   "id": "5f325900-b71b-4aa0-9598-323a562b82fc",
   "metadata": {},
   "source": [
    "## Part one"
   ]
  },
  {
   "cell_type": "markdown",
   "id": "ffd5db2d-a9b1-442d-8a9d-d405a709d4b2",
   "metadata": {},
   "source": [
    "The submarine has been making some odd creaking noises, so you ask it to produce a diagnostic report just in case.\n",
    "\n",
    "The diagnostic report (your puzzle input) consists of a list of binary numbers which, when decoded properly, can tell you many useful things about the conditions of the submarine. The first parameter to check is the **power consumption**.\n",
    "\n",
    "You need to use the binary numbers in the diagnostic report to generate two new binary numbers (called the **gamma rate** and the **epsilon rate**). The power consumption can then be found by multiplying the gamma rate by the epsilon rate.\n",
    "\n",
    "Each bit in the gamma rate can be determined by finding the **most common bit in the corresponding position** of all numbers in the diagnostic report. For example, given the following diagnostic report:\n",
    "\n",
    "```\n",
    "00100\n",
    "11110\n",
    "10110\n",
    "10111\n",
    "10101\n",
    "01111\n",
    "00111\n",
    "11100\n",
    "10000\n",
    "11001\n",
    "00010\n",
    "01010\n",
    "```\n",
    "\n",
    "Considering only the first bit of each number, there are five `0` bits and seven `1` bits. Since the most common bit is `1`, the first bit of the gamma rate is `1`.\n",
    "\n",
    "The most common second bit of the numbers in the diagnostic report is `0`, so the second bit of the gamma rate is `0`.\n",
    "\n",
    "The most common value of the third, fourth, and fifth bits are `1`, `1`, and `0`, respectively, and so the final three bits of the gamma rate are `110`.\n",
    "\n",
    "So, the gamma rate is the binary number `10110`, or `22` in decimal.\n",
    "\n",
    "The epsilon rate is calculated in a similar way; rather than use the most common bit, the least common bit from each position is used. So, the epsilon rate is `01001`, or `9` in decimal. Multiplying the gamma rate (`22`) by the epsilon rate (`9`) produces the power consumption, `198`.\n",
    "\n",
    "Use the binary numbers in your diagnostic report to calculate the gamma rate and epsilon rate, then multiply them together. **What is the power consumption of the submarine?** (Be sure to represent your answer in decimal, not binary.)"
   ]
  },
  {
   "cell_type": "code",
   "execution_count": 67,
   "id": "85432a03-4bbd-4da7-9c09-b64cdb02b657",
   "metadata": {},
   "outputs": [
    {
     "data": {
      "text/plain": [
       "['011111111100',\n",
       " '100001011111',\n",
       " '011010010010',\n",
       " '100110110110',\n",
       " '001000110001',\n",
       " '110010001010',\n",
       " '110000010010',\n",
       " '010110100110',\n",
       " '000101000110',\n",
       " '100101010010']"
      ]
     },
     "execution_count": 67,
     "metadata": {},
     "output_type": "execute_result"
    }
   ],
   "source": [
    "input_data = []\n",
    "\n",
    "with open('data/input.txt', 'r') as f:\n",
    "    for line in f.read().splitlines():\n",
    "        input_data.append(line)\n",
    "        \n",
    "input_data[:10]"
   ]
  },
  {
   "cell_type": "code",
   "execution_count": 25,
   "id": "c0d4584c-ad43-4a31-a525-984e1085ea6f",
   "metadata": {},
   "outputs": [
    {
     "data": {
      "text/plain": [
       "[{'num_of_0': 502, 'num_of_1': 498, 'most_common': '0', 'least_common': '1'},\n",
       " {'num_of_0': 501, 'num_of_1': 499, 'most_common': '0', 'least_common': '1'},\n",
       " {'num_of_0': 462, 'num_of_1': 538, 'most_common': '1', 'least_common': '0'},\n",
       " {'num_of_0': 519, 'num_of_1': 481, 'most_common': '0', 'least_common': '1'},\n",
       " {'num_of_0': 499, 'num_of_1': 501, 'most_common': '1', 'least_common': '0'},\n",
       " {'num_of_0': 508, 'num_of_1': 492, 'most_common': '0', 'least_common': '1'},\n",
       " {'num_of_0': 510, 'num_of_1': 490, 'most_common': '0', 'least_common': '1'},\n",
       " {'num_of_0': 506, 'num_of_1': 494, 'most_common': '0', 'least_common': '1'},\n",
       " {'num_of_0': 480, 'num_of_1': 520, 'most_common': '1', 'least_common': '0'},\n",
       " {'num_of_0': 497, 'num_of_1': 503, 'most_common': '1', 'least_common': '0'},\n",
       " {'num_of_0': 483, 'num_of_1': 517, 'most_common': '1', 'least_common': '0'},\n",
       " {'num_of_0': 501, 'num_of_1': 499, 'most_common': '0', 'least_common': '1'}]"
      ]
     },
     "execution_count": 25,
     "metadata": {},
     "output_type": "execute_result"
    }
   ],
   "source": [
    "most_common_bits = []\n",
    "\n",
    "for i in range(0, len(input_data[0])):\n",
    "    most_common_bits.append({\"num_of_0\": 0, \"num_of_1\": 0, \"most_common\": '0', \"least_common\": '1', })\n",
    "\n",
    "most_common_bits\n",
    "\n",
    "for line in input_data:\n",
    "    bit_number = 0\n",
    "    for bit in line:\n",
    "        if '0' == bit:\n",
    "            most_common_bits[bit_number]['num_of_0'] += 1\n",
    "        else:\n",
    "            most_common_bits[bit_number]['num_of_1'] += 1\n",
    "        bit_number += 1\n",
    "        \n",
    "for bit_detail in most_common_bits:\n",
    "    if bit_detail['num_of_1'] > bit_detail['num_of_0']:\n",
    "        bit_detail['most_common'] = '1'\n",
    "        bit_detail['least_common'] = '0'\n",
    "\n",
    "most_common_bits"
   ]
  },
  {
   "cell_type": "code",
   "execution_count": 28,
   "id": "ff98cca4-1a0d-4004-b21c-e7cfacd03f18",
   "metadata": {},
   "outputs": [
    {
     "name": "stdout",
     "output_type": "stream",
     "text": [
      "gamma_rate: '001010001110' - epsilon_rate: '110101110001'\n"
     ]
    }
   ],
   "source": [
    "gamma_rate = ''\n",
    "epsilon_rate = ''\n",
    "\n",
    "bit_number = 0\n",
    "for bit_detail in most_common_bits:\n",
    "    gamma_rate += bit_detail['most_common']\n",
    "    epsilon_rate += bit_detail['least_common']\n",
    "    \n",
    "    bit_number += 1\n",
    "    \n",
    "print('gamma_rate: \\'%s\\' - epsilon_rate: \\'%s\\'' % (gamma_rate, epsilon_rate, ))"
   ]
  },
  {
   "cell_type": "code",
   "execution_count": 31,
   "id": "a75aa236-df6d-4544-a8f5-7376570cdd92",
   "metadata": {},
   "outputs": [
    {
     "data": {
      "text/plain": [
       "2250414"
      ]
     },
     "execution_count": 31,
     "metadata": {},
     "output_type": "execute_result"
    }
   ],
   "source": [
    "int(gamma_rate, 2) * int(epsilon_rate, 2)"
   ]
  },
  {
   "cell_type": "markdown",
   "id": "5bcf3a40-242a-40ff-b29a-0147754826bb",
   "metadata": {},
   "source": [
    "Your puzzle answer was `2250414`."
   ]
  },
  {
   "cell_type": "markdown",
   "id": "cb11118a-411e-477a-adbb-4d7f67d41b47",
   "metadata": {},
   "source": [
    "## Part two"
   ]
  },
  {
   "cell_type": "markdown",
   "id": "4abd91ca-4fab-4fce-ab5d-dc594379312d",
   "metadata": {},
   "source": [
    "Next, you should verify the **life support rating**, which can be determined by multiplying the **oxygen generator rating** by the **CO2 scrubber rating**.\n",
    "\n",
    "Both the oxygen generator rating and the CO2 scrubber rating are values that can be found in your diagnostic report - finding them is the tricky part. Both values are located using a similar process that involves filtering out values until only one remains. Before searching for either rating value, start with the full list of binary numbers from your diagnostic report and **consider just the first bit** of those numbers. Then:\n",
    "\n",
    "- Keep only numbers selected by the **bit criteria** for the type of rating value for which you are searching. Discard numbers which do not match the bit criteria.\n",
    "- If you only have one number left, stop; this is the rating value for which you are searching.\n",
    "- Otherwise, repeat the process, considering the next bit to the right.\n",
    "\n",
    "The **bit criteria** depends on which type of rating value you want to find:\n",
    "\n",
    "- To find **oxygen generator rating**, determine the **most common** value (0 or 1) in the current bit position, and keep only numbers with that bit in that position. If `0` and `1` are equally common, keep values with a 1 in the position being considered.\n",
    "- To find **CO2 scrubber rating**, determine the **least common** value (0 or 1) in the current bit position, and keep only numbers with that bit in that position. If `0` and `1` are equally common, keep values with a 0 in the position being considered.\n",
    "\n",
    "For example, to determine the oxygen generator rating value using the same example diagnostic report from above:\n",
    "\n",
    "- Start with all 12 numbers and consider only the first bit of each number. There are more 1 bits (`7`) than 0 bits (`5`), so keep only the 7 numbers with a 1 in the first position: `11110`, `10110`, `10111`, `10101`, `11100`, `10000` and `11001`.\n",
    "- Then, consider the second bit of the 7 remaining numbers: there are more 0 bits (`4`) than 1 bits (`3`), so keep only the 4 numbers with a `0` in the second position: `10110`, `10111`, `10101` and `10000`.\n",
    "- In the third position, three of the four numbers have a `1`, so keep those three: `10110`, `10111`, and `10101`.\n",
    "- In the fourth position, two of the three numbers have a `1`, so keep those two: `10110` and `10111`.\n",
    "- In the fifth position, there are an equal number of `0` bits and `1` bits (one each). So, to find the **oxygen generator rating**, keep the number with a `1` in that position: `10111`.\n",
    "- As there is only one number left, stop; the **oxygen generator rating** is `10111`, or `23` in decimal.\n",
    "\n",
    "Then, to determine the CO2 scrubber rating value from the same example above:\n",
    "\n",
    "- Start again with all 12 numbers and consider only the first bit of each number. There are fewer 0 bits (`5`) than 1 bits (`7`), so keep only the 5 numbers with a `0` in the first position: `00100`, `01111`, `00111`, `00010`, and `01010`.\n",
    "- Then, consider the second bit of the 5 remaining numbers: there are fewer 1 bits (`2`) than 0 bits (`3`), so keep only the 2 numbers with a `1` in the second position: `01111` and `01010`.\n",
    "- In the third position, there are an equal number of 0 bits and 1 bits (one each). So, to find the **CO2 scrubber rating**, keep the number with a `0` in that position: `01010`.\n",
    "- As there is only one number left, stop; the **CO2 scrubber rating** is `01010`, or `10` in decimal.\n",
    "\n",
    "Finally, to find the life support rating, multiply the oxygen generator rating (`23`) by the CO2 scrubber rating (`10`) to get `230`.\n",
    "\n",
    "Use the binary numbers in your diagnostic report to calculate the oxygen generator rating and CO2 scrubber rating, then multiply them together. **What is the life support rating of the submarine?** (Be sure to represent your answer in decimal, not binary.)"
   ]
  },
  {
   "cell_type": "code",
   "execution_count": 68,
   "id": "1eb1d9dc-d55f-41bf-878d-653d890de4ab",
   "metadata": {},
   "outputs": [
    {
     "name": "stdout",
     "output_type": "stream",
     "text": [
      "oxygen_rate: 011110001111 - co2_rate: 110001001001\n"
     ]
    }
   ],
   "source": [
    "def ratings_process(ratings, bit_position, selected_ratings=[]):\n",
    "    processed_ratings = {\"num_of_0\": 0, \n",
    "                        \"num_of_1\": 0, \n",
    "                        \"most_common\": '1', \n",
    "                        \"least_common\": '0', \n",
    "                        \"ratings_0\": [], \n",
    "                        \"ratings_1\": []}\n",
    "    \n",
    "    if not selected_ratings:\n",
    "        range_max = len(ratings)\n",
    "    else:\n",
    "        range_max = len(selected_ratings)\n",
    "\n",
    "    for i in range(0, range_max):\n",
    "        if not selected_ratings:\n",
    "            rating_number = i\n",
    "        else:\n",
    "            rating_number = selected_ratings[i]\n",
    "            \n",
    "        if \"0\" == ratings[rating_number][bit_position]:\n",
    "            processed_ratings[\"num_of_0\"] += 1\n",
    "            processed_ratings[\"ratings_0\"].append(rating_number)\n",
    "        else:\n",
    "            processed_ratings[\"num_of_1\"] += 1\n",
    "            processed_ratings[\"ratings_1\"].append(rating_number)\n",
    "            \n",
    "    if processed_ratings[\"num_of_0\"] > processed_ratings[\"num_of_1\"]:\n",
    "        processed_ratings[\"most_common\"] = '0'\n",
    "        processed_ratings[\"least_common\"] = '1'\n",
    "            \n",
    "    return processed_ratings\n",
    "\n",
    "oxygen_rate = ''\n",
    "selected_ratings = []\n",
    "for bit_position in range(0, len(input_data[0])):\n",
    "    processed_ratings = ratings_process(input_data, bit_position, selected_ratings=selected_ratings)\n",
    "    \n",
    "    if '0' == processed_ratings['most_common']:\n",
    "        selected_ratings = processed_ratings['ratings_0']\n",
    "    else:\n",
    "        selected_ratings = processed_ratings['ratings_1']\n",
    "        \n",
    "    if len(selected_ratings) == 1:\n",
    "        oxygen_rate = input_data[selected_ratings[0]]\n",
    "        \n",
    "co2_rate = ''\n",
    "selected_ratings = []\n",
    "for bit_position in range(0, len(input_data[0])):\n",
    "    processed_ratings = ratings_process(input_data, bit_position, selected_ratings=selected_ratings)\n",
    "    \n",
    "    if '0' == processed_ratings['least_common']:\n",
    "        selected_ratings = processed_ratings['ratings_0']\n",
    "    else:\n",
    "        selected_ratings = processed_ratings['ratings_1']\n",
    "        \n",
    "    if len(selected_ratings) == 1:\n",
    "        co2_rate = input_data[selected_ratings[0]]\n",
    "        \n",
    "print(\"oxygen_rate: %s - co2_rate: %s\" % (oxygen_rate, co2_rate, ))"
   ]
  },
  {
   "cell_type": "code",
   "execution_count": 69,
   "id": "d5b67047-d07e-40ad-9628-87a5068d87d9",
   "metadata": {},
   "outputs": [
    {
     "data": {
      "text/plain": [
       "6085575"
      ]
     },
     "execution_count": 69,
     "metadata": {},
     "output_type": "execute_result"
    }
   ],
   "source": [
    "int(oxygen_rate, 2) * int(co2_rate, 2)"
   ]
  },
  {
   "cell_type": "markdown",
   "id": "46645fe1-f2a4-4ef2-8d70-8e58101f00c2",
   "metadata": {},
   "source": [
    "Your puzzle answer was `6085575`."
   ]
  }
 ],
 "metadata": {
  "kernelspec": {
   "display_name": "Python 3 (ipykernel)",
   "language": "python",
   "name": "python3"
  },
  "language_info": {
   "codemirror_mode": {
    "name": "ipython",
    "version": 3
   },
   "file_extension": ".py",
   "mimetype": "text/x-python",
   "name": "python",
   "nbconvert_exporter": "python",
   "pygments_lexer": "ipython3",
   "version": "3.9.9"
  }
 },
 "nbformat": 4,
 "nbformat_minor": 5
}
