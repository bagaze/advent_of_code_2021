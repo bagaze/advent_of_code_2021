{
 "cells": [
  {
   "cell_type": "markdown",
   "id": "ac92e965-7ba8-4a8c-b871-54d8539ddcc6",
   "metadata": {},
   "source": [
    "# Day 14: Extended Polymerization"
   ]
  },
  {
   "cell_type": "markdown",
   "id": "64f8270b-143d-4b28-9449-66ca39c50363",
   "metadata": {},
   "source": [
    "## Part one"
   ]
  },
  {
   "cell_type": "markdown",
   "id": "d5a3f21e-edb1-4817-b845-51c753cc5893",
   "metadata": {},
   "source": [
    "The incredible pressures at this depth are starting to put a strain on your submarine. The submarine has [polymerization](https://en.wikipedia.org/wiki/Polymerization) equipment that would produce suitable materials to reinforce the submarine, and the nearby volcanically-active caves should even have the necessary input elements in sufficient quantities.\n",
    "\n",
    "The submarine manual contains instructions for finding the optimal polymer formula; specifically, it offers a **polymer template** and a list of **pair insertion** rules (your puzzle input). You just need to work out what polymer would result after repeating the pair insertion process a few times.\n",
    "\n",
    "For example:\n",
    "\n",
    "```\n",
    "NNCB\n",
    "\n",
    "CH -> B\n",
    "HH -> N\n",
    "CB -> H\n",
    "NH -> C\n",
    "HB -> C\n",
    "HC -> B\n",
    "HN -> C\n",
    "NN -> C\n",
    "BH -> H\n",
    "NC -> B\n",
    "NB -> B\n",
    "BN -> B\n",
    "BB -> N\n",
    "BC -> B\n",
    "CC -> N\n",
    "CN -> C\n",
    "```\n",
    "\n",
    "The first line is the **polymer template** - this is the starting point of the process.\n",
    "\n",
    "The following section defines the **pair insertion** rules. A rule like AB -> C means that when elements A and B are immediately adjacent, element C should be inserted between them. These insertions all happen simultaneously.\n",
    "\n",
    "So, starting with the polymer template NNCB, the first step simultaneously considers all three pairs:\n",
    "\n",
    "- The first pair (`NN`) matches the rule `NN -> C`, so element **`C`** is inserted between the first `N` and the second `N`.\n",
    "- The second pair (`NC`) matches the rule `NC -> B`, so element **`B`** is inserted between the `N` and the `C`.\n",
    "- The third pair (`CB`) matches the rule `CB -> H`, so element **`H`** is inserted between the `C` and the `B`.\n",
    "\n",
    "Note that these pairs overlap: the second element of one pair is the first element of the next pair. Also, because all pairs are considered simultaneously, inserted elements are not considered to be part of a pair until the next step.\n",
    "\n",
    "After the first step of this process, the polymer becomes `NCNBCHB`.\n",
    "\n",
    "Here are the results of a few steps using the above rules:\n",
    "\n",
    "```\n",
    "Template:     NNCB\n",
    "After step 1: NCNBCHB\n",
    "After step 2: NBCCNBBBCBHCB\n",
    "After step 3: NBBBCNCCNBBNBNBBCHBHHBCHB\n",
    "After step 4: NBBNBNBBCCNBCNCCNBBNBBNBBBNBBNBBCBHCBHHNHCBBCBHCB\n",
    "```\n",
    "\n",
    "This polymer grows quickly. After step 5, it has length 97; After step 10, it has length 3073. After step 10, B occurs 1749 times, C occurs 298 times, H occurs 161 times, and N occurs 865 times; taking the quantity of the most common element (B, 1749) and subtracting the quantity of the least common element (H, 161) produces `1749 - 161 =`**`1588`**.\n",
    "\n",
    "Apply 10 steps of pair insertion to the polymer template and find the most and least common elements in the result. **What do you get if you take the quantity of the most common element and subtract the quantity of the least common element?**"
   ]
  },
  {
   "cell_type": "code",
   "execution_count": 1,
   "id": "b345fcd1-b2d1-417e-b3f6-aa2f19b3f85f",
   "metadata": {},
   "outputs": [
    {
     "name": "stdout",
     "output_type": "stream",
     "text": [
      "polymer: NNCB\n",
      "insertion_rules: {'CH': 'B', 'HH': 'N', 'CB': 'H', 'NH': 'C', 'HB': 'C', 'HC': 'B', 'HN': 'C', 'NN': 'C', 'BH': 'H', 'NC': 'B', 'NB': 'B', 'BN': 'B', 'BB': 'N', 'BC': 'B', 'CC': 'N', 'CN': 'C'}\n"
     ]
    }
   ],
   "source": [
    "def load_input(filepath='./data/input_test.txt'):\n",
    "    polymer = ''\n",
    "    insertion_rules = {}\n",
    "    with open('%s' % (filepath, ), 'r') as input_f:\n",
    "        input_lines = input_f.read().splitlines()\n",
    "        \n",
    "        # Extract polymer\n",
    "        polymer = input_lines[0]\n",
    "        \n",
    "        # Extract insertion rules\n",
    "        for line_number in range(2, len(input_lines)):\n",
    "            input_line = input_lines[line_number]\n",
    "            line_number += 1\n",
    "            if not input_line:\n",
    "                break\n",
    "            \n",
    "            pair, element = input_line.split(' -> ')\n",
    "            insertion_rules[pair] = element\n",
    "    \n",
    "    return polymer, insertion_rules\n",
    "\n",
    "polymer, insertion_rules = load_input()\n",
    "print('polymer: %s' % (polymer, ))\n",
    "print('insertion_rules: %s' % (insertion_rules, ))"
   ]
  },
  {
   "cell_type": "code",
   "execution_count": 2,
   "id": "d7a0da96-d1eb-4c6e-a50d-136a6c63ccc9",
   "metadata": {},
   "outputs": [
    {
     "name": "stdout",
     "output_type": "stream",
     "text": [
      "polymer: NBBNBNBBCCNBCNCCNBBNBBNBBBNBBNBBCBHCBHHNHCBBCBHCB\n"
     ]
    },
    {
     "data": {
      "text/plain": [
       "{'N': 11, 'B': 23, 'C': 10, 'H': 5}"
      ]
     },
     "execution_count": 2,
     "metadata": {},
     "output_type": "execute_result"
    }
   ],
   "source": [
    "def insertion(polymer, insertion_rules):\n",
    "    new_polymer = ''\n",
    "    for position in range(0, len(polymer) - 1):\n",
    "        current_char = polymer[position]\n",
    "        next_char = polymer[position + 1]\n",
    "        new_polymer += current_char + insertion_rules[current_char + next_char]\n",
    "        \n",
    "    new_polymer += polymer[-1]\n",
    "        \n",
    "    return new_polymer\n",
    "\n",
    "def count_elements(polymer):\n",
    "    count = {}\n",
    "    \n",
    "    for position in range(0, len(polymer)):\n",
    "        element = polymer[position]\n",
    "        \n",
    "        if element in count.keys():\n",
    "            count[element] += 1\n",
    "        else:\n",
    "            count[element] = 1\n",
    "            \n",
    "    return count\n",
    "\n",
    "polymer, insertion_rules = load_input()\n",
    "polymer = insertion(polymer, insertion_rules)\n",
    "polymer = insertion(polymer, insertion_rules)\n",
    "polymer = insertion(polymer, insertion_rules)\n",
    "polymer = insertion(polymer, insertion_rules)\n",
    "print('polymer: %s' % (polymer, ))\n",
    "count_elements(polymer)"
   ]
  },
  {
   "cell_type": "code",
   "execution_count": 3,
   "id": "dbe3321a-fe58-48ff-abd1-12fc4edcc046",
   "metadata": {},
   "outputs": [
    {
     "name": "stdout",
     "output_type": "stream",
     "text": [
      "len polymer: 19457\n",
      "count: {'P': 2617, 'H': 1597, 'C': 906, 'O': 4461, 'N': 1239, 'V': 2244, 'B': 1811, 'S': 1645, 'K': 946, 'F': 1991}\n"
     ]
    },
    {
     "data": {
      "text/plain": [
       "3555"
      ]
     },
     "execution_count": 3,
     "metadata": {},
     "output_type": "execute_result"
    }
   ],
   "source": [
    "polymer, insertion_rules = load_input('./data/input.txt')\n",
    "\n",
    "for i in range(0, 10):\n",
    "    polymer = insertion(polymer, insertion_rules)\n",
    "    \n",
    "print('len polymer: %s' % (len(polymer), ))\n",
    "count = count_elements(polymer)\n",
    "print('count: %s' % (count, ))\n",
    "count['O'] - count['C']"
   ]
  },
  {
   "cell_type": "markdown",
   "id": "3aa3b9eb-fbfe-4ac9-9ae7-8aebc9934df6",
   "metadata": {},
   "source": [
    "Your puzzle answer was `3555`."
   ]
  },
  {
   "cell_type": "markdown",
   "id": "bdbfa6e3-ff84-4dd0-9195-d65996a63049",
   "metadata": {},
   "source": [
    "# Part two"
   ]
  },
  {
   "cell_type": "markdown",
   "id": "eac4473b-d84f-4da8-8c5d-15f59f60af66",
   "metadata": {},
   "source": [
    "The resulting polymer isn't nearly strong enough to reinforce the submarine. You'll need to run more steps of the pair insertion process; a total of **40 steps** should do it.\n",
    "\n",
    "In the above example, the most common element is B (occurring `2192039569602` times) and the least common element is H (occurring `3849876073` times); subtracting these produces **`2188189693529`**.\n",
    "\n",
    "Apply **40** steps of pair insertion to the polymer template and find the most and least common elements in the result. **What do you get if you take the quantity of the most common element and subtract the quantity of the least common element?**"
   ]
  },
  {
   "cell_type": "code",
   "execution_count": 4,
   "id": "e007161e-df20-4d64-8232-67a338157788",
   "metadata": {},
   "outputs": [
    {
     "name": "stdout",
     "output_type": "stream",
     "text": [
      "element_pairs: {'NB': 796, 'BB': 812, 'BN': 735, 'BC': 120, 'CC': 60, 'CN': 102, 'NC': 42, 'CB': 115, 'BH': 81, 'HC': 76, 'HH': 32, 'HN': 27, 'NH': 27, 'CH': 21, 'HB': 26}\n"
     ]
    },
    {
     "data": {
      "text/plain": [
       "{'B': 1749, 'N': 865, 'C': 298, 'H': 161}"
      ]
     },
     "execution_count": 4,
     "metadata": {},
     "output_type": "execute_result"
    }
   ],
   "source": [
    "def extract_element_pairs_ex2(polymer):\n",
    "    pairs = {}\n",
    "    \n",
    "    for position in range(0, len(polymer) - 1):\n",
    "        pair = polymer[position] + polymer[position + 1]\n",
    "        \n",
    "        if pair in pairs.keys():\n",
    "            pairs[pair] += 1\n",
    "        else:\n",
    "            pairs[pair] = 1\n",
    "    \n",
    "    return pairs\n",
    "\n",
    "def insertion_ex2(element_pairs, insertion_rules):\n",
    "    new_pairs = {}\n",
    "    \n",
    "    for key, value in element_pairs.items():\n",
    "        new_element = insertion_rules[key]\n",
    "        \n",
    "        new_pair_1 = key[0] + new_element\n",
    "        if new_pair_1 in new_pairs.keys():\n",
    "            new_pairs[new_pair_1] += value\n",
    "        else:\n",
    "            new_pairs[new_pair_1] = value\n",
    "        \n",
    "        new_pair_2 = new_element + key[1]\n",
    "        if new_pair_2 in new_pairs.keys():\n",
    "            new_pairs[new_pair_2] += value\n",
    "        else:\n",
    "            new_pairs[new_pair_2] = value\n",
    "        \n",
    "    return new_pairs\n",
    "\n",
    "def count_elements_ex2(element_pairs, last_element):\n",
    "    count = {}\n",
    "    count[last_element] = 1\n",
    "    \n",
    "    for key, value in element_pairs.items():\n",
    "        element_1 = key[0]\n",
    "        element_2 = key[1]\n",
    "        \n",
    "        if element_1 in count.keys():\n",
    "            count[element_1] += value\n",
    "        else:\n",
    "            count[element_1] = value\n",
    "\n",
    "    return count\n",
    "\n",
    "polymer, insertion_rules = load_input()\n",
    "element_pairs = extract_element_pairs_ex2(polymer)\n",
    "for i in range(0, 10):\n",
    "    element_pairs = insertion_ex2(element_pairs, insertion_rules)\n",
    "\n",
    "print('element_pairs: %s' % (element_pairs, ))\n",
    "count_elements_ex2(element_pairs, polymer[-1])"
   ]
  },
  {
   "cell_type": "code",
   "execution_count": 5,
   "id": "a49e8c27-2ba0-4e92-90f8-eea8f43a1f28",
   "metadata": {},
   "outputs": [
    {
     "data": {
      "text/plain": [
       "{'O': 5195084704903,\n",
       " 'P': 3178628005225,\n",
       " 'H': 1378718959755,\n",
       " 'C': 755642661164,\n",
       " 'N': 1322198384438,\n",
       " 'V': 2501671713686,\n",
       " 'B': 1750740691551,\n",
       " 'S': 1866024773848,\n",
       " 'K': 927295863022,\n",
       " 'F': 2014715170153}"
      ]
     },
     "execution_count": 5,
     "metadata": {},
     "output_type": "execute_result"
    }
   ],
   "source": [
    "polymer, insertion_rules = load_input('./data/input.txt')\n",
    "element_pairs = extract_element_pairs_ex2(polymer)\n",
    "for i in range(0, 40):\n",
    "    element_pairs = insertion_ex2(element_pairs, insertion_rules)\n",
    "\n",
    "count = count_elements_ex2(element_pairs, polymer[-1])\n",
    "count"
   ]
  },
  {
   "cell_type": "code",
   "execution_count": 6,
   "id": "2a384f3a-34fd-4f38-bf55-1aeb91b28419",
   "metadata": {},
   "outputs": [
    {
     "data": {
      "text/plain": [
       "4439442043739"
      ]
     },
     "execution_count": 6,
     "metadata": {},
     "output_type": "execute_result"
    }
   ],
   "source": [
    "count['O'] - count['C']"
   ]
  },
  {
   "cell_type": "markdown",
   "id": "0169a965-260c-4ad1-b80f-12d337b04204",
   "metadata": {},
   "source": [
    "Your puzzle answer was `4439442043739`."
   ]
  }
 ],
 "metadata": {
  "kernelspec": {
   "display_name": "Python 3 (ipykernel)",
   "language": "python",
   "name": "python3"
  },
  "language_info": {
   "codemirror_mode": {
    "name": "ipython",
    "version": 3
   },
   "file_extension": ".py",
   "mimetype": "text/x-python",
   "name": "python",
   "nbconvert_exporter": "python",
   "pygments_lexer": "ipython3",
   "version": "3.9.9"
  }
 },
 "nbformat": 4,
 "nbformat_minor": 5
}
