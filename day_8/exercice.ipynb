{
 "cells": [
  {
   "cell_type": "markdown",
   "id": "dfadacc8-de3d-4110-a2f8-a021437d5bbb",
   "metadata": {},
   "source": [
    "# Day 8: Seven Segment Search"
   ]
  },
  {
   "cell_type": "markdown",
   "id": "728f69a1-9891-46a0-ac38-54326696ca7d",
   "metadata": {},
   "source": [
    "## Part one"
   ]
  },
  {
   "cell_type": "markdown",
   "id": "b10745b6-0327-45c9-9468-47efb99d5eb6",
   "metadata": {},
   "source": [
    "You barely reach the safety of the cave when the whale smashes into the cave mouth, collapsing it. Sensors indicate another exit to this cave at a much greater depth, so you have no choice but to press on.\n",
    "\n",
    "As your submarine slowly makes its way through the cave system, you notice that the four-digit *seven-segment displays* in your submarine are malfunctioning; they must have been damaged during the escape. You'll be in a lot of trouble without them, so you'd better figure out what's wrong.\n",
    "\n",
    "Each digit of a seven-segment display is rendered by turning on or off any of seven segments named a through g:\n",
    "\n",
    "```\n",
    "  0:      1:      2:      3:      4:\n",
    " aaaa    ....    aaaa    aaaa    ....\n",
    "b    c  .    c  .    c  .    c  b    c\n",
    "b    c  .    c  .    c  .    c  b    c\n",
    " ....    ....    dddd    dddd    dddd\n",
    "e    f  .    f  e    .  .    f  .    f\n",
    "e    f  .    f  e    .  .    f  .    f\n",
    " gggg    ....    gggg    gggg    ....\n",
    "\n",
    "  5:      6:      7:      8:      9:\n",
    " aaaa    aaaa    aaaa    aaaa    aaaa\n",
    "b    .  b    .  .    c  b    c  b    c\n",
    "b    .  b    .  .    c  b    c  b    c\n",
    " dddd    dddd    ....    dddd    dddd\n",
    ".    f  e    f  .    f  e    f  .    f\n",
    ".    f  e    f  .    f  e    f  .    f\n",
    " gggg    gggg    ....    gggg    gggg\n",
    "```\n",
    "\n",
    "So, to render a `1`, only segments `c` and `f` would be turned on; the rest would be off. To render a `7`, only segments `a`, `c`, and `f` would be turned on.\n",
    "\n",
    "The problem is that the signals which control the segments have been mixed up on each display. The submarine is still trying to display numbers by producing output on signal wires `a` through `g`, but those wires are connected to segments **randomly**. Worse, the wire/segment connections are mixed up separately for each four-digit display! (All of the digits **within** a display use the same connections, though.)\n",
    "\n",
    "So, you might know that only signal wires b and g are turned on, but that doesn't mean **segments** `b` and `g` are turned on: the only digit that uses two segments is `1`, so it must mean segments c and f are meant to be on. With just that information, you still can't tell which wire (`b`/`g`) goes to which segment (`c`/`f`). For that, you'll need to collect more information.\n",
    "\n",
    "For each display, you watch the changing signals for a while, make a note of **all ten unique signal patterns** you see, and then write down a single **four digit output value** (your puzzle input). Using the signal patterns, you should be able to work out which pattern corresponds to which digit.\n",
    "\n",
    "For example, here is what you might see in a single entry in your notes:\n",
    "\n",
    "```\n",
    "acedgfb cdfbe gcdfa fbcad dab cefabd cdfgeb eafb cagedb ab |\n",
    "cdfeb fcadb cdfeb cdbaf\n",
    "```\n",
    "\n",
    "(The entry is wrapped here to two lines so it fits; in your notes, it will all be on a single line.)\n",
    "\n",
    "Each entry consists of ten **unique signal patterns**, a | delimiter, and finally the **four digit output value**. Within an entry, the same wire/segment connections are used (but you don't know what the connections actually are). The unique signal patterns correspond to the ten different ways the submarine tries to render a digit using the current wire/segment connections. Because `7` is the only digit that uses three segments, dab in the above example means that to render a `7`, signal lines d, a, and b are on. Because `4` is the only digit that uses four segments, eafb means that to render a `4`, signal lines e, a, f, and b are on.\n",
    "\n",
    "Using this information, you should be able to work out which combination of signal wires corresponds to each of the ten digits. Then, you can decode the four digit output value. Unfortunately, in the above example, all of the digits in the output value `(cdfeb fcadb cdfeb cdbaf)` use five segments and are more difficult to deduce.\n",
    "\n",
    "For now, **focus on the easy digits**. Consider this larger example:\n",
    "\n",
    "```\n",
    "be cfbegad cbdgef fgaecd cgeb fdcge agebfd fecdb fabcd edb |\n",
    "fdgacbe cefdb cefbgd gcbe\n",
    "edbfga begcd cbg gc gcadebf fbgde acbgfd abcde gfcbed gfec |\n",
    "fcgedb cgb dgebacf gc\n",
    "fgaebd cg bdaec gdafb agbcfd gdcbef bgcad gfac gcb cdgabef |\n",
    "cg cg fdcagb cbg\n",
    "fbegcd cbd adcefb dageb afcb bc aefdc ecdab fgdeca fcdbega |\n",
    "efabcd cedba gadfec cb\n",
    "aecbfdg fbg gf bafeg dbefa fcge gcbea fcaegb dgceab fcbdga |\n",
    "gecf egdcabf bgf bfgea\n",
    "fgeab ca afcebg bdacfeg cfaedg gcfdb baec bfadeg bafgc acf |\n",
    "gebdcfa ecba ca fadegcb\n",
    "dbcfg fgd bdegcaf fgec aegbdf ecdfab fbedc dacgb gdcebf gf |\n",
    "cefg dcbef fcge gbcadfe\n",
    "bdfegc cbegaf gecbf dfcage bdacg ed bedf ced adcbefg gebcd |\n",
    "ed bcgafe cdgba cbgef\n",
    "egadfb cdbfeg cegd fecab cgb gbdefca cg fgcdab egfdb bfceg |\n",
    "gbdfcae bgc cg cgb\n",
    "gcafb gcf dcaebfg ecagb gf abcdeg gaef cafbge fdbac fegbdc |\n",
    "fgae cfgab fg bagce\n",
    "```\n",
    "\n",
    "Because the digits `1`, `4`, `7`, and `8` each use a unique number of segments, you should be able to tell which combinations of signals correspond to those digits. **Counting only digits in the output values** (the part after | on each line), in the above example, there are **`26`** instances of digits that use a unique number of segments (highlighted above).\n",
    "\n",
    "**In the output values, how many times do digits `1`, `4`, `7`, or `8` appear?**"
   ]
  },
  {
   "cell_type": "code",
   "execution_count": 1,
   "id": "92929c72-347f-4281-942f-61f68e1bf627",
   "metadata": {},
   "outputs": [
    {
     "data": {
      "text/plain": [
       "[0, 0, 78, 72, 87, 266, 231, 66, 0]"
      ]
     },
     "execution_count": 1,
     "metadata": {},
     "output_type": "execute_result"
    }
   ],
   "source": [
    "ONE = 2\n",
    "FOUR = 4\n",
    "SEVEN = 3\n",
    "EIGHT = 7\n",
    "\n",
    "outputs = [0, 0, 0, 0, 0, 0, 0, 0, 0]\n",
    "\n",
    "with open('data/input.txt', 'r') as f:\n",
    "    for line in f.read().splitlines():\n",
    "        input_str, output_str = line.split(' | ')\n",
    "        output_digits = output_str.split(' ')\n",
    "        for output_digit in output_digits:\n",
    "            output_digit = output_digit.strip()\n",
    "            outputs[len(output_digit)] += 1\n",
    "            \n",
    "outputs"
   ]
  },
  {
   "cell_type": "code",
   "execution_count": 2,
   "id": "c8136c87-5aec-42ea-b042-1ea98b4b3ff2",
   "metadata": {},
   "outputs": [
    {
     "data": {
      "text/plain": [
       "303"
      ]
     },
     "execution_count": 2,
     "metadata": {},
     "output_type": "execute_result"
    }
   ],
   "source": [
    "outputs[ONE] + outputs[FOUR] + outputs[SEVEN] + outputs[EIGHT]"
   ]
  },
  {
   "cell_type": "markdown",
   "id": "10a1cf1e-7e08-49a8-a1b9-9ea1fdf86a2e",
   "metadata": {},
   "source": [
    "Your puzzle answer was `303`."
   ]
  },
  {
   "cell_type": "markdown",
   "id": "2eed6f2b-8233-41d6-8bce-500df5e7e5ba",
   "metadata": {},
   "source": [
    "## Part two"
   ]
  },
  {
   "cell_type": "markdown",
   "id": "feb7466e-3666-4596-b53e-076a01663c1a",
   "metadata": {},
   "source": [
    "Through a little deduction, you should now be able to determine the remaining digits. Consider again the first example above:\n",
    "\n",
    "```\n",
    "acedgfb cdfbe gcdfa fbcad dab cefabd cdfgeb eafb cagedb ab |\n",
    "cdfeb fcadb cdfeb cdbaf\n",
    "```\n",
    "\n",
    "After some careful analysis, the mapping between signal wires and segments only make sense in the following configuration:\n",
    "\n",
    "```\n",
    " dddd\n",
    "e    a\n",
    "e    a\n",
    " ffff\n",
    "g    b\n",
    "g    b\n",
    " cccc\n",
    "```\n",
    "\n",
    "So, the unique signal patterns would correspond to the following digits:\n",
    "\n",
    "- acedgfb: `8`\n",
    "- cdfbe: `5`\n",
    "- gcdfa: `2`\n",
    "- fbcad: `3`\n",
    "- dab: `7`\n",
    "- cefabd: `9`\n",
    "- cdfgeb: `6`\n",
    "- eafb: `4`\n",
    "- cagedb: `0`\n",
    "- ab: `1`\n",
    "\n",
    "Then, the four digits of the output value can be decoded:\n",
    "\n",
    "- cdfeb: **`5`**\n",
    "- fcadb: **`3`**\n",
    "- cdfeb: **`5`**\n",
    "- cdbaf: **`3`**\n",
    "\n",
    "Therefore, the output value for this entry is **`5353`**.\n",
    "\n",
    "Following this same process for each entry in the second, larger example above, the output value of each entry can be determined:\n",
    "\n",
    "- fdgacbe cefdb cefbgd gcbe: `8394`\n",
    "- fcgedb cgb dgebacf gc: `9781`\n",
    "- cg cg fdcagb cbg: `1197`\n",
    "- efabcd cedba gadfec cb: `9361`\n",
    "- gecf egdcabf bgf bfgea: `4873`\n",
    "- gebdcfa ecba ca fadegcb: `8418`\n",
    "- cefg dcbef fcge gbcadfe: `4548`\n",
    "- ed bcgafe cdgba cbgef: `1625`\n",
    "- gbdfcae bgc cg cgb: `8717`\n",
    "- fgae cfgab fg bagce: `4315`\n",
    "\n",
    "Adding all of the output values in this larger example produces `61229`.\n",
    "\n",
    "For each entry, determine all of the wire/segment connections and decode the four-digit output values. **What do you get if you add up all of the output values?**"
   ]
  },
  {
   "cell_type": "code",
   "execution_count": 3,
   "id": "203cf920-8c46-4948-ab86-3ba814538a4a",
   "metadata": {},
   "outputs": [
    {
     "data": {
      "text/plain": [
       "['a', 'b', 'd']"
      ]
     },
     "execution_count": 3,
     "metadata": {},
     "output_type": "execute_result"
    }
   ],
   "source": [
    "ONE = 2\n",
    "FOUR = 4\n",
    "SEVEN = 3\n",
    "EIGHT = 7\n",
    "\n",
    "outputs = [0, 0, 0, 0, 0, 0, 0, 0, 0]\n",
    "\n",
    "with open('data/input.txt', 'r') as f:\n",
    "    for line in f.read().splitlines():\n",
    "        input_str, output_str = line.split(' | ')\n",
    "        output_digits = output_str.split(' ')\n",
    "        for output_digit in output_digits:\n",
    "            output_digit = output_digit.strip()\n",
    "            outputs[len(output_digit)] += 1\n",
    "            \n",
    "outputs\n",
    "\n",
    "tab = ['d', 'a', 'b']\n",
    "tab.sort()\n",
    "tab"
   ]
  },
  {
   "cell_type": "code",
   "execution_count": 4,
   "id": "2401ec53-8c69-46a6-8c4a-550f8d0a36f5",
   "metadata": {},
   "outputs": [],
   "source": [
    "class Digit:\n",
    "    def __init__(self, char_seq):\n",
    "        splitted_input_value = [char for char in char_seq]\n",
    "        self.char_seq_set = set(splitted_input_value)\n",
    "        self.length = len(self.char_seq_set)\n",
    "        \n",
    "        self.number = None\n",
    "        \n",
    "        self._guess_simple_number()\n",
    "        \n",
    "    def _guess_simple_number(self):\n",
    "        if self.length == 2:\n",
    "            self.number = 1\n",
    "        elif self.length == 4:\n",
    "            self.number = 4\n",
    "        elif self.length == 3:\n",
    "            self.number = 7\n",
    "        elif self.length == 7:\n",
    "            self.number = 8\n",
    "            \n",
    "    def match(self, digit):\n",
    "        return self.char_seq_set == digit.char_seq_set\n",
    "    \n",
    "    def str_number(self):\n",
    "        return str(self.number)"
   ]
  },
  {
   "cell_type": "code",
   "execution_count": 5,
   "id": "c45d6257-b547-4a7d-9f8d-5ff1c6838502",
   "metadata": {},
   "outputs": [],
   "source": [
    "def prepare_input_mapping(input_line):\n",
    "    digit_map = {\n",
    "        'classified_digits': [\n",
    "            None,\n",
    "            None,\n",
    "            None,\n",
    "            None,\n",
    "            None,\n",
    "            None,\n",
    "            None,\n",
    "            None,\n",
    "            None,\n",
    "            None\n",
    "        ],\n",
    "        'unclassified_digits': []\n",
    "    }\n",
    "\n",
    "    for input in input_line.split():\n",
    "        digit = Digit(input)\n",
    "        if digit.number is None:\n",
    "            digit_map['unclassified_digits'].append(digit)\n",
    "        else:\n",
    "            digit_map['classified_digits'][digit.number] = digit\n",
    "\n",
    "    return digit_map\n",
    "\n",
    "def map_input_digits(digit_map):\n",
    "    wires = {\n",
    "        'a': None,\n",
    "        'b': None,\n",
    "        'c': None,\n",
    "        'd': None,\n",
    "        'e': None,\n",
    "        'f': None,\n",
    "        'g': None\n",
    "    }\n",
    "\n",
    "    # Find 9\n",
    "    wires['a'] = (digit_map['classified_digits'][7].char_seq_set - \n",
    "                  digit_map['classified_digits'][1].char_seq_set).pop()\n",
    "    seven_four_set = digit_map['classified_digits'][7].char_seq_set | digit_map['classified_digits'][4].char_seq_set\n",
    "    for digit in digit_map['unclassified_digits']:\n",
    "        if digit.length == 6 and len(digit.char_seq_set - seven_four_set) == 1:\n",
    "            digit.number = 9\n",
    "            break\n",
    "    digit_map['unclassified_digits'].remove(digit)\n",
    "    digit_map['classified_digits'][digit.number] = digit\n",
    "    wires['e'] = (digit_map['classified_digits'][8].char_seq_set - \n",
    "                  digit_map['classified_digits'][9].char_seq_set).pop()\n",
    "    wires['g'] = (digit_map['classified_digits'][9].char_seq_set - seven_four_set).pop()\n",
    "\n",
    "    # Find 2\n",
    "    for digit in digit_map['unclassified_digits']:\n",
    "        if digit.length == 5 and {wires['a'], wires['e'], wires['g']}.issubset(digit.char_seq_set):\n",
    "            digit.number = 2\n",
    "            break\n",
    "    digit_map['unclassified_digits'].remove(digit)\n",
    "    digit_map['classified_digits'][digit.number] = digit\n",
    "    wires['d'] = (digit_map['classified_digits'][2].char_seq_set - \n",
    "                  (digit_map['classified_digits'][7].char_seq_set | { wires['g'], wires['e']})).pop()\n",
    "\n",
    "    # Find 0 and 6\n",
    "    for digit in digit_map['unclassified_digits']:\n",
    "        if digit.length == 6 and wires['d'] not in digit.char_seq_set:\n",
    "            digit.number = 0\n",
    "            break\n",
    "    digit_map['unclassified_digits'].remove(digit)\n",
    "    digit_map['classified_digits'][digit.number] = digit\n",
    "\n",
    "    # Find 6\n",
    "    for digit in digit_map['unclassified_digits']:\n",
    "        if digit.length == 6:\n",
    "            digit.number = 6\n",
    "            break\n",
    "    digit_map['unclassified_digits'].remove(digit)\n",
    "    digit_map['classified_digits'][digit.number] = digit\n",
    "    wires['c'] = (digit_map['classified_digits'][8].char_seq_set - digit_map['classified_digits'][6].char_seq_set).pop()\n",
    "\n",
    "    # Find 3 and 5\n",
    "    for digit in digit_map['unclassified_digits']:\n",
    "        if digit.length == 5 and wires['c'] in digit.char_seq_set:\n",
    "            digit.number = 3\n",
    "            break\n",
    "    digit_map['unclassified_digits'].remove(digit)\n",
    "    digit_map['classified_digits'][digit.number] = digit\n",
    "    digit = digit_map['unclassified_digits'].pop()\n",
    "    digit.number = 5\n",
    "    digit_map['classified_digits'][digit.number] = digit\n",
    "\n",
    "    return digit_map"
   ]
  },
  {
   "cell_type": "code",
   "execution_count": 6,
   "id": "2b304cd8-4f6d-425f-8ea1-e99fc3be90be",
   "metadata": {},
   "outputs": [
    {
     "data": {
      "text/plain": [
       "{'classified_digits': [<__main__.Digit at 0x106f2d160>,\n",
       "  <__main__.Digit at 0x106f2d2b0>,\n",
       "  <__main__.Digit at 0x106f2db80>,\n",
       "  <__main__.Digit at 0x106f2db50>,\n",
       "  <__main__.Digit at 0x106f2d190>,\n",
       "  <__main__.Digit at 0x106f2dbb0>,\n",
       "  <__main__.Digit at 0x106f2db20>,\n",
       "  <__main__.Digit at 0x106f2dac0>,\n",
       "  <__main__.Digit at 0x106f2de50>,\n",
       "  <__main__.Digit at 0x106f2daf0>],\n",
       " 'unclassified_digits': []}"
      ]
     },
     "execution_count": 6,
     "metadata": {},
     "output_type": "execute_result"
    }
   ],
   "source": [
    "digit_map = prepare_input_mapping('acedgfb cdfbe gcdfa fbcad dab cefabd cdfgeb eafb cagedb ab')\n",
    "mapped_input_digits = map_input_digits(digit_map)\n",
    "mapped_input_digits"
   ]
  },
  {
   "cell_type": "code",
   "execution_count": 7,
   "id": "1605ed67-3acb-4390-b235-bb0cd260cc3e",
   "metadata": {},
   "outputs": [],
   "source": [
    "def output_mapping(output_line, mapped_input_digits):\n",
    "    output_digits = []\n",
    "    for output in output_line.split():\n",
    "        digit = Digit(output)\n",
    "        if digit.number is None:\n",
    "            for input_digit in mapped_input_digits['classified_digits']:\n",
    "                if digit.match(input_digit):\n",
    "                    digit.number = input_digit.number\n",
    "                    break\n",
    "        output_digits.append(digit)\n",
    "    \n",
    "    return output_digits"
   ]
  },
  {
   "cell_type": "code",
   "execution_count": 8,
   "id": "c5cbbe8c-462b-4190-8c35-c28113667f11",
   "metadata": {},
   "outputs": [
    {
     "data": {
      "text/plain": [
       "5353"
      ]
     },
     "execution_count": 8,
     "metadata": {},
     "output_type": "execute_result"
    }
   ],
   "source": [
    "output_digits = output_mapping('cdfeb fcadb cdfeb cdbaf', mapped_input_digits)\n",
    "\n",
    "res = ''\n",
    "for output_digit in output_digits:\n",
    "    res += output_digit.str_number()\n",
    "int(res)"
   ]
  },
  {
   "cell_type": "code",
   "execution_count": 9,
   "id": "20ec8185-d86a-450c-872d-1b9dadefe9c8",
   "metadata": {},
   "outputs": [
    {
     "data": {
      "text/plain": [
       "961734"
      ]
     },
     "execution_count": 9,
     "metadata": {},
     "output_type": "execute_result"
    }
   ],
   "source": [
    "res = 0\n",
    "\n",
    "with open('data/input.txt', 'r') as f:\n",
    "    for line in f.read().splitlines():\n",
    "        input_line, output_line = line.split(' | ')\n",
    "        \n",
    "        digit_map = prepare_input_mapping(input_line)\n",
    "        mapped_input_digits = map_input_digits(digit_map)\n",
    "        \n",
    "        output_digits = output_mapping(output_line, mapped_input_digits)\n",
    "        \n",
    "        str_digits = ''\n",
    "        for output_digit in output_digits:\n",
    "            str_digits += output_digit.str_number()\n",
    "            \n",
    "        res += int(str_digits)\n",
    "        \n",
    "res"
   ]
  },
  {
   "cell_type": "markdown",
   "id": "4002d8d1-82d4-41c8-8e08-98e11e8b9046",
   "metadata": {},
   "source": [
    "Your puzzle answer was `961734`."
   ]
  }
 ],
 "metadata": {
  "kernelspec": {
   "display_name": "Python 3 (ipykernel)",
   "language": "python",
   "name": "python3"
  },
  "language_info": {
   "codemirror_mode": {
    "name": "ipython",
    "version": 3
   },
   "file_extension": ".py",
   "mimetype": "text/x-python",
   "name": "python",
   "nbconvert_exporter": "python",
   "pygments_lexer": "ipython3",
   "version": "3.9.9"
  }
 },
 "nbformat": 4,
 "nbformat_minor": 5
}
