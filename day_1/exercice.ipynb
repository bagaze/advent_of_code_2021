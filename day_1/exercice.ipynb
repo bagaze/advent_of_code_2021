{
 "cells": [
  {
   "cell_type": "markdown",
   "id": "f0a1e9ec-de0b-4abf-b2d6-df7cab78e42d",
   "metadata": {},
   "source": [
    "# Day 1: Sonar Sweep"
   ]
  },
  {
   "cell_type": "markdown",
   "id": "08b71fd4-5bf9-4a05-8377-61bb6a5b7917",
   "metadata": {},
   "source": [
    "## Part one"
   ]
  },
  {
   "cell_type": "markdown",
   "id": "22267047-60ed-4141-b6b3-fee0cdd0cdca",
   "metadata": {},
   "source": [
    "You're minding your own business on a ship at sea when the overboard alarm goes off! You rush to see if you can help. Apparently, one of the Elves tripped and accidentally sent the sleigh keys flying into the ocean!\n",
    "\n",
    "Before you know it, you're inside a submarine the Elves keep ready for situations like this. It's covered in Christmas lights (because of course it is), and it even has an experimental antenna that should be able to track the keys if you can boost its signal strength high enough; there's a little meter that indicates the antenna's signal strength by displaying 0-50 **stars**.\n",
    "\n",
    "Your instincts tell you that in order to save Christmas, you'll need to get all **fifty stars** by December 25th.\n",
    "\n",
    "Collect stars by solving puzzles. Two puzzles will be made available on each day in the Advent calendar; the second puzzle is unlocked when you complete the first. Each puzzle grants **one star**. Good luck!\n",
    "\n",
    "As the submarine drops below the surface of the ocean, it automatically performs a sonar sweep of the nearby sea floor. On a small screen, the sonar sweep report (your puzzle input) appears: each line is a measurement of the sea floor depth as the sweep looks further and further away from the submarine.\n",
    "\n",
    "For example, suppose you had the following report:\n",
    "\n",
    "```\n",
    "199\n",
    "200\n",
    "208\n",
    "210\n",
    "200\n",
    "207\n",
    "240\n",
    "269\n",
    "260\n",
    "263\n",
    "```\n",
    "\n",
    "This report indicates that, scanning outward from the submarine, the sonar sweep found depths of `199`, `200`, `208`, `210`, and so on.\n",
    "\n",
    "The first order of business is to figure out how quickly the depth increases, just so you know what you're dealing with - you never know if the keys will get carried into deeper water by an ocean current or a fish or something.\n",
    "\n",
    "To do this, **count the number of times a depth measurement increases** from the previous measurement. (There is no measurement before the first measurement.) In the example above, the changes are as follows:\n",
    "\n",
    "```\n",
    "199 (N/A - no previous measurement)\n",
    "200 (increased)\n",
    "208 (increased)\n",
    "210 (increased)\n",
    "200 (decreased)\n",
    "207 (increased)\n",
    "240 (increased)\n",
    "269 (increased)\n",
    "260 (decreased)\n",
    "263 (increased)\n",
    "```\n",
    "\n",
    "In this example, there are 7 measurements that are larger than the previous measurement.\n",
    "\n",
    "How many measurements are larger than the previous measurement?"
   ]
  },
  {
   "cell_type": "code",
   "execution_count": 1,
   "id": "f2d0d639-3b02-495e-bfbb-033c92bc16b2",
   "metadata": {},
   "outputs": [
    {
     "data": {
      "text/plain": [
       "[176, 184, 196, 199, 204, 206, 219, 215, 216, 217]"
      ]
     },
     "execution_count": 1,
     "metadata": {},
     "output_type": "execute_result"
    }
   ],
   "source": [
    "with open('data/input.txt', 'r') as input_f:\n",
    "    input_data = [int(l) for l in input_f]\n",
    "\n",
    "input_data[:10]"
   ]
  },
  {
   "cell_type": "markdown",
   "id": "0bb2f3e3",
   "metadata": {},
   "source": [
    "### First solution"
   ]
  },
  {
   "cell_type": "code",
   "execution_count": 2,
   "id": "aed3fa17-3c80-434c-bd9d-9164fea71d9e",
   "metadata": {},
   "outputs": [
    {
     "data": {
      "text/plain": [
       "1342"
      ]
     },
     "execution_count": 2,
     "metadata": {},
     "output_type": "execute_result"
    }
   ],
   "source": [
    "result = 0\n",
    "previous_elem = None\n",
    "\n",
    "for elem in input_data:\n",
    "    if previous_elem and elem > previous_elem:\n",
    "        result += 1\n",
    "    previous_elem = elem\n",
    "    \n",
    "result"
   ]
  },
  {
   "cell_type": "markdown",
   "id": "7192c863",
   "metadata": {},
   "source": [
    "### Second solution"
   ]
  },
  {
   "cell_type": "code",
   "execution_count": 3,
   "id": "f9acbe2f",
   "metadata": {},
   "outputs": [
    {
     "data": {
      "text/plain": [
       "1342"
      ]
     },
     "execution_count": 3,
     "metadata": {},
     "output_type": "execute_result"
    }
   ],
   "source": [
    "sum([input_data[n + 1] > input_data[n] for n in range(0, len(input_data) - 1)])"
   ]
  },
  {
   "cell_type": "markdown",
   "id": "bc092c0d-f78f-479a-9806-0aa7a012fdab",
   "metadata": {},
   "source": [
    "Your puzzle answer was `1342`."
   ]
  },
  {
   "cell_type": "markdown",
   "id": "bc2866d3-c881-4c16-8ff7-0f1220f61327",
   "metadata": {},
   "source": [
    "## Part two"
   ]
  },
  {
   "cell_type": "markdown",
   "id": "70c2428a-2100-4c7e-9487-ff54c18ce7c5",
   "metadata": {},
   "source": [
    "Considering every single measurement isn't as useful as you expected: there's just too much noise in the data.\n",
    "\n",
    "Instead, consider sums of a **three-measurement sliding window**. Again considering the above example:\n",
    "\n",
    "```\n",
    "199  A      \n",
    "200  A B    \n",
    "208  A B C  \n",
    "210    B C D\n",
    "200  E   C D\n",
    "207  E F   D\n",
    "240  E F G  \n",
    "269    F G H\n",
    "260      G H\n",
    "263        H\n",
    "```\n",
    "\n",
    "Start by comparing the first and second three-measurement windows. The measurements in the first window are marked `A` (`199`, `200`, `208`); their sum is `199 + 200 + 208 = 607`. The second window is marked `B` (`200`, `208`, `210`); its sum is `618`. The sum of measurements in the second window is larger than the sum of the first, so this first comparison increased.\n",
    "\n",
    "Your goal now is to count **the number of times the sum of measurements in this sliding window increases** from the previous sum. So, compare `A` with `B`, then compare `B` with `C`, then `C` with `D`, and so on. Stop when there aren't enough measurements left to create a new three-measurement sum.\n",
    "\n",
    "In the above example, the sum of each three-measurement window is as follows:\n",
    "\n",
    "```\n",
    "A: 607 (N/A - no previous sum)\n",
    "B: 618 (increased)\n",
    "C: 618 (no change)\n",
    "D: 617 (decreased)\n",
    "E: 647 (increased)\n",
    "F: 716 (increased)\n",
    "G: 769 (increased)\n",
    "H: 792 (increased)\n",
    "```\n",
    "\n",
    "In this example, there are 5 sums that are larger than the previous sum.\n",
    "\n",
    "Consider sums of a three-measurement sliding window. **How many sums are larger than the previous sum?**"
   ]
  },
  {
   "cell_type": "markdown",
   "id": "4606bbd6",
   "metadata": {},
   "source": [
    "### First solution"
   ]
  },
  {
   "cell_type": "code",
   "execution_count": 4,
   "id": "a82f5149-4eb1-4006-b09f-3aeea605ca2f",
   "metadata": {},
   "outputs": [
    {
     "data": {
      "text/plain": [
       "[16648, 16648, 16623, 16617, 16618, 16658, 16690, 16723, 16742, 16768]"
      ]
     },
     "execution_count": 4,
     "metadata": {},
     "output_type": "execute_result"
    }
   ],
   "source": [
    "input_data_sec = []\n",
    "\n",
    "elem_num = 0\n",
    "\n",
    "for elem in input_data[:-2]:\n",
    "    window = input_data[elem_num] + input_data[elem_num + 1] + input_data[elem_num + 2]\n",
    "    input_data_sec.append(window)\n",
    "    elem_num += 1\n",
    "    \n",
    "input_data_sec[-10:]"
   ]
  },
  {
   "cell_type": "code",
   "execution_count": 5,
   "id": "27441876-23a6-4c4e-ae6c-ff571e1b131d",
   "metadata": {},
   "outputs": [
    {
     "data": {
      "text/plain": [
       "1378"
      ]
     },
     "execution_count": 5,
     "metadata": {},
     "output_type": "execute_result"
    }
   ],
   "source": [
    "result = 0\n",
    "previous_elem = None\n",
    "\n",
    "for elem in input_data_sec:\n",
    "    elem = int(elem)\n",
    "    if previous_elem and elem > previous_elem:\n",
    "        result += 1\n",
    "        # print(\"previous_elem: %s - elem: %s\" % (previous_elem, elem, ))\n",
    "    previous_elem = elem\n",
    "    \n",
    "result"
   ]
  },
  {
   "cell_type": "markdown",
   "id": "3c1373c2",
   "metadata": {},
   "source": [
    "### Second solution"
   ]
  },
  {
   "cell_type": "code",
   "execution_count": 6,
   "id": "49779a5b",
   "metadata": {},
   "outputs": [
    {
     "data": {
      "text/plain": [
       "1378"
      ]
     },
     "execution_count": 6,
     "metadata": {},
     "output_type": "execute_result"
    }
   ],
   "source": [
    "sum([\n",
    "    (input_data[n] + input_data[n + 1] + input_data[n + 2])\n",
    "    < \n",
    "    (input_data[n + 1] + input_data[n + 2] + input_data[n + 3]) \n",
    "    for n in range(0, len(input_data) - 3)\n",
    "    ])"
   ]
  },
  {
   "cell_type": "markdown",
   "id": "71ed646d-7e04-4f60-925b-bb62d2904c85",
   "metadata": {},
   "source": [
    "Your puzzle answer was 1378."
   ]
  },
  {
   "cell_type": "markdown",
   "id": "82d999d6-0a4b-44cb-9480-b2ffd5141cf1",
   "metadata": {},
   "source": [
    "Both parts of this puzzle are complete! They provide two gold stars: **"
   ]
  }
 ],
 "metadata": {
  "kernelspec": {
   "display_name": "Python 3 (ipykernel)",
   "language": "python",
   "name": "python3"
  },
  "language_info": {
   "codemirror_mode": {
    "name": "ipython",
    "version": 3
   },
   "file_extension": ".py",
   "mimetype": "text/x-python",
   "name": "python",
   "nbconvert_exporter": "python",
   "pygments_lexer": "ipython3",
   "version": "3.9.10"
  }
 },
 "nbformat": 4,
 "nbformat_minor": 5
}
