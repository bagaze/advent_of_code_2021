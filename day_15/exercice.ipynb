{
 "cells": [
  {
   "cell_type": "markdown",
   "id": "1f4728fd-cfb1-46e4-8bbe-051f703cd9a4",
   "metadata": {},
   "source": [
    "# Day 15: Chiton"
   ]
  },
  {
   "cell_type": "markdown",
   "id": "cfd6b08d-1884-497e-8ae0-4502af5f0da0",
   "metadata": {},
   "source": [
    "## Part one"
   ]
  },
  {
   "cell_type": "markdown",
   "id": "b4d269a2-f695-4bb6-b301-6ad1fcd87bad",
   "metadata": {},
   "source": [
    "You've almost reached the exit of the cave, but the walls are getting closer together. Your submarine can barely still fit, though; the main problem is that the walls of the cave are covered in [chitons](https://en.wikipedia.org/wiki/Chiton), and it would be best not to bump any of them.\n",
    "\n",
    "The cavern is large, but has a very low ceiling, restricting your motion to two dimensions. The shape of the cavern resembles a square; a quick scan of chiton density produces a map of **risk level** throughout the cave (your puzzle input). For example:\n",
    "\n",
    "```\n",
    "1163751742\n",
    "1381373672\n",
    "2136511328\n",
    "3694931569\n",
    "7463417111\n",
    "1319128137\n",
    "1359912421\n",
    "3125421639\n",
    "1293138521\n",
    "2311944581\n",
    "```\n",
    "\n",
    "You start in the top left position, your destination is the bottom right position, and you cannot move diagonally. The number at each position is its **risk level**; to determine the total risk of an entire path, add up the risk levels of each position you **enter** (that is, don't count the risk level of your starting position unless you enter it; leaving it adds no risk to your total).\n",
    "\n",
    "Your goal is to find a path with the **lowest total risk**. In this example, a path with the lowest total risk is highlighted here:\n",
    "\n",
    "```\n",
    "1163751742\n",
    "1381373672\n",
    "2136511328\n",
    "3694931569\n",
    "7463417111\n",
    "1319128137\n",
    "1359912421\n",
    "3125421639\n",
    "1293138521\n",
    "2311944581\n",
    "```\n",
    "\n",
    "The total risk of this path is `40` (the starting position is never entered, so its risk is not counted).\n",
    "\n",
    "**What is the lowest total risk of any path from the top left to the bottom right?**"
   ]
  },
  {
   "cell_type": "code",
   "execution_count": 2,
   "id": "e9cf8270-977e-4a32-8ec1-cbd8698b4663",
   "metadata": {},
   "outputs": [
    {
     "name": "stdout",
     "output_type": "stream",
     "text": [
      "[[Node(x=0, y=0, weight=1, distance_from_start=0), Node(x=1, y=0, weight=1, distance_from_start=None), Node(x=2, y=0, weight=6, distance_from_start=None), Node(x=3, y=0, weight=3, distance_from_start=None), Node(x=4, y=0, weight=7, distance_from_start=None), Node(x=5, y=0, weight=5, distance_from_start=None), Node(x=6, y=0, weight=1, distance_from_start=None), Node(x=7, y=0, weight=7, distance_from_start=None), Node(x=8, y=0, weight=4, distance_from_start=None), Node(x=9, y=0, weight=2, distance_from_start=None)], [Node(x=0, y=1, weight=1, distance_from_start=None), Node(x=1, y=1, weight=3, distance_from_start=None), Node(x=2, y=1, weight=8, distance_from_start=None), Node(x=3, y=1, weight=1, distance_from_start=None), Node(x=4, y=1, weight=3, distance_from_start=None), Node(x=5, y=1, weight=7, distance_from_start=None), Node(x=6, y=1, weight=3, distance_from_start=None), Node(x=7, y=1, weight=6, distance_from_start=None), Node(x=8, y=1, weight=7, distance_from_start=None), Node(x=9, y=1, weight=2, distance_from_start=None)], [Node(x=0, y=2, weight=2, distance_from_start=None), Node(x=1, y=2, weight=1, distance_from_start=None), Node(x=2, y=2, weight=3, distance_from_start=None), Node(x=3, y=2, weight=6, distance_from_start=None), Node(x=4, y=2, weight=5, distance_from_start=None), Node(x=5, y=2, weight=1, distance_from_start=None), Node(x=6, y=2, weight=1, distance_from_start=None), Node(x=7, y=2, weight=3, distance_from_start=None), Node(x=8, y=2, weight=2, distance_from_start=None), Node(x=9, y=2, weight=8, distance_from_start=None)], [Node(x=0, y=3, weight=3, distance_from_start=None), Node(x=1, y=3, weight=6, distance_from_start=None), Node(x=2, y=3, weight=9, distance_from_start=None), Node(x=3, y=3, weight=4, distance_from_start=None), Node(x=4, y=3, weight=9, distance_from_start=None), Node(x=5, y=3, weight=3, distance_from_start=None), Node(x=6, y=3, weight=1, distance_from_start=None), Node(x=7, y=3, weight=5, distance_from_start=None), Node(x=8, y=3, weight=6, distance_from_start=None), Node(x=9, y=3, weight=9, distance_from_start=None)], [Node(x=0, y=4, weight=7, distance_from_start=None), Node(x=1, y=4, weight=4, distance_from_start=None), Node(x=2, y=4, weight=6, distance_from_start=None), Node(x=3, y=4, weight=3, distance_from_start=None), Node(x=4, y=4, weight=4, distance_from_start=None), Node(x=5, y=4, weight=1, distance_from_start=None), Node(x=6, y=4, weight=7, distance_from_start=None), Node(x=7, y=4, weight=1, distance_from_start=None), Node(x=8, y=4, weight=1, distance_from_start=None), Node(x=9, y=4, weight=1, distance_from_start=None)], [Node(x=0, y=5, weight=1, distance_from_start=None), Node(x=1, y=5, weight=3, distance_from_start=None), Node(x=2, y=5, weight=1, distance_from_start=None), Node(x=3, y=5, weight=9, distance_from_start=None), Node(x=4, y=5, weight=1, distance_from_start=None), Node(x=5, y=5, weight=2, distance_from_start=None), Node(x=6, y=5, weight=8, distance_from_start=None), Node(x=7, y=5, weight=1, distance_from_start=None), Node(x=8, y=5, weight=3, distance_from_start=None), Node(x=9, y=5, weight=7, distance_from_start=None)], [Node(x=0, y=6, weight=1, distance_from_start=None), Node(x=1, y=6, weight=3, distance_from_start=None), Node(x=2, y=6, weight=5, distance_from_start=None), Node(x=3, y=6, weight=9, distance_from_start=None), Node(x=4, y=6, weight=9, distance_from_start=None), Node(x=5, y=6, weight=1, distance_from_start=None), Node(x=6, y=6, weight=2, distance_from_start=None), Node(x=7, y=6, weight=4, distance_from_start=None), Node(x=8, y=6, weight=2, distance_from_start=None), Node(x=9, y=6, weight=1, distance_from_start=None)], [Node(x=0, y=7, weight=3, distance_from_start=None), Node(x=1, y=7, weight=1, distance_from_start=None), Node(x=2, y=7, weight=2, distance_from_start=None), Node(x=3, y=7, weight=5, distance_from_start=None), Node(x=4, y=7, weight=4, distance_from_start=None), Node(x=5, y=7, weight=2, distance_from_start=None), Node(x=6, y=7, weight=1, distance_from_start=None), Node(x=7, y=7, weight=6, distance_from_start=None), Node(x=8, y=7, weight=3, distance_from_start=None), Node(x=9, y=7, weight=9, distance_from_start=None)], [Node(x=0, y=8, weight=1, distance_from_start=None), Node(x=1, y=8, weight=2, distance_from_start=None), Node(x=2, y=8, weight=9, distance_from_start=None), Node(x=3, y=8, weight=3, distance_from_start=None), Node(x=4, y=8, weight=1, distance_from_start=None), Node(x=5, y=8, weight=3, distance_from_start=None), Node(x=6, y=8, weight=8, distance_from_start=None), Node(x=7, y=8, weight=5, distance_from_start=None), Node(x=8, y=8, weight=2, distance_from_start=None), Node(x=9, y=8, weight=1, distance_from_start=None)], [Node(x=0, y=9, weight=2, distance_from_start=None), Node(x=1, y=9, weight=3, distance_from_start=None), Node(x=2, y=9, weight=1, distance_from_start=None), Node(x=3, y=9, weight=1, distance_from_start=None), Node(x=4, y=9, weight=9, distance_from_start=None), Node(x=5, y=9, weight=4, distance_from_start=None), Node(x=6, y=9, weight=4, distance_from_start=None), Node(x=7, y=9, weight=5, distance_from_start=None), Node(x=8, y=9, weight=8, distance_from_start=None), Node(x=9, y=9, weight=1, distance_from_start=None)]]\n"
     ]
    },
    {
     "data": {
      "text/plain": [
       "[[8, 9], [9, 8]]"
      ]
     },
     "execution_count": 2,
     "metadata": {},
     "output_type": "execute_result"
    }
   ],
   "source": [
    "class Node:\n",
    "    \n",
    "    def __init__(self, x, y, weight, _max_x, _max_y):\n",
    "        self.x = x\n",
    "        self.y = y\n",
    "        self.weight = int(weight)\n",
    "        self._max_x = _max_x\n",
    "        self._max_y = _max_y\n",
    "        self.distance_from_start = None\n",
    "        if x == 0 and y == 0:\n",
    "            self.distance_from_start = 0\n",
    "        self.is_start = (self.x == 0 and self.y == 0)\n",
    "        self.is_final = (self.x == self._max_x - 1 and self.y == self._max_y - 1)\n",
    "        self.visited = False\n",
    "        \n",
    "    def get_neighbours(self):\n",
    "        neightboors = []\n",
    "        \n",
    "        if self.x != 0:\n",
    "            neightboors.append([self.x - 1, self.y])\n",
    "            \n",
    "        if self.x != self._max_x - 1:\n",
    "            neightboors.append([self.x + 1, self.y])\n",
    "            \n",
    "        if self.y != 0:\n",
    "            neightboors.append([self.x, self.y - 1])\n",
    "            \n",
    "        if self.y != self._max_y - 1:\n",
    "            neightboors.append([self.x, self.y + 1])\n",
    "            \n",
    "        return neightboors\n",
    "            \n",
    "    def __repr__(self):\n",
    "        return f'Node(x={self.x}, y={self.y}, weight={self.weight}, distance_from_start={self.distance_from_start})'\n",
    "\n",
    "def load_input(filepath='./data/input_test.txt'):\n",
    "    node_map = []\n",
    "    with open('%s' % (filepath, ), 'r') as input_f:\n",
    "        input_lines = input_f.read().splitlines()\n",
    "        \n",
    "        max_x = len(input_lines[0])\n",
    "        max_y = len(input_lines)\n",
    "        \n",
    "        # Extract polymer\n",
    "        polymer = input_lines[0]\n",
    "        \n",
    "        # Extract insertion rules\n",
    "        for line_number in range(0, max_y):\n",
    "            node_line = []\n",
    "            for column_number in range(0, max_x):\n",
    "                node = Node(column_number, line_number, input_lines[line_number][column_number], max_x, max_y)\n",
    "                node_line.append(node)\n",
    "            node_map.append(node_line)\n",
    "    \n",
    "    return node_map\n",
    "\n",
    "node_map = load_input()\n",
    "print(node_map)\n",
    "node_map[9][9].get_neighbours()"
   ]
  },
  {
   "cell_type": "code",
   "execution_count": 3,
   "id": "8e5fc4bf-9383-4c45-84e3-ef0170674111",
   "metadata": {},
   "outputs": [
    {
     "data": {
      "text/plain": [
       "Node(x=9, y=9, weight=1, distance_from_start=40)"
      ]
     },
     "execution_count": 3,
     "metadata": {},
     "output_type": "execute_result"
    }
   ],
   "source": [
    "DEBUG = False\n",
    "import sys\n",
    "\n",
    "def select_next_to_visit(to_visit):\n",
    "    if DEBUG: print('to_visit: %s' % (to_visit, ))\n",
    "    next_to_visit = to_visit[0]\n",
    "    for node in to_visit:\n",
    "        if node.distance_from_start < next_to_visit.distance_from_start:\n",
    "            next_to_visit = node\n",
    "        \n",
    "    return next_to_visit\n",
    "        \n",
    "\n",
    "def shortest_path(node_path, max_i=sys.maxsize):\n",
    "    to_visit = [node_path[0][0]]\n",
    "    visited = []\n",
    "    i = 0\n",
    "    \n",
    "    while i < max_i:\n",
    "        i += 1\n",
    "        node_to_visit = select_next_to_visit(to_visit)\n",
    "        if DEBUG: print('nb to_visit: %s' % (len(to_visit), ))\n",
    "        to_visit.remove(node_to_visit)\n",
    "        visited.append(node_to_visit)\n",
    "        \n",
    "        if node_to_visit.is_final:\n",
    "            break\n",
    "        \n",
    "        for node_position in node_to_visit.get_neighbours():\n",
    "            node = node_path[node_position[1]][node_position[0]]\n",
    "            if node not in visited:\n",
    "                new_distance = node_to_visit.distance_from_start + node.weight\n",
    "                if node.distance_from_start is None or node_to_visit.distance_from_start > new_distance:\n",
    "                    node.distance_from_start = new_distance\n",
    "                if node not in to_visit:\n",
    "                    to_visit.append(node)\n",
    "\n",
    "    \n",
    "node_map = load_input()\n",
    "shortest_path(node_map)\n",
    "node_map[len(node_map) - 1][len(node_map[0]) - 1]"
   ]
  },
  {
   "cell_type": "code",
   "execution_count": 4,
   "id": "c50b1801-acbb-4251-849d-9e3d51f2860f",
   "metadata": {},
   "outputs": [
    {
     "data": {
      "text/plain": [
       "Node(x=99, y=99, weight=1, distance_from_start=540)"
      ]
     },
     "execution_count": 4,
     "metadata": {},
     "output_type": "execute_result"
    }
   ],
   "source": [
    "node_map = load_input('./data/input.txt')\n",
    "shortest_path(node_map)\n",
    "node_map[len(node_map) - 1][len(node_map[0]) - 1]"
   ]
  },
  {
   "cell_type": "markdown",
   "id": "400de157-4644-4f46-8fdf-083e9ad03272",
   "metadata": {},
   "source": [
    "Your puzzle answer was `540`."
   ]
  },
  {
   "cell_type": "markdown",
   "id": "432c9d6f-e094-4e94-99b7-63481be2c31d",
   "metadata": {},
   "source": [
    "## Part two"
   ]
  },
  {
   "cell_type": "markdown",
   "id": "e21871d9-900f-4778-883c-84895201a570",
   "metadata": {},
   "source": [
    "Now that you know how to find low-risk paths in the cave, you can try to find your way out.\n",
    "\n",
    "The entire cave is actually **five times larger in both dimensions** than you thought; the area you originally scanned is just one tile in a 5x5 tile area that forms the full map. Your original map tile repeats to the right and downward; each time the tile repeats to the right or downward, all of its risk levels **are 1 higher** than the tile immediately up or left of it. However, risk levels above 9 wrap back around to 1. So, if your original map had some position with a risk level of 8, then that same position on each of the 25 total tiles would be as follows:\n",
    "\n",
    "```\n",
    "8 9 1 2 3\n",
    "9 1 2 3 4\n",
    "1 2 3 4 5\n",
    "2 3 4 5 6\n",
    "3 4 5 6 7\n",
    "```\n",
    "\n",
    "Each single digit above corresponds to the example position with a value of 8 on the top-left tile. Because the full map is actually five times larger in both dimensions, that position appears a total of 25 times, once in each duplicated tile, with the values shown above.\n",
    "\n",
    "Here is the full five-times-as-large version of the first example above, with the original map in the top left corner highlighted:\n",
    "\n",
    "```\n",
    "11637517422274862853338597396444961841755517295286\n",
    "13813736722492484783351359589446246169155735727126\n",
    "21365113283247622439435873354154698446526571955763\n",
    "36949315694715142671582625378269373648937148475914\n",
    "74634171118574528222968563933317967414442817852555\n",
    "13191281372421239248353234135946434524615754563572\n",
    "13599124212461123532357223464346833457545794456865\n",
    "31254216394236532741534764385264587549637569865174\n",
    "12931385212314249632342535174345364628545647573965\n",
    "23119445813422155692453326671356443778246755488935\n",
    "22748628533385973964449618417555172952866628316397\n",
    "24924847833513595894462461691557357271266846838237\n",
    "32476224394358733541546984465265719557637682166874\n",
    "47151426715826253782693736489371484759148259586125\n",
    "85745282229685639333179674144428178525553928963666\n",
    "24212392483532341359464345246157545635726865674683\n",
    "24611235323572234643468334575457944568656815567976\n",
    "42365327415347643852645875496375698651748671976285\n",
    "23142496323425351743453646285456475739656758684176\n",
    "34221556924533266713564437782467554889357866599146\n",
    "33859739644496184175551729528666283163977739427418\n",
    "35135958944624616915573572712668468382377957949348\n",
    "43587335415469844652657195576376821668748793277985\n",
    "58262537826937364893714847591482595861259361697236\n",
    "96856393331796741444281785255539289636664139174777\n",
    "35323413594643452461575456357268656746837976785794\n",
    "35722346434683345754579445686568155679767926678187\n",
    "53476438526458754963756986517486719762859782187396\n",
    "34253517434536462854564757396567586841767869795287\n",
    "45332667135644377824675548893578665991468977611257\n",
    "44961841755517295286662831639777394274188841538529\n",
    "46246169155735727126684683823779579493488168151459\n",
    "54698446526571955763768216687487932779859814388196\n",
    "69373648937148475914825958612593616972361472718347\n",
    "17967414442817852555392896366641391747775241285888\n",
    "46434524615754563572686567468379767857948187896815\n",
    "46833457545794456865681556797679266781878137789298\n",
    "64587549637569865174867197628597821873961893298417\n",
    "45364628545647573965675868417678697952878971816398\n",
    "56443778246755488935786659914689776112579188722368\n",
    "55172952866628316397773942741888415385299952649631\n",
    "57357271266846838237795794934881681514599279262561\n",
    "65719557637682166874879327798598143881961925499217\n",
    "71484759148259586125936169723614727183472583829458\n",
    "28178525553928963666413917477752412858886352396999\n",
    "57545635726865674683797678579481878968159298917926\n",
    "57944568656815567976792667818781377892989248891319\n",
    "75698651748671976285978218739618932984172914319528\n",
    "56475739656758684176786979528789718163989182927419\n",
    "67554889357866599146897761125791887223681299833479\n",
    "```\n",
    "\n",
    "Equipped with the full map, you can now find a path from the top left corner to the bottom right corner with the lowest total risk:\n",
    "\n",
    "```\n",
    "11637517422274862853338597396444961841755517295286\n",
    "13813736722492484783351359589446246169155735727126\n",
    "21365113283247622439435873354154698446526571955763\n",
    "36949315694715142671582625378269373648937148475914\n",
    "74634171118574528222968563933317967414442817852555\n",
    "13191281372421239248353234135946434524615754563572\n",
    "13599124212461123532357223464346833457545794456865\n",
    "31254216394236532741534764385264587549637569865174\n",
    "12931385212314249632342535174345364628545647573965\n",
    "23119445813422155692453326671356443778246755488935\n",
    "22748628533385973964449618417555172952866628316397\n",
    "24924847833513595894462461691557357271266846838237\n",
    "32476224394358733541546984465265719557637682166874\n",
    "47151426715826253782693736489371484759148259586125\n",
    "85745282229685639333179674144428178525553928963666\n",
    "24212392483532341359464345246157545635726865674683\n",
    "24611235323572234643468334575457944568656815567976\n",
    "42365327415347643852645875496375698651748671976285\n",
    "23142496323425351743453646285456475739656758684176\n",
    "34221556924533266713564437782467554889357866599146\n",
    "33859739644496184175551729528666283163977739427418\n",
    "35135958944624616915573572712668468382377957949348\n",
    "43587335415469844652657195576376821668748793277985\n",
    "58262537826937364893714847591482595861259361697236\n",
    "96856393331796741444281785255539289636664139174777\n",
    "35323413594643452461575456357268656746837976785794\n",
    "35722346434683345754579445686568155679767926678187\n",
    "53476438526458754963756986517486719762859782187396\n",
    "34253517434536462854564757396567586841767869795287\n",
    "45332667135644377824675548893578665991468977611257\n",
    "44961841755517295286662831639777394274188841538529\n",
    "46246169155735727126684683823779579493488168151459\n",
    "54698446526571955763768216687487932779859814388196\n",
    "69373648937148475914825958612593616972361472718347\n",
    "17967414442817852555392896366641391747775241285888\n",
    "46434524615754563572686567468379767857948187896815\n",
    "46833457545794456865681556797679266781878137789298\n",
    "64587549637569865174867197628597821873961893298417\n",
    "45364628545647573965675868417678697952878971816398\n",
    "56443778246755488935786659914689776112579188722368\n",
    "55172952866628316397773942741888415385299952649631\n",
    "57357271266846838237795794934881681514599279262561\n",
    "65719557637682166874879327798598143881961925499217\n",
    "71484759148259586125936169723614727183472583829458\n",
    "28178525553928963666413917477752412858886352396999\n",
    "57545635726865674683797678579481878968159298917926\n",
    "57944568656815567976792667818781377892989248891319\n",
    "75698651748671976285978218739618932984172914319528\n",
    "56475739656758684176786979528789718163989182927419\n",
    "67554889357866599146897761125791887223681299833479\n",
    "```\n",
    "\n",
    "The total risk of this path is `315` (the starting position is still never entered, so its risk is not counted).\n",
    "\n",
    "Using the full map, **what is the lowest total risk of any path from the top left to the bottom right?**"
   ]
  },
  {
   "cell_type": "code",
   "execution_count": 20,
   "id": "bd1c2945-3d1b-40c6-b0e5-09769d301ec6",
   "metadata": {},
   "outputs": [
    {
     "data": {
      "text/plain": [
       "[Node(x=0, y=49, weight=6, distance_from_start=None),\n",
       " Node(x=1, y=49, weight=7, distance_from_start=None),\n",
       " Node(x=2, y=49, weight=5, distance_from_start=None),\n",
       " Node(x=3, y=49, weight=5, distance_from_start=None),\n",
       " Node(x=4, y=49, weight=4, distance_from_start=None),\n",
       " Node(x=5, y=49, weight=8, distance_from_start=None),\n",
       " Node(x=6, y=49, weight=8, distance_from_start=None),\n",
       " Node(x=7, y=49, weight=9, distance_from_start=None),\n",
       " Node(x=8, y=49, weight=3, distance_from_start=None),\n",
       " Node(x=9, y=49, weight=5, distance_from_start=None),\n",
       " Node(x=10, y=49, weight=7, distance_from_start=None),\n",
       " Node(x=11, y=49, weight=8, distance_from_start=None),\n",
       " Node(x=12, y=49, weight=6, distance_from_start=None),\n",
       " Node(x=13, y=49, weight=6, distance_from_start=None),\n",
       " Node(x=14, y=49, weight=5, distance_from_start=None),\n",
       " Node(x=15, y=49, weight=9, distance_from_start=None),\n",
       " Node(x=16, y=49, weight=9, distance_from_start=None),\n",
       " Node(x=17, y=49, weight=1, distance_from_start=None),\n",
       " Node(x=18, y=49, weight=4, distance_from_start=None),\n",
       " Node(x=19, y=49, weight=6, distance_from_start=None),\n",
       " Node(x=20, y=49, weight=8, distance_from_start=None),\n",
       " Node(x=21, y=49, weight=9, distance_from_start=None),\n",
       " Node(x=22, y=49, weight=7, distance_from_start=None),\n",
       " Node(x=23, y=49, weight=7, distance_from_start=None),\n",
       " Node(x=24, y=49, weight=6, distance_from_start=None),\n",
       " Node(x=25, y=49, weight=1, distance_from_start=None),\n",
       " Node(x=26, y=49, weight=1, distance_from_start=None),\n",
       " Node(x=27, y=49, weight=2, distance_from_start=None),\n",
       " Node(x=28, y=49, weight=5, distance_from_start=None),\n",
       " Node(x=29, y=49, weight=7, distance_from_start=None),\n",
       " Node(x=30, y=49, weight=9, distance_from_start=None),\n",
       " Node(x=31, y=49, weight=1, distance_from_start=None),\n",
       " Node(x=32, y=49, weight=8, distance_from_start=None),\n",
       " Node(x=33, y=49, weight=8, distance_from_start=None),\n",
       " Node(x=34, y=49, weight=7, distance_from_start=None),\n",
       " Node(x=35, y=49, weight=2, distance_from_start=None),\n",
       " Node(x=36, y=49, weight=2, distance_from_start=None),\n",
       " Node(x=37, y=49, weight=3, distance_from_start=None),\n",
       " Node(x=38, y=49, weight=6, distance_from_start=None),\n",
       " Node(x=39, y=49, weight=8, distance_from_start=None),\n",
       " Node(x=40, y=49, weight=1, distance_from_start=None),\n",
       " Node(x=41, y=49, weight=2, distance_from_start=None),\n",
       " Node(x=42, y=49, weight=9, distance_from_start=None),\n",
       " Node(x=43, y=49, weight=9, distance_from_start=None),\n",
       " Node(x=44, y=49, weight=8, distance_from_start=None),\n",
       " Node(x=45, y=49, weight=3, distance_from_start=None),\n",
       " Node(x=46, y=49, weight=3, distance_from_start=None),\n",
       " Node(x=47, y=49, weight=4, distance_from_start=None),\n",
       " Node(x=48, y=49, weight=7, distance_from_start=None),\n",
       " Node(x=49, y=49, weight=9, distance_from_start=None)]"
      ]
     },
     "execution_count": 20,
     "metadata": {},
     "output_type": "execute_result"
    }
   ],
   "source": [
    "def load_input_ex2(filepath='./data/input_test.txt'):\n",
    "    node_map = []\n",
    "    base_map = []\n",
    "    with open('%s' % (filepath, ), 'r') as input_f:\n",
    "        input_lines = input_f.read().splitlines()\n",
    "        \n",
    "        input_max_x = len(input_lines[0])\n",
    "        input_max_y = len(input_lines)\n",
    "        max_x = len(input_lines[0]) * 5\n",
    "        max_y = len(input_lines) * 5\n",
    "        \n",
    "        # Extract polymer\n",
    "        polymer = input_lines[0]\n",
    "        \n",
    "        # Extract insertion rules\n",
    "        for line_number in range(0, input_max_y):\n",
    "            node_line = []\n",
    "            base_node_line = []\n",
    "            for column_number in range(0, input_max_x):\n",
    "                node = Node(column_number, line_number, input_lines[line_number][column_number], max_x, max_y)\n",
    "                node_line.append(node)\n",
    "                base_node_line.append(node)\n",
    "                \n",
    "            for i in range(1, 5):\n",
    "                for base_node in base_node_line:\n",
    "                    new_weight = base_node.weight + i\n",
    "                    if new_weight > 9:\n",
    "                        new_weight -= 9\n",
    "                    \n",
    "                    node = Node(base_node.x + input_max_x * i, base_node.y, new_weight, max_x, max_y)\n",
    "                    node_line.append(node)\n",
    "                \n",
    "            node_map.append(node_line)\n",
    "            base_map.append(node_line)\n",
    "            \n",
    "        for i in range(1, 5):\n",
    "            for base_line in base_map:\n",
    "                node_line = []\n",
    "                for base_node in base_line:\n",
    "                    new_weight = base_node.weight + i\n",
    "                    if new_weight > 9:\n",
    "                        new_weight -= 9\n",
    "                    \n",
    "                    node = Node(base_node.x, base_node.y + input_max_y * i, new_weight, max_x, max_y)\n",
    "                    node_line.append(node)\n",
    "\n",
    "                node_map.append(node_line)\n",
    "    \n",
    "    return node_map\n",
    "\n",
    "node_map = load_input_ex2()\n",
    "node_map[49]"
   ]
  },
  {
   "cell_type": "code",
   "execution_count": 21,
   "id": "b16f4879-31b1-418a-8ec5-da6880088d29",
   "metadata": {},
   "outputs": [
    {
     "data": {
      "text/plain": [
       "1"
      ]
     },
     "execution_count": 21,
     "metadata": {},
     "output_type": "execute_result"
    }
   ],
   "source": [
    "VALUES = [0, 1, 2, 3, 4, 5, 6, 7, 8, 9]\n",
    "10 - 9"
   ]
  },
  {
   "cell_type": "code",
   "execution_count": 22,
   "id": "4184f90e-c933-4618-a207-b51a80b34b72",
   "metadata": {},
   "outputs": [
    {
     "data": {
      "text/plain": [
       "Node(x=499, y=499, weight=9, distance_from_start=2879)"
      ]
     },
     "execution_count": 22,
     "metadata": {},
     "output_type": "execute_result"
    }
   ],
   "source": [
    "node_map = load_input_ex2('./data/input.txt')\n",
    "shortest_path(node_map)\n",
    "node_map[len(node_map) - 1][len(node_map[0]) - 1]"
   ]
  },
  {
   "cell_type": "markdown",
   "id": "6ae61bc5-e976-4867-8716-20e40966da2d",
   "metadata": {},
   "source": [
    "Your puzzle answer was 2879."
   ]
  }
 ],
 "metadata": {
  "kernelspec": {
   "display_name": "Python 3 (ipykernel)",
   "language": "python",
   "name": "python3"
  },
  "language_info": {
   "codemirror_mode": {
    "name": "ipython",
    "version": 3
   },
   "file_extension": ".py",
   "mimetype": "text/x-python",
   "name": "python",
   "nbconvert_exporter": "python",
   "pygments_lexer": "ipython3",
   "version": "3.9.9"
  }
 },
 "nbformat": 4,
 "nbformat_minor": 5
}
