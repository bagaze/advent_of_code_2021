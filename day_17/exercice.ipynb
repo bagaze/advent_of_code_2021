{
 "cells": [
  {
   "cell_type": "markdown",
   "id": "017b4c29-b2e4-4985-958b-8fc9ae5e888a",
   "metadata": {},
   "source": [
    "# Day 17: Trick Shot"
   ]
  },
  {
   "cell_type": "markdown",
   "id": "3841d814-729d-4199-aeb3-0e2fdcb85ae4",
   "metadata": {},
   "source": [
    "## Part one"
   ]
  },
  {
   "cell_type": "markdown",
   "id": "2224046e-a3fd-4f39-a994-97dd8de6396b",
   "metadata": {},
   "source": [
    "You finally decode the Elves' message. `HI`, the message says. You continue searching for the sleigh keys.\n",
    "\n",
    "Ahead of you is what appears to be a large [ocean trench](https://en.wikipedia.org/wiki/Oceanic_trench). Could the keys have fallen into it? You'd better send a probe to investigate.\n",
    "\n",
    "The probe launcher on your submarine can fire the probe with any [integer](https://en.wikipedia.org/wiki/Integer) velocity in the `x` (forward) and `y` (upward, or downward if negative) directions. For example, an initial `x,y` velocity like `0,10` would fire the probe straight up, while an initial velocity like `10,-1` would fire the probe forward at a slight downward angle.\n",
    "\n",
    "The probe's `x,y` position starts at `0,0`. Then, it will follow some trajectory by moving in **steps**. On each step, these changes occur in the following order:\n",
    "\n",
    "- The probe's `x` position increases by its `x` velocity.\n",
    "- The probe's `y` position increases by its `y` velocity.\n",
    "- Due to drag, the probe's `x` velocity changes by 1 toward the value `0`; that is, it decreases by `1` if it is greater than `0`, increases by `1` if it is less than `0`, or does not change if it is already `0`.\n",
    "- Due to gravity, the probe's y velocity decreases by `1`.\n",
    "\n",
    "For the probe to successfully make it into the trench, the probe must be on some trajectory that causes it to be within a **target area** after any step. The submarine computer has already calculated this target area (your puzzle input). For example:\n",
    "\n",
    "```\n",
    "target area: x=20..30, y=-10..-5\n",
    "```\n",
    "\n",
    "This target area means that you need to find initial `x,y` velocity values such that after any step, the probe's `x` position is at least `20` and at most `30`, **and** the probe's y position is at least `-10` and at most `-5`.\n",
    "\n",
    "Given this target area, one initial velocity that causes the probe to be within the target area after any step is `7,2`:\n",
    "\n",
    "```\n",
    ".............#....#............\n",
    ".......#..............#........\n",
    "...............................\n",
    "S........................#.....\n",
    "...............................\n",
    "...............................\n",
    "...........................#...\n",
    "...............................\n",
    "....................TTTTTTTTTTT\n",
    "....................TTTTTTTTTTT\n",
    "....................TTTTTTTT#TT\n",
    "....................TTTTTTTTTTT\n",
    "....................TTTTTTTTTTT\n",
    "....................TTTTTTTTTTT\n",
    "```\n",
    "\n",
    "In this diagram, `S` is the probe's initial position, `0,0`. The `x` coordinate increases to the right, and the y coordinate increases upward. In the bottom right, positions that are within the target area are shown as `T`. After each step (until the target area is reached), the position of the probe is marked with `#`. (The bottom-right `#` is both a position the probe reaches and a position in the target area.)\n",
    "\n",
    "Another initial velocity that causes the probe to be within the target area after any step is `6,3`:\n",
    "\n",
    "```\n",
    "...............#..#............\n",
    "...........#........#..........\n",
    "...............................\n",
    "......#..............#.........\n",
    "...............................\n",
    "...............................\n",
    "S....................#.........\n",
    "...............................\n",
    "...............................\n",
    "...............................\n",
    ".....................#.........\n",
    "....................TTTTTTTTTTT\n",
    "....................TTTTTTTTTTT\n",
    "....................TTTTTTTTTTT\n",
    "....................TTTTTTTTTTT\n",
    "....................T#TTTTTTTTT\n",
    "....................TTTTTTTTTTT\n",
    "```\n",
    "\n",
    "Another one is `9,0`:\n",
    "\n",
    "```\n",
    "S........#.....................\n",
    ".................#.............\n",
    "...............................\n",
    "........................#......\n",
    "...............................\n",
    "....................TTTTTTTTTTT\n",
    "....................TTTTTTTTTT#\n",
    "....................TTTTTTTTTTT\n",
    "....................TTTTTTTTTTT\n",
    "....................TTTTTTTTTTT\n",
    "....................TTTTTTTTTTT\n",
    "```\n",
    "\n",
    "One initial velocity that **doesn't** cause the probe to be within the target area after any step is `17,-4`:\n",
    "\n",
    "```\n",
    "S..............................................................\n",
    "...............................................................\n",
    "...............................................................\n",
    "...............................................................\n",
    ".................#.............................................\n",
    "....................TTTTTTTTTTT................................\n",
    "....................TTTTTTTTTTT................................\n",
    "....................TTTTTTTTTTT................................\n",
    "....................TTTTTTTTTTT................................\n",
    "....................TTTTTTTTTTT..#.............................\n",
    "....................TTTTTTTTTTT................................\n",
    "...............................................................\n",
    "...............................................................\n",
    "...............................................................\n",
    "...............................................................\n",
    "................................................#..............\n",
    "...............................................................\n",
    "...............................................................\n",
    "...............................................................\n",
    "...............................................................\n",
    "...............................................................\n",
    "...............................................................\n",
    "..............................................................#\n",
    "```\n",
    "\n",
    "The probe appears to pass through the target area, but is never within it after any step. Instead, it continues down and to the right - only the first few steps are shown.\n",
    "\n",
    "If you're going to fire a highly scientific probe out of a super cool probe launcher, you might as well do it with **style**. How high can you make the probe go while still reaching the target area?\n",
    "\n",
    "In the above example, using an initial velocity of `6,9` is the best you can do, causing the probe to reach a maximum y position of **`45`**. (Any higher initial `y` velocity causes the probe to overshoot the target area entirely.)\n",
    "\n",
    "Find the initial velocity that causes the probe to reach the highest `y` position and still eventually be within the target area after any step. **What is the highest `y` position it reaches on this trajectory?**"
   ]
  },
  {
   "cell_type": "code",
   "execution_count": 1,
   "id": "702a945b-6e48-4cc9-9db1-bd345569ef23",
   "metadata": {},
   "outputs": [
    {
     "name": "stdout",
     "output_type": "stream",
     "text": [
      "x1: 20, x2: 30, y1: -10, y2: -5\n"
     ]
    }
   ],
   "source": [
    "import re\n",
    "\n",
    "EXTRACT_REGEX = '^target area: x=(\\-*[0-9]+)\\.\\.(\\-*[0-9]+), y=(\\-*[0-9]+)\\.\\.(\\-*[0-9]+)$'\n",
    "\n",
    "def load_input(filepath='./data/input_test.txt'):\n",
    "    node_map = []\n",
    "    m = None\n",
    "    with open(f'{filepath}', 'r') as input_f:\n",
    "        input_content = input_f.read()\n",
    "        m = re.search(EXTRACT_REGEX, input_content)\n",
    "        \n",
    "    return int(m.group(1)), int(m.group(2)), int(m.group(3)), int(m.group(4))\n",
    "\n",
    "square = load_input()\n",
    "print(f'x1: {square[0]}, x2: {square[1]}, y1: {square[2]}, y2: {square[3]}')"
   ]
  },
  {
   "cell_type": "code",
   "execution_count": 2,
   "id": "66786ff3-ac90-49ba-9c74-6d4d807f5c7e",
   "metadata": {},
   "outputs": [
    {
     "data": {
      "text/plain": [
       "False"
      ]
     },
     "execution_count": 2,
     "metadata": {},
     "output_type": "execute_result"
    }
   ],
   "source": [
    "def is_in_square(position, square):\n",
    "    x, y = position\n",
    "    x1_square, x2_square, y1_square, y2_square = square\n",
    "    \n",
    "    return (x >= x1_square) and (x <= x2_square) and (y >= y1_square) and (y <= y2_square)\n",
    "\n",
    "def has_missed_square(position, square):\n",
    "    return (position[0] > square[1]) or (position[1] < square[2])\n",
    "\n",
    "square = load_input()\n",
    "is_in_square([25, -11], square)\n",
    "has_missed_square([1, 1], square)"
   ]
  },
  {
   "cell_type": "code",
   "execution_count": 3,
   "id": "e938c357-e298-442d-8611-9246ea379f15",
   "metadata": {},
   "outputs": [
    {
     "data": {
      "text/plain": [
       "(False, [[0, 0], [8, 2], [15, 3], [21, 3], [26, 2], [30, 0], [33, -3]])"
      ]
     },
     "execution_count": 3,
     "metadata": {},
     "output_type": "execute_result"
    }
   ],
   "source": [
    "def trick_shot(velocity, square):\n",
    "    positions = [[0, 0]]\n",
    "    current_velo_x, current_velo_y = velocity\n",
    "    \n",
    "    while (not is_in_square(positions[-1], square)) and (not has_missed_square(positions[-1], square)):\n",
    "        new_position_x = positions[-1][0] + current_velo_x\n",
    "        new_position_y = positions[-1][1] + current_velo_y\n",
    "        positions.append([new_position_x, new_position_y])\n",
    "        current_velo_y -= 1\n",
    "        \n",
    "        if current_velo_x > 0:\n",
    "            current_velo_x -= 1\n",
    "            \n",
    "    return is_in_square(positions[-1], square), positions\n",
    "\n",
    "square = load_input()\n",
    "trick_shot([8, 2], square)"
   ]
  },
  {
   "cell_type": "code",
   "execution_count": 4,
   "id": "d6e8bb44-f3cd-4da2-a31a-ac699f163ab8",
   "metadata": {},
   "outputs": [
    {
     "data": {
      "text/plain": [
       "(True,\n",
       " [[0, 0],\n",
       "  [6, 9],\n",
       "  [11, 17],\n",
       "  [15, 24],\n",
       "  [18, 30],\n",
       "  [20, 35],\n",
       "  [21, 39],\n",
       "  [21, 42],\n",
       "  [21, 44],\n",
       "  [21, 45],\n",
       "  [21, 45],\n",
       "  [21, 44],\n",
       "  [21, 42],\n",
       "  [21, 39],\n",
       "  [21, 35],\n",
       "  [21, 30],\n",
       "  [21, 24],\n",
       "  [21, 17],\n",
       "  [21, 9],\n",
       "  [21, 0],\n",
       "  [21, -10]])"
      ]
     },
     "execution_count": 4,
     "metadata": {},
     "output_type": "execute_result"
    }
   ],
   "source": [
    "def best_trick_shot(max_range, square):\n",
    "    best_trick_shot = [0, 0]\n",
    "\n",
    "    for x in range(0, max_range):\n",
    "        for y in range(0, max_range):\n",
    "            in_square, positions = trick_shot([x, y], square)\n",
    "\n",
    "            if in_square and y > best_trick_shot[1]:\n",
    "                best_trick_shot = [x, y]\n",
    "                \n",
    "    return best_trick_shot\n",
    "\n",
    "square = load_input()\n",
    "trick_shot(best_trick_shot(100, square), square)"
   ]
  },
  {
   "cell_type": "code",
   "execution_count": 5,
   "id": "aafeb227-9472-44b3-b327-ef041e35642d",
   "metadata": {},
   "outputs": [
    {
     "data": {
      "text/plain": [
       "35511"
      ]
     },
     "execution_count": 5,
     "metadata": {},
     "output_type": "execute_result"
    }
   ],
   "source": [
    "from functools import reduce\n",
    "\n",
    "square = load_input('./data/input.txt')\n",
    "_, t_shot = trick_shot(best_trick_shot(500, square), square)\n",
    "map_y = list(map(lambda x: x[1], t_shot))\n",
    "max_height = reduce(lambda a, b: a if a > b else b, map_y)\n",
    "max_height"
   ]
  },
  {
   "cell_type": "markdown",
   "id": "a21badd2-8268-46b0-9e43-c6cd6bdaefe0",
   "metadata": {},
   "source": [
    "Your puzzle answer was `35511`."
   ]
  },
  {
   "cell_type": "markdown",
   "id": "757d3c6c-40a5-48ee-93cc-33dd074f514d",
   "metadata": {},
   "source": [
    "## Part two"
   ]
  },
  {
   "cell_type": "markdown",
   "id": "ef828a2c-9191-4a07-accb-1ed092197e98",
   "metadata": {},
   "source": [
    "Maybe a fancy trick shot isn't the best idea; after all, you only have one probe, so you had better not miss.\n",
    "\n",
    "To get the best idea of what your options are for launching the probe, you need to find **every initial velocity** that causes the probe to eventually be within the target area after any step.\n",
    "\n",
    "In the above example, there are *`112`* different initial velocity values that meet these criteria:\n",
    "\n",
    "```\n",
    "23,-10  25,-9   27,-5   29,-6   22,-6   21,-7   9,0     27,-7   24,-5\n",
    "25,-7   26,-6   25,-5   6,8     11,-2   20,-5   29,-10  6,3     28,-7\n",
    "8,0     30,-6   29,-8   20,-10  6,7     6,4     6,1     14,-4   21,-6\n",
    "26,-10  7,-1    7,7     8,-1    21,-9   6,2     20,-7   30,-10  14,-3\n",
    "20,-8   13,-2   7,3     28,-8   29,-9   15,-3   22,-5   26,-8   25,-8\n",
    "25,-6   15,-4   9,-2    15,-2   12,-2   28,-9   12,-3   24,-6   23,-7\n",
    "25,-10  7,8     11,-3   26,-7   7,1     23,-9   6,0     22,-10  27,-6\n",
    "8,1     22,-8   13,-4   7,6     28,-6   11,-4   12,-4   26,-9   7,4\n",
    "24,-10  23,-8   30,-8   7,0     9,-1    10,-1   26,-5   22,-9   6,5\n",
    "7,5     23,-6   28,-10  10,-2   11,-1   20,-9   14,-2   29,-7   13,-3\n",
    "23,-5   24,-8   27,-9   30,-7   28,-5   21,-10  7,9     6,6     21,-5\n",
    "27,-10  7,2     30,-9   21,-8   22,-7   24,-9   20,-6   6,9     29,-5\n",
    "8,-2    27,-8   30,-5   24,-7\n",
    "```\n",
    "\n",
    "**How many distinct initial velocity values cause the probe to be within the target area after any step?**"
   ]
  },
  {
   "cell_type": "code",
   "execution_count": 6,
   "id": "81ea2048-880d-4ce4-b71f-f72f7e7b6651",
   "metadata": {
    "tags": []
   },
   "outputs": [
    {
     "data": {
      "text/plain": [
       "112"
      ]
     },
     "execution_count": 6,
     "metadata": {},
     "output_type": "execute_result"
    }
   ],
   "source": [
    "def all_shots(min_range, max_range, square):\n",
    "    all_shots = []\n",
    "\n",
    "    for x in range(min_range, max_range):\n",
    "        for y in range(min_range, max_range):\n",
    "            in_square, positions = trick_shot([x, y], square)\n",
    "\n",
    "            if in_square:\n",
    "                all_shots.append([x, y])\n",
    "                \n",
    "    return all_shots\n",
    "\n",
    "square = load_input()\n",
    "len(all_shots(-100, 100, square))"
   ]
  },
  {
   "cell_type": "code",
   "execution_count": 7,
   "id": "bb3c816c-6983-447e-aaa7-c9b204d228a7",
   "metadata": {},
   "outputs": [
    {
     "data": {
      "text/plain": [
       "112"
      ]
     },
     "execution_count": 7,
     "metadata": {},
     "output_type": "execute_result"
    }
   ],
   "source": [
    "def nb_correct_shots(square):\n",
    "    nb_correct_shots = 0\n",
    "    \n",
    "    y_max = max(abs(square[2]), abs(square[3]))\n",
    "\n",
    "    for x in range(square[1] + 1):\n",
    "        for y in range(-y_max, y_max):\n",
    "            in_square, positions = trick_shot([x, y], square)\n",
    "\n",
    "            nb_correct_shots += int(in_square)\n",
    "                \n",
    "    return nb_correct_shots\n",
    "\n",
    "square = load_input()\n",
    "nb_correct_shots(square)"
   ]
  },
  {
   "cell_type": "code",
   "execution_count": 8,
   "id": "393d19b2-5983-45c7-aca7-a64e93bd4835",
   "metadata": {},
   "outputs": [
    {
     "data": {
      "text/plain": [
       "3282"
      ]
     },
     "execution_count": 8,
     "metadata": {},
     "output_type": "execute_result"
    }
   ],
   "source": [
    "square = load_input('./data/input.txt')\n",
    "nb_correct_shots(square)"
   ]
  },
  {
   "cell_type": "markdown",
   "id": "53424ace-2a46-4593-8121-e2239566efe4",
   "metadata": {},
   "source": [
    "Your puzzle answer was `3282`."
   ]
  }
 ],
 "metadata": {
  "kernelspec": {
   "display_name": "Python 3 (ipykernel)",
   "language": "python",
   "name": "python3"
  },
  "language_info": {
   "codemirror_mode": {
    "name": "ipython",
    "version": 3
   },
   "file_extension": ".py",
   "mimetype": "text/x-python",
   "name": "python",
   "nbconvert_exporter": "python",
   "pygments_lexer": "ipython3",
   "version": "3.9.9"
  }
 },
 "nbformat": 4,
 "nbformat_minor": 5
}
